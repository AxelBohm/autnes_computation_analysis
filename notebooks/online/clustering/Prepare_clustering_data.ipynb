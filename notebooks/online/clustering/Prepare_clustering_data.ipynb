{
 "cells": [
  {
   "cell_type": "code",
   "execution_count": 1,
   "id": "fe689d7e-bc06-420d-938a-0efdf29212c8",
   "metadata": {},
   "outputs": [],
   "source": [
    "import sys\n",
    "\n",
    "sys.path.insert(0, '../utils/')\n",
    "import numpy as np\n",
    "import pandas as pd\n",
    "from utils_clustering import back_from_dummies, prettify_feature_names, tag_immigration"
   ]
  },
  {
   "cell_type": "markdown",
   "id": "f1fce0b2-3533-42f1-bd51-e9f087779fa5",
   "metadata": {
    "hideCode": false,
    "hidePrompt": false
   },
   "source": [
    "# Preparation"
   ]
  },
  {
   "cell_type": "markdown",
   "id": "983ec3c0-30b9-4c35-9983-48b932ae8bf2",
   "metadata": {},
   "source": [
    "Here we performed the initial steps to prepare data particularly for unsupervised machine learning exploration in order to cluster people to groups depending on their opinions about political questions"
   ]
  },
  {
   "cell_type": "code",
   "execution_count": 2,
   "id": "945f9922-7cde-4ad7-86e2-0f303052f5e2",
   "metadata": {
    "hideCode": false,
    "hidePrompt": false,
    "scrolled": true
   },
   "outputs": [],
   "source": [
    "# load all data\n",
    "waves = ['1', '2', '3', '4', '5', '6']\n",
    "df = dict()\n",
    "for wave in waves:\n",
    "    df[wave] = pd.read_csv(f'../../../data/processed/data_online_political_w{wave}.csv')\n",
    "    # make ID the index so people can be identified uniquely across waves\n",
    "    df[wave].index = df[wave]['id']"
   ]
  },
  {
   "cell_type": "markdown",
   "id": "2fa6034f-31db-4990-b2d3-fef68433505e",
   "metadata": {
    "hideCode": false,
    "hidePrompt": false
   },
   "source": [
    "## Check question"
   ]
  },
  {
   "cell_type": "markdown",
   "id": "bc4f7c84-6512-4dd8-ac4c-1cc866f55e65",
   "metadata": {
    "hideCode": false,
    "hidePrompt": false
   },
   "source": [
    "First, we begin by removing the participants who answered the *check questions* incorrectly. For simplicity we exclude those people completely (meaning for all waves) even if they did answer correctly at a later wave.\n",
    "\n",
    "The two *check questions* are `w2_q24x5` and `w1_q27x5`, meaning that such questions were only asked in wave $1$ and $2$."
   ]
  },
  {
   "cell_type": "code",
   "execution_count": 3,
   "id": "f90b42cb-7766-45f5-9d76-a28fe1a0b9fd",
   "metadata": {
    "hideCode": false,
    "hidePrompt": false,
    "scrolled": true
   },
   "outputs": [],
   "source": [
    "check_question_correct = {}\n",
    "for wave in ['1', '2']:\n",
    "    check_question_correct[wave] = df[wave]['check_question'] == 1\n",
    "    df[wave] = df[wave].loc[check_question_correct[wave], :]\n",
    "    df[wave] = df[wave].drop('check_question', axis='columns')\n",
    "\n",
    "correct_w1 = check_question_correct['1']\n",
    "correct_w2 = check_question_correct['2']"
   ]
  },
  {
   "cell_type": "code",
   "execution_count": 4,
   "id": "d36304f6-632a-408b-81d4-369f26c762eb",
   "metadata": {
    "hideCode": false,
    "hidePrompt": false,
    "scrolled": true
   },
   "outputs": [
    {
     "name": "stdout",
     "output_type": "stream",
     "text": [
      "The number of people who answered one of the check questions incorrectly is 1207.\n"
     ]
    }
   ],
   "source": [
    "print(f'The number of people who answered one of the check questions incorrectly \\\n",
    "is {np.sum(~correct_w1)+np.sum(~correct_w2)}.')"
   ]
  },
  {
   "cell_type": "markdown",
   "id": "84d51424-de7c-471b-9609-d5b4a551494f",
   "metadata": {
    "hideCode": false,
    "hidePrompt": false
   },
   "source": [
    "To be precise we are counting participants who answered both questions incorrectly twice, so the number might be a bit inflated."
   ]
  },
  {
   "cell_type": "markdown",
   "id": "04cb5f53-3a29-4a7c-a9f5-2bcc2ec1dc8f",
   "metadata": {
    "hideCode": false,
    "hidePrompt": false
   },
   "source": [
    "## Remove no shows\n",
    "\n",
    "If people participated only in a single wave we cannot study their opinion over time so we remove them right away. "
   ]
  },
  {
   "cell_type": "code",
   "execution_count": 5,
   "id": "6d5333b8-eac8-4508-ae8c-cacead1ef2e0",
   "metadata": {
    "hideCode": false,
    "hidePrompt": false,
    "scrolled": true
   },
   "outputs": [],
   "source": [
    "for wave in waves:\n",
    "    df[wave] = df[wave].loc[df[wave]['participated_only_once'] != 1, :]"
   ]
  },
  {
   "cell_type": "markdown",
   "id": "27cef952-be43-4967-b343-b8680472f6b7",
   "metadata": {
    "hideCode": false,
    "hidePrompt": false
   },
   "source": [
    "## Opinion questions *only*"
   ]
  },
  {
   "cell_type": "code",
   "execution_count": 6,
   "id": "e7198d0b-0bb5-49a0-bf9d-0b247f2bc7d0",
   "metadata": {},
   "outputs": [
    {
     "data": {
      "text/plain": [
       "'\\ndef get_more_questions(df):\\n    \"\"\"add questions like self-placement or whom one would vote for, thus also opinions, \\n    but not that explicit, including other options to respond\"\"\"\\n    markers_ = [\\'TRUST: THE\\', #e.g. government, police, EU \\n           \\'PTV\\', \\n           \\'LIKE-DISLIKE\\',\\n           \\'ASSESSMENT OF POLIT. SITUATION\\',\\n           \\'ASSESSMENT - COMPETENCE\\', \\n           \\'ASSESSMENT - CHARISMA\\', \\n           \\'PREFERRED COALITION\\',\\n           #\\'DAYS PER WEEK\\', #e.g. social media, papers - tends to be the most important ones, but groups are unstable\\n           \\'ACTIVITY SOCIAL NETWORKS\\',\\n           \\'ASSESSMENT GOOD/BAD JOB\\',\\n           \\'INFORMATION ON POLITICAL EVENTS\\',\\n           \\'PARTY ASSOCIATED WITH\\',\\n           \\'POLITICAL PARTICIPATION\\',\\n           \\'MOST COMPETENT PARTY\\',\\n           \\'IMPORTANT ISSUE\\',\\n           \\'TOO MANY STATE BENEFITS\\',\\n           \\'INTEREST IN NEWS\\',\\n           \\'GOVERNMENT FORMATION\\',\\n           \\'CAMPAIGN: ATTACKED OPPONENTS THE MOST\\']\\n    new_questions = [question for question in df.columns if any(marker in question for marker in markers_)]\\n    for question in new_questions:\\n        df = df.rename(columns={question: f\\'new: {question}\\'})\\n    return df\\n'"
      ]
     },
     "execution_count": 6,
     "metadata": {},
     "output_type": "execute_result"
    }
   ],
   "source": [
    "'''\n",
    "def get_more_questions(df):\n",
    "    \"\"\"add questions like self-placement or whom one would vote for, thus also opinions, \n",
    "    but not that explicit, including other options to respond\"\"\"\n",
    "    markers_ = ['TRUST: THE', #e.g. government, police, EU \n",
    "           'PTV', \n",
    "           'LIKE-DISLIKE',\n",
    "           'ASSESSMENT OF POLIT. SITUATION',\n",
    "           'ASSESSMENT - COMPETENCE', \n",
    "           'ASSESSMENT - CHARISMA', \n",
    "           'PREFERRED COALITION',\n",
    "           #'DAYS PER WEEK', #e.g. social media, papers - tends to be the most important ones, but groups are unstable\n",
    "           'ACTIVITY SOCIAL NETWORKS',\n",
    "           'ASSESSMENT GOOD/BAD JOB',\n",
    "           'INFORMATION ON POLITICAL EVENTS',\n",
    "           'PARTY ASSOCIATED WITH',\n",
    "           'POLITICAL PARTICIPATION',\n",
    "           'MOST COMPETENT PARTY',\n",
    "           'IMPORTANT ISSUE',\n",
    "           'TOO MANY STATE BENEFITS',\n",
    "           'INTEREST IN NEWS',\n",
    "           'GOVERNMENT FORMATION',\n",
    "           'CAMPAIGN: ATTACKED OPPONENTS THE MOST']\n",
    "    new_questions = [question for question in df.columns if any(marker in question for marker in markers_)]\n",
    "    for question in new_questions:\n",
    "        df = df.rename(columns={question: f'new: {question}'})\n",
    "    return df\n",
    "'''"
   ]
  },
  {
   "cell_type": "code",
   "execution_count": 7,
   "id": "ae870e9a-d072-410e-9b81-a89f21a7af61",
   "metadata": {
    "cell_style": "center",
    "hideCode": false,
    "hidePrompt": false,
    "hide_input": false,
    "scrolled": true
   },
   "outputs": [],
   "source": [
    "df_opinion = {}\n",
    "party_choice = {}\n",
    "left_right = {}\n",
    "for wave in waves:\n",
    "    df_opinion[wave] = df[wave].filter(like='OPINION: ', axis=1)\n",
    "    df_opinion[wave] = prettify_feature_names(df_opinion[wave])\n",
    "    df_opinion[wave] = tag_immigration(df_opinion[wave])\n",
    "    party_choice[wave] = df[wave].filter(like='PARTY CHOICE: PROSPECTIVE', axis=1)\n",
    "    # continious scale of self right-left placement (for waves 2-4 there is no such a question/most values are NaN\n",
    "    # so we use altertative question: PREFERRED COALITION: OEVP-FPOE\n",
    "    if wave in {'2', '3', '4'}:\n",
    "        left_right[wave] = df[wave].filter(like='PREFERRED COALITION: OEVP-FPOE', axis=1)\n",
    "        left_right[wave].columns = ['Preferred coalition OEVP-FPOE']\n",
    "    else:\n",
    "        left_right[wave] = df[wave].filter(like='LEFT-RIGHT SELF-PLACEMENT -w', axis=1)\n",
    "        left_right[wave].columns = ['Left-right self-placement']\n",
    "        \n",
    "    if wave in {'1', '2', '3', '4'}:\n",
    "        party_choice[wave] = df[wave].filter(like='PARTY CHOICE: PROSPECTIVE', axis=1)\n",
    "        party_choice[wave] = back_from_dummies(party_choice[wave])\n",
    "        party_choice[wave].columns = ['PARTY CHOICE: PROSPECTIVE']\n",
    "        party_choice[wave]['PARTY CHOICE: PROSPECTIVE'] = pd.to_numeric(party_choice[wave]['PARTY CHOICE: PROSPECTIVE'])\n",
    "        party_choice[wave].replace({1: 'SPOE', 2: \"List Sebastian Kurz: OEVP\",\n",
    "                                                  3: 'FPOE', 4: 'The Greens', 5: 'NEOS',\n",
    "                                                  6: 'Team Stronach', 11: 'other party',\n",
    "                                                  12: \"will vote invalid\", 88: \"don't know\", 99: \"refused\"}, inplace=True)"
   ]
  }
 ],
 "metadata": {
  "hide_input": false,
  "kernelspec": {
   "display_name": "Python 3",
   "language": "python",
   "name": "python3"
  },
  "language_info": {
   "codemirror_mode": {
    "name": "ipython",
    "version": 3
   },
   "file_extension": ".py",
   "mimetype": "text/x-python",
   "name": "python",
   "nbconvert_exporter": "python",
   "pygments_lexer": "ipython3",
   "version": "3.8.8"
  },
  "toc": {
   "base_numbering": 1,
   "nav_menu": {},
   "number_sections": true,
   "sideBar": true,
   "skip_h1_title": false,
   "title_cell": "Table of Contents",
   "title_sidebar": "Contents",
   "toc_cell": false,
   "toc_position": {},
   "toc_section_display": true,
   "toc_window_display": false
  },
  "varInspector": {
   "cols": {
    "lenName": 16,
    "lenType": 16,
    "lenVar": 40
   },
   "kernels_config": {
    "python": {
     "delete_cmd_postfix": "",
     "delete_cmd_prefix": "del ",
     "library": "var_list.py",
     "varRefreshCmd": "print(var_dic_list())"
    },
    "r": {
     "delete_cmd_postfix": ") ",
     "delete_cmd_prefix": "rm(",
     "library": "var_list.r",
     "varRefreshCmd": "cat(var_dic_list()) "
    }
   },
   "types_to_exclude": [
    "module",
    "function",
    "builtin_function_or_method",
    "instance",
    "_Feature"
   ],
   "window_display": false
  }
 },
 "nbformat": 4,
 "nbformat_minor": 5
}
