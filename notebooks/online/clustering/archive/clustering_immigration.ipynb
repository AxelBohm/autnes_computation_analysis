{
 "cells": [
  {
   "cell_type": "markdown",
   "id": "17e9a916",
   "metadata": {
    "toc": true
   },
   "source": [
    "<h1>Table of Contents<span class=\"tocSkip\"></span></h1>\n",
    "<div class=\"toc\"><ul class=\"toc-item\"><li><span><a href=\"#Prepare-data\" data-toc-modified-id=\"Prepare-data-1\"><span class=\"toc-item-num\">1&nbsp;&nbsp;</span>Prepare data</a></span></li><li><span><a href=\"#Compare-methods\" data-toc-modified-id=\"Compare-methods-2\"><span class=\"toc-item-num\">2&nbsp;&nbsp;</span>Compare methods</a></span></li><li><span><a href=\"#Analyze-clustering\" data-toc-modified-id=\"Analyze-clustering-3\"><span class=\"toc-item-num\">3&nbsp;&nbsp;</span>Analyze clustering</a></span></li><li><span><a href=\"#Is-our-clustering-stable-across-waves?\" data-toc-modified-id=\"Is-our-clustering-stable-across-waves?-4\"><span class=\"toc-item-num\">4&nbsp;&nbsp;</span>Is our clustering stable across waves?</a></span></li><li><span><a href=\"#Soft-Clustering-(Fuzzy-K-means)\" data-toc-modified-id=\"Soft-Clustering-(Fuzzy-K-means)-5\"><span class=\"toc-item-num\">5&nbsp;&nbsp;</span>Soft Clustering (Fuzzy K-means)</a></span></li><li><span><a href=\"#consistency-regarding-only-continuous-(repeated-in-different-waves)-questions\" data-toc-modified-id=\"consistency-regarding-only-continuous-(repeated-in-different-waves)-questions-6\"><span class=\"toc-item-num\">6&nbsp;&nbsp;</span>consistency regarding only continuous (repeated in different waves) questions</a></span><ul class=\"toc-item\"><li><span><a href=\"#Deviations-for-the-same-opinion-questions-across-the-waves\" data-toc-modified-id=\"Deviations-for-the-same-opinion-questions-across-the-waves-6.1\"><span class=\"toc-item-num\">6.1&nbsp;&nbsp;</span>Deviations for the same opinion questions across the waves</a></span></li><li><span><a href=\"#Checking-consistency-of-confidently-clustered-samples-among-the-same-questions-in-different-waves\" data-toc-modified-id=\"Checking-consistency-of-confidently-clustered-samples-among-the-same-questions-in-different-waves-6.2\"><span class=\"toc-item-num\">6.2&nbsp;&nbsp;</span>Checking consistency of confidently clustered samples among the same questions in different waves</a></span></li></ul></li></ul></div>"
   ]
  },
  {
   "cell_type": "markdown",
   "id": "dc24c2a0",
   "metadata": {
    "hideCode": false,
    "hidePrompt": false,
    "hide_input": false,
    "tags": []
   },
   "source": [
    "# Clustering\n",
    "\n",
    "Initially we looked at correlation between features and noticed that the largest ones (in terms of magnitude) appeared amongst the **opinion** question. So the question arose\n",
    "> Can we group participants into two classes based on their political opinion?\n"
   ]
  },
  {
   "cell_type": "code",
   "execution_count": 1,
   "id": "0f9563d2",
   "metadata": {
    "hideCode": false,
    "hidePrompt": false,
    "scrolled": true,
    "tags": []
   },
   "outputs": [
    {
     "name": "stdout",
     "output_type": "stream",
     "text": [
      "This application is used to convert notebook files (*.ipynb) to various other\n",
      "formats.\n",
      "\n",
      "WARNING: THE COMMANDLINE INTERFACE MAY CHANGE IN FUTURE RELEASES.\n",
      "\n",
      "Options\n",
      "=======\n",
      "The options below are convenience aliases to configurable class-options,\n",
      "as listed in the \"Equivalent to\" description-line of the aliases.\n",
      "To see all configurable class-options for some <cmd>, use:\n",
      "    <cmd> --help-all\n",
      "\n",
      "--debug\n",
      "    set log level to logging.DEBUG (maximize logging output)\n",
      "    Equivalent to: [--Application.log_level=10]\n",
      "--generate-config\n",
      "    generate default config file\n",
      "    Equivalent to: [--JupyterApp.generate_config=True]\n",
      "-y\n",
      "    Answer yes to any questions instead of prompting.\n",
      "    Equivalent to: [--JupyterApp.answer_yes=True]\n",
      "--execute\n",
      "    Execute the notebook prior to export.\n",
      "    Equivalent to: [--ExecutePreprocessor.enabled=True]\n",
      "--allow-errors\n",
      "    Continue notebook execution even if one of the cells throws an error and include the error message in the cell output (the default behaviour is to abort conversion). This flag is only relevant if '--execute' was specified, too.\n",
      "    Equivalent to: [--ExecutePreprocessor.allow_errors=True]\n",
      "--stdin\n",
      "    read a single notebook file from stdin. Write the resulting notebook with default basename 'notebook.*'\n",
      "    Equivalent to: [--NbConvertApp.from_stdin=True]\n",
      "--stdout\n",
      "    Write notebook output to stdout instead of files.\n",
      "    Equivalent to: [--NbConvertApp.writer_class=StdoutWriter]\n",
      "--inplace\n",
      "    Run nbconvert in place, overwriting the existing notebook (only \n",
      "    relevant when converting to notebook format)\n",
      "    Equivalent to: [--NbConvertApp.use_output_suffix=False --NbConvertApp.export_format=notebook --FilesWriter.build_directory=]\n",
      "--clear-output\n",
      "    Clear output of current file and save in place, \n",
      "    overwriting the existing notebook.\n",
      "    Equivalent to: [--NbConvertApp.use_output_suffix=False --NbConvertApp.export_format=notebook --FilesWriter.build_directory= --ClearOutputPreprocessor.enabled=True]\n",
      "--no-prompt\n",
      "    Exclude input and output prompts from converted document.\n",
      "    Equivalent to: [--TemplateExporter.exclude_input_prompt=True --TemplateExporter.exclude_output_prompt=True]\n",
      "--no-input\n",
      "    Exclude input cells and output prompts from converted document. \n",
      "    This mode is ideal for generating code-free reports.\n",
      "    Equivalent to: [--TemplateExporter.exclude_output_prompt=True --TemplateExporter.exclude_input=True]\n",
      "--allow-chromium-download\n",
      "    Whether to allow downloading chromium if no suitable version is found on the system.\n",
      "    Equivalent to: [--WebPDFExporter.allow_chromium_download=True]\n",
      "--log-level=<Enum>\n",
      "    Set the log level by value or name.\n",
      "    Choices: any of [0, 10, 20, 30, 40, 50, 'DEBUG', 'INFO', 'WARN', 'ERROR', 'CRITICAL']\n",
      "    Default: 30\n",
      "    Equivalent to: [--Application.log_level]\n",
      "--config=<Unicode>\n",
      "    Full path of a config file.\n",
      "    Default: ''\n",
      "    Equivalent to: [--JupyterApp.config_file]\n",
      "--to=<Unicode>\n",
      "    The export format to be used, either one of the built-in formats\n",
      "    ['PDFviaHTML', 'asciidoc', 'custom', 'hide_code_html', 'hide_code_latex',\n",
      "    'hide_code_latexpdf', 'hide_code_pdf', 'hide_code_slides', 'html',\n",
      "    'html_ch', 'html_embed', 'html_toc', 'html_with_lenvs',\n",
      "    'html_with_toclenvs', 'latex', 'latex_with_lenvs', 'markdown', 'notebook',\n",
      "    'pdf', 'pdfviahtml', 'python', 'rst', 'script', 'selectLanguage', 'slides',\n",
      "    'slides_with_lenvs', 'webpdf'] or a dotted object name that represents the\n",
      "    import path for an `Exporter` class\n",
      "    Default: ''\n",
      "    Equivalent to: [--NbConvertApp.export_format]\n",
      "--template=<Unicode>\n",
      "    Name of the template to use\n",
      "    Default: ''\n",
      "    Equivalent to: [--TemplateExporter.template_name]\n",
      "--template-file=<Unicode>\n",
      "    Name of the template file to use\n",
      "    Default: None\n",
      "    Equivalent to: [--TemplateExporter.template_file]\n",
      "--writer=<DottedObjectName>\n",
      "    Writer class used to write the  results of the conversion\n",
      "    Default: 'FilesWriter'\n",
      "    Equivalent to: [--NbConvertApp.writer_class]\n",
      "--post=<DottedOrNone>\n",
      "    PostProcessor class used to write the results of the conversion\n",
      "    Default: ''\n",
      "    Equivalent to: [--NbConvertApp.postprocessor_class]\n",
      "--output=<Unicode>\n",
      "    overwrite base name use for output files. can only be used when converting\n",
      "    one notebook at a time.\n",
      "    Default: ''\n",
      "    Equivalent to: [--NbConvertApp.output_base]\n",
      "--output-dir=<Unicode>\n",
      "    Directory to write output(s) to. Defaults to output to the directory of each\n",
      "    notebook. To recover previous default behaviour (outputting to the current\n",
      "    working directory) use . as the flag value.\n",
      "    Default: ''\n",
      "    Equivalent to: [--FilesWriter.build_directory]\n",
      "--reveal-prefix=<Unicode>\n",
      "    The URL prefix for reveal.js (version 3.x). This defaults to the reveal CDN,\n",
      "    but can be any url pointing to a copy  of reveal.js.\n",
      "    For speaker notes to work, this must be a relative path to a local  copy of\n",
      "    reveal.js: e.g., \"reveal.js\".\n",
      "    If a relative path is given, it must be a subdirectory of the current\n",
      "    directory (from which the server is run).\n",
      "    See the usage documentation\n",
      "    (https://nbconvert.readthedocs.io/en/latest/usage.html#reveal-js-html-\n",
      "    slideshow) for more details.\n",
      "    Default: ''\n",
      "    Equivalent to: [--SlidesExporter.reveal_url_prefix]\n",
      "--nbformat=<Enum>\n",
      "    The nbformat version to write. Use this to downgrade notebooks.\n",
      "    Choices: any of [1, 2, 3, 4]\n",
      "    Default: 4\n",
      "    Equivalent to: [--NotebookExporter.nbformat_version]\n",
      "\n",
      "Examples\n",
      "--------\n",
      "\n",
      "    The simplest way to use nbconvert is\n",
      "    \n",
      "    > jupyter nbconvert mynotebook.ipynb --to html\n",
      "    \n",
      "    Options include ['PDFviaHTML', 'asciidoc', 'custom', 'hide_code_html', 'hide_code_latex', 'hide_code_latexpdf', 'hide_code_pdf', 'hide_code_slides', 'html', 'html_ch', 'html_embed', 'html_toc', 'html_with_lenvs', 'html_with_toclenvs', 'latex', 'latex_with_lenvs', 'markdown', 'notebook', 'pdf', 'pdfviahtml', 'python', 'rst', 'script', 'selectLanguage', 'slides', 'slides_with_lenvs', 'webpdf'].\n",
      "    \n",
      "    > jupyter nbconvert --to latex mynotebook.ipynb\n",
      "    \n",
      "    Both HTML and LaTeX support multiple output templates. LaTeX includes\n",
      "    'base', 'article' and 'report'.  HTML includes 'basic' and 'full'. You\n",
      "    can specify the flavor of the format used.\n",
      "    \n",
      "    > jupyter nbconvert --to html --template lab mynotebook.ipynb\n",
      "    \n",
      "    You can also pipe the output to stdout, rather than a file\n",
      "    \n",
      "    > jupyter nbconvert mynotebook.ipynb --stdout\n",
      "    \n",
      "    PDF is generated via latex\n",
      "    \n",
      "    > jupyter nbconvert mynotebook.ipynb --to pdf\n",
      "    \n",
      "    You can get (and serve) a Reveal.js-powered slideshow\n",
      "    \n",
      "    > jupyter nbconvert myslides.ipynb --to slides --post serve\n",
      "    \n",
      "    Multiple notebooks can be given at the command line in a couple of \n",
      "    different ways:\n",
      "    \n",
      "    > jupyter nbconvert notebook*.ipynb\n",
      "    > jupyter nbconvert notebook1.ipynb notebook2.ipynb\n",
      "    \n",
      "    or you can specify the notebooks list in a config file, containing::\n",
      "    \n",
      "        c.NbConvertApp.notebooks = [\"my_notebook.ipynb\"]\n",
      "    \n",
      "    > jupyter nbconvert --config mycfg.py\n",
      "\n",
      "To see all available configurables, use `--help-all`.\n",
      "\n"
     ]
    },
    {
     "name": "stderr",
     "output_type": "stream",
     "text": [
      "[NbConvertApp] WARNING | pattern 'dictionaries_rename.ipynb' matched no files\n",
      "usage: jupyter-nbconvert [-h] [--debug] [--generate-config] [-y] [--execute]\n",
      "                         [--allow-errors] [--stdin] [--stdout] [--inplace]\n",
      "                         [--clear-output] [--no-prompt] [--no-input]\n",
      "                         [--allow-chromium-download]\n",
      "                         [--log-level NbConvertApp.log_level]\n",
      "                         [--config NbConvertApp.config_file]\n",
      "                         [--to NbConvertApp.export_format]\n",
      "                         [--template TemplateExporter.template_name]\n",
      "                         [--template-file TemplateExporter.template_file]\n",
      "                         [--writer NbConvertApp.writer_class]\n",
      "                         [--post NbConvertApp.postprocessor_class]\n",
      "                         [--output NbConvertApp.output_base]\n",
      "                         [--output-dir FilesWriter.build_directory]\n",
      "                         [--reveal-prefix SlidesExporter.reveal_url_prefix]\n",
      "                         [--nbformat NotebookExporter.nbformat_version]\n",
      "                         [extra_args [extra_args ...]]\n",
      "jupyter-nbconvert: error: unrecognized arguments: Helper_functions.ipynb\n"
     ]
    }
   ],
   "source": [
    "import sys\n",
    "sys.path.insert(0, '../helpers')\n",
    "\n",
    "from sklearn.neighbors import NearestNeighbors\n",
    "from sklearn.decomposition import PCA, KernelPCA\n",
    "from sklearn import cluster, metrics, mixture\n",
    "from scipy.spatial.distance import cdist\n",
    "from PIL import Image\n",
    "import ipywidgets as widgets\n",
    "from ipywidgets import interact, interact_manual  # , interactive\n",
    "from IPython.display import display, clear_output\n",
    "from dictionaries_rename import *\n",
    "from Helper_functions import *\n",
    "import pylab\n",
    "from itertools import repeat\n",
    "import csv\n",
    "import warnings\n",
    "from collections import Counter\n",
    "import skfuzzy as fuzz\n",
    "import matplotlib.pyplot as plt\n",
    "import numpy as np\n",
    "import pandas as pd\n",
    "import seaborn as sns\n",
    "from matplotlib.colors import LinearSegmentedColormap\n",
    "\n",
    "warnings.filterwarnings('ignore')\n",
    "\n",
    "pd.set_option('display.max_colwidth', None)\n",
    "pd.set_option(\"display.precision\", 2)\n",
    "%matplotlib inline"
   ]
  },
  {
   "cell_type": "markdown",
   "id": "9112a975-27af-4e74-8549-59a96c219bc9",
   "metadata": {},
   "source": [
    "## Prepare data"
   ]
  },
  {
   "cell_type": "code",
   "execution_count": 2,
   "id": "fa91f5fd-ece9-46ef-85fb-e79860224087",
   "metadata": {
    "scrolled": true
   },
   "outputs": [
    {
     "name": "stdout",
     "output_type": "stream",
     "text": [
      "The number of people who answered one of the check questions incorrectly is 1207.\n"
     ]
    }
   ],
   "source": [
    "%run Prepare_clustering_data.ipynb"
   ]
  },
  {
   "cell_type": "code",
   "execution_count": 3,
   "id": "4ccf3337",
   "metadata": {},
   "outputs": [],
   "source": [
    "# filtering questions containing only immigration related tag, excluding wave 6 as there are no immigration questions (like 1 or 2 samples)\n",
    "waves = ['1', '2', '3', '4', '5']\n",
    "for wave in waves:\n",
    "    df_opinion[wave] = df_opinion[wave].filter(like='im', axis=1)"
   ]
  },
  {
   "cell_type": "markdown",
   "id": "addd8e85-c91d-4486-88c6-14dfc749a489",
   "metadata": {
    "tags": []
   },
   "source": [
    "## Compare methods"
   ]
  },
  {
   "cell_type": "markdown",
   "id": "2dbf9dde-81b2-41bd-977d-353cd422af0a",
   "metadata": {},
   "source": [
    "In this section we investigated different clustering methods performance (with Kmeans being the most efficient one) and tried to obtain the most optimal number of clusters (which eventually is 2). For more details, see [Compare_clustering_methods notebook](./Compare_clustering_methods.ipynb)"
   ]
  },
  {
   "cell_type": "markdown",
   "id": "d7725510",
   "metadata": {
    "hideCode": false,
    "hidePrompt": false
   },
   "source": [
    "## Analyze clustering"
   ]
  },
  {
   "cell_type": "markdown",
   "id": "44f794ca",
   "metadata": {
    "hideCode": false,
    "hidePrompt": false
   },
   "source": [
    "We use the Kmeans algorithm since it performed the best in the previous evaluations. This method not only compute a clustering but also a *centroid* for every cluster and the distance of every point to those centers. Every point will simply be assigned to the centroid to which it has this smallest distance. If the distance of a point to its centroid is much smaller than its distance to the other centroid we tend to be more confident in it's assignment. So we compute quotient of the distances to the two centroids. Next we compute the median of all quotients of all points in a class and call the closest half *close* and the half that is further away than this median *far*."
   ]
  },
  {
   "cell_type": "code",
   "execution_count": 4,
   "id": "cb74ee90",
   "metadata": {
    "hideCode": false,
    "hidePrompt": false
   },
   "outputs": [],
   "source": [
    "def add_closeness_label(df, n):\n",
    "    \"\"\"Given a clustering in a dataframe decide for every point whether it is \n",
    "    close of far from its centroid. This should reflect the confidence with \n",
    "    which the point is assinged to its cluster.\"\"\"\n",
    "\n",
    "    df['Distance'] = np.NaN\n",
    "    for lab in range(n):\n",
    "        df_lab = df.loc[df.Label == lab]\n",
    "        threshold = df_lab['quotient'].quantile(.8)\n",
    "\n",
    "        # ideally if the quotient is NaN (i.e. person didn't participate in this wave)\n",
    "        # the label should be NaN, but for this to work we still have to change the\n",
    "        # later code.\n",
    "        df.loc[df.Label == lab, 'Distance'] = df_lab['quotient'].apply(\n",
    "            lambda x: 'Far from centroid' if x > threshold else 'Close to centroid')\n",
    "\n",
    "    return df\n",
    "\n",
    "\n",
    "def compute_clusters(X, n):\n",
    "    \"\"\"Clusters dataset into n groups and additionally asigns every point a label \n",
    "    depending on whether it is 'close' and 'far' from centroid,\n",
    "    hoping that close ones are clustered more confidently\n",
    "\n",
    "    :return:\n",
    "    - df_clusters: a dataframe with colums consisting of index being the index of X (id of the\n",
    "                participant) and columns `Label` for the assined cluster as well as `quotient` \n",
    "                which is the ratio of distance to the closest and the fartest centroid.\n",
    "    - centroids: a list of the coordinates of the `n` centroids.\n",
    "\n",
    "    \"\"\"\n",
    "\n",
    "    kmeans = cluster.KMeans(n_clusters=n, random_state=42).fit(X)\n",
    "    X_dist = kmeans.transform(X)\n",
    "    quotient = X_dist.min(axis=1)/X_dist.max(axis=1)\n",
    "    df_cluster = pd.DataFrame(quotient, columns=['quotient'])\n",
    "    df_cluster.index = X.index\n",
    "    df_cluster['Label'] = kmeans.labels_\n",
    "    centroids = kmeans.cluster_centers_\n",
    "\n",
    "    df = add_closeness_label(df_cluster, n)\n",
    "\n",
    "    return df, centroids"
   ]
  },
  {
   "cell_type": "markdown",
   "id": "08c1f6d6",
   "metadata": {
    "hideCode": false,
    "hidePrompt": false
   },
   "source": [
    "For illustration purposes we also compute a principal component analysis (PCA) of all the opinion question which allows us to visualize the obtained clustering and centroids in a lower dimensional space."
   ]
  },
  {
   "cell_type": "code",
   "execution_count": 5,
   "id": "0df6253c",
   "metadata": {
    "hideCode": false,
    "hidePrompt": false
   },
   "outputs": [],
   "source": [
    "def compute_PCA(df, centroids):\n",
    "    \"\"\"Compute PCA of opinion questions and transform data and centroids into new \n",
    "    coordinate system.\"\"\"\n",
    "\n",
    "    # 2 components for 2D visualization\n",
    "    pca = PCA(n_components=2)\n",
    "    pca.fit(df)\n",
    "\n",
    "    # show how much information our components contain\n",
    "    explained_variance = pd.DataFrame(pca.explained_variance_ratio_).T\n",
    "\n",
    "    # obtain data transformed into 2 dimensions for illustration purposes\n",
    "    df_pc = pd.DataFrame(pca.transform(df))\n",
    "    df_pc.columns = ['1st component', '2nd component']\n",
    "    df_pc.index = df.index\n",
    "\n",
    "    # centroid coordinates for illustration / filtering confidently assigned samples\n",
    "    centroids_pc = pca.transform(centroids)\n",
    "\n",
    "    return df_pc, centroids_pc, explained_variance, pca.components_"
   ]
  },
  {
   "cell_type": "markdown",
   "id": "1b47799a",
   "metadata": {
    "hideCode": false,
    "hidePrompt": false
   },
   "source": [
    "Additionally, for every question we compute the average strength of agreement for people of the same cluster and compare these values between the groups. We only list here the subset of question with the largest difference in agreement between the two groups."
   ]
  },
  {
   "cell_type": "code",
   "execution_count": 6,
   "id": "420e8179",
   "metadata": {},
   "outputs": [],
   "source": [
    "def sort_by_absolute_val(df, column):\n",
    "    \"\"\"Sort df column by descending order in terms of the absolute value.\"\"\"\n",
    "    df = df.reindex(df[column]\n",
    "                    .abs()\n",
    "                    .sort_values(ascending=False)\n",
    "                    .index)\n",
    "    return df"
   ]
  },
  {
   "cell_type": "code",
   "execution_count": 7,
   "id": "d4ed5d0e-d847-4c66-8d9e-dc37dc841f34",
   "metadata": {
    "scrolled": true
   },
   "outputs": [],
   "source": [
    "def waves_to_switch(df, wave):\n",
    "    \"\"\"in order to compare cluster assignment stability we would\n",
    "    like to be sure that labels assigned have the same magnitude\n",
    "    (otherwise the same cluster might have label 1 for one wave and\n",
    "    label 0 for another one\"\"\"\n",
    "\n",
    "    if wave == str(2):\n",
    "        if df.loc['im: FEELING LIKE A STRANGER DUE TO THE MANY MUSLIMS ', 'Difference'] > 0:\n",
    "            print(f'Switch label signs for wave: {wave}')\n",
    "            return wave\n",
    "    else:\n",
    "        if df.loc['im: CRIME RATES INCREASE IN AUSTRIA BECAUSE OF IMMIGRANTS ', 'Difference'] > 0:\n",
    "            print(f'Switch label signs for wave: {wave}')\n",
    "            return wave"
   ]
  },
  {
   "cell_type": "code",
   "execution_count": 8,
   "id": "b7f2ec46",
   "metadata": {
    "hideCode": false,
    "hidePrompt": false
   },
   "outputs": [],
   "source": [
    "def compute_cluster_differences(df, wave):\n",
    "    \"\"\"Computes for both classes the average agreement for the different questions\"\"\"\n",
    "\n",
    "    df_cluster_means = df.groupby(['Label']).mean().T\n",
    "    differences = (\n",
    "        df_cluster_means[0]-df_cluster_means[1]).sort_values(ascending=False)\n",
    "    strongest_differences = pd.DataFrame(differences)\n",
    "    strongest_differences.columns = ['Difference']\n",
    "\n",
    "    strongest_differences = strongest_differences[~strongest_differences.index.duplicated(\n",
    "    )]\n",
    "\n",
    "    strongest_differences = sort_by_absolute_val(\n",
    "        strongest_differences, 'Difference')\n",
    "    wave_to_switch = waves_to_switch(strongest_differences, wave)\n",
    "\n",
    "    return strongest_differences, wave_to_switch"
   ]
  },
  {
   "cell_type": "code",
   "execution_count": 9,
   "id": "88513fbd",
   "metadata": {
    "scrolled": true
   },
   "outputs": [],
   "source": [
    "def find_max_differences(df, wave):\n",
    "    \"\"\"Computes mean opinions among classes,\n",
    "    as well as standart deviation, prints 10 questions with the largest distance\n",
    "    from mean among classes in descending order\n",
    "\n",
    "    :input: \n",
    "    - df with opinions for each sample and every question merged with cluster labels. \n",
    "    - wave.\n",
    "\n",
    "    :return:\n",
    "    - df with the questions (as indexes), which contribute to the largest difference \n",
    "            between mean value of cluster $j$ and mean of means of other clusters. \n",
    "            Questions are sorted in descending order. Mean value of cluster $j$, then its difference \n",
    "            from other 3 clusters and std are provided in columns.\n",
    "\n",
    "    \"\"\"\n",
    "\n",
    "    # compute mean and std for every cluster\n",
    "    opinion_stats = df.groupby(['Label']).mean().T\n",
    "    opinion_std = df.groupby(['Label']).std().T\n",
    "    opinion_std.columns = [str(i) + '_std' for i in opinion_std.columns]\n",
    "    labels_number = len(Counter(df.Label))\n",
    "\n",
    "    # find the difference of mean inside cluster from the mean of the three out-of-class means\n",
    "    for label in range(labels_number):\n",
    "        opinion_stats['diff_mean' +\n",
    "                      str(label)] = opinion_stats[label] - opinion_stats.drop(label, axis=1).mean(axis=1)\n",
    "\n",
    "    opinion_stats = pd.concat([opinion_stats, opinion_std], axis=1)\n",
    "    # sort the most important factors by abs value of difference (with sign remain unchanged eventually)\n",
    "    opinion_stats_sorted_all = {}\n",
    "    for label in range(labels_number):\n",
    "        # opinion_stats_sorted = opinion_stats.sort_values(\n",
    "        #    by='diff_mean'+str(label), ascending=False)\n",
    "\n",
    "        # exclude label column to compute difference with other means\n",
    "        for other_class_label in range(labels_number):\n",
    "            opinion_stats[f'diff_means{other_class_label}'] = opinion_stats[other_class_label] - \\\n",
    "                opinion_stats[label]\n",
    "\n",
    "        opinion_stats_sorted = sort_by_absolute_val(\n",
    "            opinion_stats, f'diff_mean{label}')\n",
    "\n",
    "        # renaming 0,1,2,3 to mean_0 etc\n",
    "        opinion_stats_sorted.columns.values[[0, 1, 2, 3]] = [\n",
    "            'mean_0', 'mean_1', 'mean_2', 'mean_3']\n",
    "\n",
    "        # drop cols with differences of mean_j and mean_j (with 0 entries)\n",
    "        opinion_stats_sorted = opinion_stats_sorted.loc[:, (opinion_stats_sorted != 0).any(\n",
    "            axis=0)]\n",
    "\n",
    "        mean_inside_cluster = opinion_stats_sorted.filter(\n",
    "            like=f'mean_{label}', axis=1)\n",
    "        differences_out = opinion_stats_sorted.filter(\n",
    "            like='diff_means', axis=1)\n",
    "        std_all = opinion_stats_sorted.filter(like='std', axis=1)\n",
    "        info_to_display = pd.concat(\n",
    "            [mean_inside_cluster, differences_out, std_all], axis=1)\n",
    "        opinion_stats_sorted_all[label] = info_to_display[:5]\n",
    "    return opinion_stats_sorted_all"
   ]
  },
  {
   "cell_type": "code",
   "execution_count": 10,
   "id": "315c5abe",
   "metadata": {},
   "outputs": [],
   "source": [
    "def sort_eigenvec(eigen_vec, feature_names):\n",
    "    \"\"\"\n",
    "    Finds features that explain the most variance.\n",
    "\n",
    "    :input:\n",
    "    eigenv_vec: An eigenvalue computed by PCA.\n",
    "    feature_names: The list of opinion questions.\n",
    "\n",
    "    :return:\n",
    "    Create df which contains the single given eigenvalue. \n",
    "    Every component of which corresponds to a question. Additionally sort the \n",
    "    rows in such a way that the ones with larges absolute \n",
    "    value are on top.\n",
    "    \"\"\"\n",
    "\n",
    "    df = pd.DataFrame(eigen_vec, index=feature_names,\n",
    "                      columns=['Eigenvector coefficients'])\n",
    "    df = sort_by_absolute_val(df, 'Eigenvector coefficients')\n",
    "\n",
    "    return df"
   ]
  },
  {
   "cell_type": "code",
   "execution_count": 11,
   "id": "a21a342f",
   "metadata": {
    "scrolled": true
   },
   "outputs": [],
   "source": [
    "def plot_clustering(df_plot, centroids_transformed, wave):\n",
    "    fig_dims = (12, 8)\n",
    "    # no need to print it anymore due to space constraints, use widget in the next cell\n",
    "    plt.ioff()\n",
    "    fig, ax = plt.subplots(figsize=fig_dims)\n",
    "    scatter = sns.scatterplot(data=df_plot,\n",
    "                              x=df_plot['1st component'], y=df_plot['2nd component'],\n",
    "                              hue=\"Label\", style=\"Distance\", s=80)\n",
    "    centr = sns.scatterplot(centroids_transformed[:, 0], centroids_transformed[:, 1],\n",
    "                            marker='+', color='black', s=300)\n",
    "    n_clusters = df_plot['Label'].nunique()\n",
    "    title = f'Kmeans scatter plot (with PCA), wave {wave}, {n_clusters} clusters'\n",
    "    plt.title(title, size=15)\n",
    "    # save png\n",
    "    save_fig(title)\n",
    "    plt.close()\n",
    "\n",
    "\n",
    "def clustering_each_wave(wave, df, n):\n",
    "    \"\"\"Perform clustering of given wave and compute important quantities through PCA and other methods.\n",
    "\n",
    "    :return:\n",
    "    cluster_w:\n",
    "    all_waves_clustering_info: Contains statistics about the computed clustering.\n",
    "    wave_to_switch: gives insight whether we need to switch cluster labels to compare stability\n",
    "    \"\"\"\n",
    "\n",
    "    # store the results in the nested dict\n",
    "    all_waves_clustering_info = {}\n",
    "\n",
    "    df_cluster, centroids = compute_clusters(df, n)\n",
    "\n",
    "    clustering_info = {}\n",
    "    # compute coordinates with respect to new basis\n",
    "    df_pc, centroids_pc, explained_variance, eigenvectors = compute_PCA(\n",
    "        df, centroids)\n",
    "    clustering_info[f'Explained variance, wave {wave}'] = explained_variance\n",
    "\n",
    "    # get most important features of principle components\n",
    "    clustering_info[f'Important features (PCA), 1 component, w{wave}'] = sort_eigenvec(\n",
    "        eigenvectors[0], df.columns)\n",
    "    clustering_info[f'Important features (PCA), 2 component, w{wave}'] = sort_eigenvec(\n",
    "        eigenvectors[1], df.columns)\n",
    "\n",
    "    # plotting\n",
    "    df_plot = pd.concat([df_pc, df_cluster.Label, df_cluster.Distance], axis=1)\n",
    "    plot_clustering(df_plot, centroids_pc, wave)\n",
    "\n",
    "    # add cluster label column\n",
    "    df = pd.concat([df, df_cluster['Label']], axis=1)\n",
    "\n",
    "    # different functions to obtain the most important factors for different numbers of clusters\n",
    "    if n == 2:\n",
    "        strongest_differences, wave_to_switch = compute_cluster_differences(\n",
    "            df, wave)\n",
    "        clustering_info[\n",
    "            f'The most important factors regarding differences between clusters, w{wave}'] = strongest_differences\n",
    "    else:\n",
    "        opinion_stats_sorted_all = find_max_differences(df, wave)\n",
    "        clustering_info[\n",
    "            f'The most important factors regarding differences between clusters, w{wave}'] = opinion_stats_sorted_all\n",
    "        wave_to_switch = []\n",
    "    cluster_w = df_cluster.drop(columns='quotient')\n",
    "\n",
    "    cluster_w = cluster_w.replace({'Distance':\n",
    "                                   {\"Close to centroid\": 1,\n",
    "                                    \"Far from centroid\": 0}})\n",
    "    cluster_w = cluster_w.rename(\n",
    "        {'Label': f'Label w{wave}', 'Distance': f'Close to centroid w{wave}'}, axis=1)\n",
    "\n",
    "    all_waves_clustering_info[wave] = clustering_info\n",
    "    return cluster_w, all_waves_clustering_info, wave_to_switch"
   ]
  },
  {
   "cell_type": "markdown",
   "id": "dad38aa4-e2ee-44ff-95de-44ace6eb70bf",
   "metadata": {},
   "source": [
    "Execute `clustering_each_wave` for 2 clusters and every wave"
   ]
  },
  {
   "cell_type": "code",
   "execution_count": 12,
   "id": "1887ed44-e75e-4e3c-a1d0-3dbd228e46a0",
   "metadata": {},
   "outputs": [
    {
     "name": "stdout",
     "output_type": "stream",
     "text": [
      "Switch label signs for wave: 1\n",
      "Switch label signs for wave: 2\n",
      "Switch label signs for wave: 4\n",
      "Switch label signs for wave: 5\n"
     ]
    }
   ],
   "source": [
    "df_clustered = pd.DataFrame()\n",
    "all_waves_clustering_info_2 = {}\n",
    "list_to_switch = []\n",
    "for wave in waves:\n",
    "    df_clustered_w, all_waves_clustering_info_2[wave], wave_to_switch = clustering_each_wave(\n",
    "        wave, df_opinion[wave], 2)\n",
    "    list_to_switch.append(wave_to_switch)\n",
    "    df_clustered = pd.concat([df_clustered, df_clustered_w], axis=1)"
   ]
  },
  {
   "cell_type": "markdown",
   "id": "751d5c68",
   "metadata": {},
   "source": [
    "Here it is possible to input values such as wave and number of clusters and get the result without scrolling"
   ]
  },
  {
   "cell_type": "code",
   "execution_count": 13,
   "id": "61ac31b5",
   "metadata": {},
   "outputs": [
    {
     "data": {
      "application/vnd.jupyter.widget-view+json": {
       "model_id": "336917ba10994f2d9f16cc9d96a0fa5c",
       "version_major": 2,
       "version_minor": 0
      },
      "text/plain": [
       "interactive(children=(Dropdown(description='wave', options=('1', '2', '3', '4', '5'), value='1'), Dropdown(des…"
      ]
     },
     "metadata": {},
     "output_type": "display_data"
    }
   ],
   "source": [
    "@interact\n",
    "def play_params_tuning(wave=waves, clusters=[2, 4]):\n",
    "    if clusters == 2:\n",
    "        # looping over nested dicts\n",
    "        wave_dict = all_waves_clustering_info_2[wave]\n",
    "        for key, values in wave_dict.items():\n",
    "            for key_, values_ in values.items():\n",
    "                display(values_[:5].style.set_caption(key_))\n",
    "\n",
    "    else:\n",
    "        # looping over nested dicts\n",
    "        wave_dict = all_waves_clustering_info_4[wave]\n",
    "        for key, values in wave_dict.items():\n",
    "            for key_, values_ in values.items():\n",
    "                if key_ == f'The most important factors regarding differences between clusters, w{wave}':\n",
    "                    for key__, values__ in values_.items():\n",
    "                        display(values__.style.set_properties(\n",
    "                            **{'background-color': '#000066', 'color': 'white'}, subset=[f'mean_{key__}']))\n",
    "                else:\n",
    "                    display(values_[:5].style.set_caption(key_))\n",
    "    myImage = Image.open(\n",
    "        f'../../../figures/clustering_plots/Kmeans scatter plot (with PCA), wave {wave}, {clusters} clusters.png')\n",
    "    new_image = myImage.resize((750, 500))\n",
    "    display(new_image)"
   ]
  },
  {
   "cell_type": "markdown",
   "id": "39de98fb",
   "metadata": {
    "hideCode": false,
    "hidePrompt": false
   },
   "source": [
    "## Is our clustering stable across waves?\n",
    "\n",
    "We start with the following premise:\n",
    "> Political opinions of people in general don't vary much in short periods of time.\n",
    "\n",
    "If this is indeed the case it makes sense to look at our clustering across different waves and check if participants are constantly assigned to the same cluster? It should be noted here that it's not so easy to define what we mean by \"same\" cluster as there are no external labels. However, by looking for example at the question with the biggest difference between the two clusters we can see a clear nationalist-liberal trend and can therefore manually give meaning to the two classes.\n"
   ]
  },
  {
   "cell_type": "code",
   "execution_count": 14,
   "id": "daf53312",
   "metadata": {
    "hideCode": false,
    "hidePrompt": false,
    "scrolled": true
   },
   "outputs": [],
   "source": [
    "def switch_labels(list_to_switch, df):\n",
    "    \"\"\"switch labels 1 and 0 for clusters check cluster consistency\"\"\"\n",
    "    # drop None values, which mean, that no changes of labels needed\n",
    "    list_to_switch = [wave for wave in list_to_switch if wave is not None]\n",
    "    # make signs corresponding\n",
    "    for wave in list_to_switch:\n",
    "        df[f'Label w{wave}'] = abs(df[f'Label w{wave}']-1)\n",
    "    return df"
   ]
  },
  {
   "cell_type": "code",
   "execution_count": 15,
   "id": "3c8b81b4-4aa0-4574-b7f1-c5363eecc922",
   "metadata": {
    "scrolled": true
   },
   "outputs": [],
   "source": [
    "df_clustered = switch_labels(list_to_switch, df_clustered)"
   ]
  },
  {
   "cell_type": "markdown",
   "id": "62e7e0e3",
   "metadata": {
    "hideCode": false,
    "hidePrompt": false
   },
   "source": [
    "For each participant we then compute the `mean` of their respective labels across waves. If they have  been assigned the label $1$ in all waves in which they participated, then the mean is $1$. Analogously for label $0$. If the mean of the labels of a given participant is strictly between $0$ and $1$ this means that they have not been assigned the same group in all waves. The mean being close to $0$ or $1$ indicates that a person has been given the same label *most of the time*.\n",
    "\n",
    "Naturally, we assume that political opinions of people, no matter the topic, are not black or white, but located on a spectrum. People who are located somewhere in the middle might be assigned a different cluster in later waves even if their opinion did not change. For this reason we want to see if the assignment of clusters across waves becomes even more stable if we only consider people that are much closer to their centroid then they are to the other one. In some sense those people are clustered more confidently.\n",
    "\n",
    "On top of that we also want to see whether cluster assignment becomes more stable when we exclude wave 6 as there are no immigration related questions, which are usually the most important ones."
   ]
  },
  {
   "cell_type": "code",
   "execution_count": 16,
   "id": "58f8ca1e-60b2-44f4-980a-433d83bb38b6",
   "metadata": {
    "scrolled": true
   },
   "outputs": [
    {
     "name": "stdout",
     "output_type": "stream",
     "text": [
      "Rate of included participants (close to centroids), wave 1: 0.8%\n",
      "Rate of included participants (close to centroids), wave 2: 0.68%\n",
      "Rate of included participants (close to centroids), wave 3: 0.62%\n",
      "Rate of included participants (close to centroids), wave 4: 0.58%\n",
      "Rate of included participants (close to centroids), wave 5: 0.53%\n"
     ]
    }
   ],
   "source": [
    "df_close = df_clustered.copy()\n",
    "for wave in waves:\n",
    "    df_close = df_close.loc[df_close[f'Close to centroid w{wave}'] != 0]\n",
    "    included_rate = df_close.count(axis=0)[int(\n",
    "        wave)*2-1] / df_clustered.count(axis=0)[int(wave)*2-1]\n",
    "    print(f'Rate of included participants (close to centroids), wave {wave}: ', included_rate.round(\n",
    "        2), '%', sep='')"
   ]
  },
  {
   "cell_type": "markdown",
   "id": "307da3a0-f769-4777-8fea-6ac33a10bd5e",
   "metadata": {},
   "source": [
    "Considering only people which are close to centroids during all waves, we eventually leave only 44% of samples. So we also want to know the picture with all people, who were closely assigned at least once."
   ]
  },
  {
   "cell_type": "code",
   "execution_count": 17,
   "id": "415a9dd9-f39c-4f75-beb6-20dd5c37c0a7",
   "metadata": {},
   "outputs": [
    {
     "name": "stdout",
     "output_type": "stream",
     "text": [
      "(3021, 11)\n",
      "(2645, 5)\n",
      "(2994, 12)\n",
      "(3119, 16)\n",
      "(3026, 12)\n"
     ]
    }
   ],
   "source": [
    "for wave in waves:\n",
    "    print(df_opinion[wave].shape)"
   ]
  },
  {
   "cell_type": "code",
   "execution_count": 18,
   "id": "ecd9a9d0-9397-459e-a57e-9f41e0b9faa1",
   "metadata": {},
   "outputs": [
    {
     "data": {
      "application/vnd.jupyter.widget-view+json": {
       "model_id": "bc4144b41b6346f19fb5f4e4d308d157",
       "version_major": 2,
       "version_minor": 0
      },
      "text/plain": [
       "interactive(children=(Dropdown(description='include', options=('always closely located samples', 'samples clos…"
      ]
     },
     "metadata": {},
     "output_type": "display_data"
    }
   ],
   "source": [
    "%matplotlib inline\n",
    "\n",
    "\n",
    "@interact\n",
    "def f(include=['always closely located samples', 'samples close at least once']):\n",
    "    n_samples = df_clustered.shape[0]\n",
    "    if include == 'always closely located samples':\n",
    "        plot_mean_label(\n",
    "            df_close, 'Label among clusters (close to centroids during all waves of participation)', n_samples)\n",
    "    else:\n",
    "        plot_mean_label(\n",
    "            df_clustered, 'Label among clusters (close to centroids at least once during all waves of participation)', n_samples)"
   ]
  },
  {
   "cell_type": "code",
   "execution_count": null,
   "id": "c0e75c53-7425-4592-b781-4f67a1829c37",
   "metadata": {},
   "outputs": [],
   "source": []
  },
  {
   "cell_type": "code",
   "execution_count": null,
   "id": "8f105e4d-f4b6-4c3c-868c-5447fdf218ad",
   "metadata": {},
   "outputs": [],
   "source": []
  },
  {
   "cell_type": "code",
   "execution_count": null,
   "id": "13ae9f8d-a179-48f1-b35c-4a551a85de7e",
   "metadata": {},
   "outputs": [],
   "source": []
  },
  {
   "cell_type": "markdown",
   "id": "2bc545a0",
   "metadata": {
    "hideCode": false,
    "hidePrompt": false
   },
   "source": [
    "Evidently, most of the people are assigned to the same group all the time."
   ]
  },
  {
   "cell_type": "markdown",
   "id": "5b624e83",
   "metadata": {},
   "source": [
    "## Soft Clustering (Fuzzy K-means)"
   ]
  },
  {
   "cell_type": "code",
   "execution_count": 19,
   "id": "b8c610a7",
   "metadata": {},
   "outputs": [],
   "source": [
    "# Scikit-Fuzzy is a collection of fuzzy logic algorithms intended for use in\n",
    "# the SciPy Stack, written in the Python computing language.\n",
    "# https://pythonhosted.org/scikit-fuzzy/overview.html\n",
    "# !conda install -c conda-forge scikit-fuzzy"
   ]
  },
  {
   "cell_type": "markdown",
   "id": "2fc11b91-4fa9-4493-af52-2c0f934748a9",
   "metadata": {},
   "source": [
    "Soft K-means works similarly to standard K-means, returning not labels, but probabilities for sample to be assigned to each cluster. By tuning the threshold we can select people, who are confidently assigned to some cluster (while in K-means we filtered samples depending on their closeness to centroids). The graph below shows consistency by \"mean label\" among the waves, similarly to plot above."
   ]
  },
  {
   "cell_type": "code",
   "execution_count": 20,
   "id": "fa922f1e",
   "metadata": {},
   "outputs": [
    {
     "data": {
      "application/vnd.jupyter.widget-view+json": {
       "model_id": "c92c229d1fc24fba9de883b5d647c2d5",
       "version_major": 2,
       "version_minor": 0
      },
      "text/plain": [
       "interactive(children=(Dropdown(description='threshold', options=(0.5, 0.65, 0.8, 0.9), value=0.5), Output()), …"
      ]
     },
     "metadata": {},
     "output_type": "display_data"
    }
   ],
   "source": [
    "partition_matrices = pd.DataFrame([])\n",
    "df_confidence_wave = {}\n",
    "for w in waves:\n",
    "    # fitting soft K-means\n",
    "    # https://pythonhosted.org/scikit-fuzzy/api/skfuzzy.cluster.html#cmeans\n",
    "    cntr, u_orig, _, _, _, _, _ = fuzz.cluster.cmeans(\n",
    "        df_opinion[w].T, 2, 1.5, error=0.005, maxiter=1000, seed=42)\n",
    "    # predicting labels\n",
    "    # https://pythonhosted.org/scikit-fuzzy/api/skfuzzy.cluster.html#cmeans-predict\n",
    "    u, u0, d, jm, p, fpc = fuzz.cluster.cmeans_predict(\n",
    "        df_opinion[w].T, cntr, 1.5, error=0.005, maxiter=1000, seed=42)\n",
    "    df_confidence_wave[w] = pd.DataFrame(u.T, columns=[\n",
    "                                         'Confidence cl. 1, w. ' + w, 'Confidence cl. 2, w. ' + w], index=df_opinion[w].index)\n",
    "    partition_matrices = pd.concat(\n",
    "        [partition_matrices, df_confidence_wave[w]], axis=1)\n",
    "\n",
    "\n",
    "@interact\n",
    "def plot_fuzzy(threshold=[0.5, 0.65, 0.8, 0.9]):\n",
    "\n",
    "    # filtering confidently (as p>=threshold for cluster, else NaN) clustered samples,\n",
    "    # replacing probabilities by labels\n",
    "    confident_labels = partition_matrices.filter(\n",
    "        like='Confidence cl. 1', axis=1)\n",
    "\n",
    "    def remap(x):\n",
    "        if x <= (1-threshold):\n",
    "            return 0\n",
    "        elif x > (1-threshold) and x < threshold:\n",
    "            return np.nan\n",
    "        else:\n",
    "            return 1\n",
    "\n",
    "    confident_labels = confident_labels.applymap(remap)\n",
    "    confident_labels.columns = [f'Label w{w}' for w in waves]\n",
    "    # drop rows with NaN labels (which are not confident)\n",
    "    confident_labels = confident_labels.dropna()  # subset=['Label']\n",
    "    list_to_switch = []\n",
    "    # add cluster label column\n",
    "    for w in waves:\n",
    "        soft_label = confident_labels.filter(like=w, axis=1)\n",
    "        soft_label.columns = ['Label']\n",
    "        df_soft_labels = pd.concat([df_opinion[w], soft_label], axis=1)\n",
    "        #excl = df_soft_labels['Label'].isna().sum()/df_clustered.count(axis=0)[int(wave)*2-1]\n",
    "        #print(f'Rate of not confident samples, wave {w}: ', excl.round(2), '%', sep='')\n",
    "        fuzzy_factors, waves_to_switch = compute_cluster_differences(\n",
    "            df_soft_labels, w)\n",
    "        list_to_switch.append(waves_to_switch)\n",
    "    confident_labels = switch_labels(list_to_switch, confident_labels)\n",
    "    mean_cluster = confident_labels.filter(\n",
    "        like='Label w', axis=1).mean(axis=1)\n",
    "    n_samples = df_clustered.shape[0]\n",
    "    print('Rate of those who never flip-flop: ', round(((mean_cluster ==\n",
    "          1).sum()+(mean_cluster == 0).sum())/mean_cluster.shape[0], 2))\n",
    "    print('Samples on the plot: ', round(mean_cluster.shape[0]/n_samples, 2))\n",
    "    sns.displot(data=mean_cluster)\n",
    "    title = 'Soft Kmeans (all samples)'\n",
    "    plt.title(title, size=15)\n",
    "    save_fig(title)"
   ]
  },
  {
   "cell_type": "markdown",
   "id": "3728e581-cd98-4f45-b81e-57493d0df8f1",
   "metadata": {},
   "source": [
    "Not confident samples are those, whose probability to be assigned to any cluster is lower than threshold (e.g. 30% to cluster 0 and 30% to cluster 1 while threshold is 65%)"
   ]
  },
  {
   "cell_type": "markdown",
   "id": "d183d0c0",
   "metadata": {
    "hideCode": false,
    "hidePrompt": false
   },
   "source": [
    "## consistency regarding only continuous (repeated in different waves) questions"
   ]
  },
  {
   "cell_type": "markdown",
   "id": "fb5d1116",
   "metadata": {
    "hideCode": false,
    "hidePrompt": false
   },
   "source": [
    "### Deviations for the same opinion questions across the waves"
   ]
  },
  {
   "cell_type": "code",
   "execution_count": 21,
   "id": "a2480782",
   "metadata": {
    "hideCode": false,
    "hidePrompt": false
   },
   "outputs": [],
   "source": [
    "cols_names = []\n",
    "for wave in waves:\n",
    "    list_wave = df_opinion[wave].columns\n",
    "    cols_names.extend(list_wave)"
   ]
  },
  {
   "cell_type": "code",
   "execution_count": 22,
   "id": "5c264cca",
   "metadata": {
    "hideCode": false,
    "hidePrompt": false
   },
   "outputs": [],
   "source": [
    "def delete_unique(cols_names):\n",
    "    \"\"\"Returns duplicated elements from list as we want only repeated questions\"\"\"\n",
    "    duplicated_cols = [\n",
    "        question for question in cols_names if cols_names.count(question) > 1]\n",
    "    duplicated_cols = list(dict.fromkeys(duplicated_cols))\n",
    "    return duplicated_cols\n",
    "\n",
    "\n",
    "cols_names = delete_unique(cols_names)"
   ]
  },
  {
   "cell_type": "code",
   "execution_count": 23,
   "id": "180b4162",
   "metadata": {
    "hideCode": false,
    "hidePrompt": false
   },
   "outputs": [],
   "source": [
    "# merging all waves opinions into 1 df with all waves to check consisency among the same questions afterwards\n",
    "opinion_all_waves = pd.DataFrame([])\n",
    "for wave in waves:\n",
    "    opinion_all_waves = pd.concat(\n",
    "        [opinion_all_waves, df_opinion[wave]], axis=1)"
   ]
  },
  {
   "cell_type": "code",
   "execution_count": 24,
   "id": "141e3013-5257-4fdf-a9e1-a98ec91fb059",
   "metadata": {
    "scrolled": true
   },
   "outputs": [],
   "source": [
    "def find_deviations(df, cols_names):\n",
    "    \"\"\"creates dataframes for every question, containing only columns with that particular question\n",
    "    with number of cols equal to number of times question was asked among the waves, finds the difference between \n",
    "    max and min opinions\n",
    "\n",
    "    :input: \n",
    "    - merged df with all opinions for all the waves\n",
    "    - names of questions repeated aming different waves at least twice\n",
    "\n",
    "    :return:\n",
    "    - difference between max and min value of opinion\n",
    "\n",
    "    \"\"\"\n",
    "    deviations = pd.DataFrame([])\n",
    "    for question in cols_names:\n",
    "        df_ = df.filter(like=question, axis=1)\n",
    "        # some people answered the question only once, we do not want to include them\n",
    "        # as algorithm will consider them as never deviated, so they are marked as NaN\n",
    "        df_['Number of responces'] = df_.count(axis=1)\n",
    "        df_ = df_.mask(df_['Number of responces'] == 1)\n",
    "        df_.drop(['Number of responces'], axis=1, inplace=True)\n",
    "        df_ = df_.max(axis=1)-df_.min(axis=1)\n",
    "        deviations = pd.concat([deviations, df_], axis=1)\n",
    "    deviations.columns = cols_names\n",
    "    return deviations"
   ]
  },
  {
   "cell_type": "code",
   "execution_count": 25,
   "id": "325fb124-9c77-4cff-ae67-a70b29a32508",
   "metadata": {
    "scrolled": true
   },
   "outputs": [],
   "source": [
    "opinion_deviations = find_deviations(opinion_all_waves, cols_names)"
   ]
  },
  {
   "cell_type": "markdown",
   "id": "8d8b5885-6bf4-44be-b224-fc9e3de70be2",
   "metadata": {},
   "source": [
    "Previously we observed peaks in terms of number of people who significantly changed their opinions for some questions. But when we checked these outliers it turned out, that this is caused by the fact that some questions were asked only once for each person, but during different waves. During preparation step we changed NaN into neutral option (2), which caused peaks for some questions. These questions need to be removed first.\n",
    "\n",
    "P.S. probably we could merge some columns from different waves (but what to do with the most important questions from clustering then?)"
   ]
  },
  {
   "cell_type": "code",
   "execution_count": 26,
   "id": "59335458-f3c7-421b-b755-c6c3602af5a5",
   "metadata": {
    "scrolled": true
   },
   "outputs": [],
   "source": [
    "# get df with initial features codes\n",
    "dict_ordinals = get_ordinal_str_names()\n",
    "dict_ordinals = pd.DataFrame(dict_ordinals.items(), columns=['key', 'fname'])\n",
    "dict_ordinals.index = dict_ordinals['fname']\n",
    "dict_ordinals.drop(['fname'], axis=1, inplace=True)\n",
    "dict_ordinals = dict_ordinals.T\n",
    "dict_ordinals.columns = dict_ordinals.columns.str.split('-w').str[0]"
   ]
  },
  {
   "cell_type": "code",
   "execution_count": 28,
   "id": "7e45b272-2b81-4241-9ce2-d0abda24f44d",
   "metadata": {
    "scrolled": true
   },
   "outputs": [],
   "source": [
    "# check how many NaN questions have, if rate >= 50%, then the question was asked only once, makes no sense to use it for stability check\n",
    "df_init = pd.read_csv('../../../data/df_online.csv')\n",
    "nan_list = []\n",
    "for question in cols_names:\n",
    "    if 'im' in question:\n",
    "        question = question.split('im: ')[1]\n",
    "    codes = (dict_ordinals[question]).values.tolist()[0]\n",
    "    nan_rate = (df_init[codes].isna().sum().sum() /\n",
    "                (df_init[codes].shape[0]*df_init[codes].shape[1]))\n",
    "    nan_list.append(nan_rate)\n",
    "df_nan = pd.DataFrame([nan_list], columns=cols_names, index=['NaN rate']).T\n",
    "df_nan.sort_values(by='NaN rate', ascending=False, inplace=True)"
   ]
  },
  {
   "cell_type": "code",
   "execution_count": 29,
   "id": "73190374-3c8b-4743-a5d6-4b976104f8e3",
   "metadata": {
    "scrolled": true
   },
   "outputs": [
    {
     "data": {
      "text/html": [
       "<div>\n",
       "<style scoped>\n",
       "    .dataframe tbody tr th:only-of-type {\n",
       "        vertical-align: middle;\n",
       "    }\n",
       "\n",
       "    .dataframe tbody tr th {\n",
       "        vertical-align: top;\n",
       "    }\n",
       "\n",
       "    .dataframe thead th {\n",
       "        text-align: right;\n",
       "    }\n",
       "</style>\n",
       "<table border=\"1\" class=\"dataframe\">\n",
       "  <thead>\n",
       "    <tr style=\"text-align: right;\">\n",
       "      <th></th>\n",
       "      <th>NaN rate</th>\n",
       "    </tr>\n",
       "  </thead>\n",
       "  <tbody>\n",
       "    <tr>\n",
       "      <th>im: EUROPEAN AND MUSLIM LIFESTYLE ARE EASILY COMPATIBLE</th>\n",
       "      <td>0.73</td>\n",
       "    </tr>\n",
       "    <tr>\n",
       "      <th>im: FEELING LIKE A STRANGER DUE TO THE MANY MUSLIMS</th>\n",
       "      <td>0.73</td>\n",
       "    </tr>\n",
       "    <tr>\n",
       "      <th>im: ANGRY WHEN MUSLIMS ARE DISCRIMINATED AGAINST BECAUSE OF BELIEFS</th>\n",
       "      <td>0.73</td>\n",
       "    </tr>\n",
       "    <tr>\n",
       "      <th>im: MUSLIMS ARE RARELY DISCRIMINATED AGAINST IN AUSTRIA</th>\n",
       "      <td>0.73</td>\n",
       "    </tr>\n",
       "    <tr>\n",
       "      <th>im: MUSLIMS HAVE FEWER CHANCES IN AUSTRIA</th>\n",
       "      <td>0.73</td>\n",
       "    </tr>\n",
       "  </tbody>\n",
       "</table>\n",
       "</div>"
      ],
      "text/plain": [
       "                                                                      NaN rate\n",
       "im: EUROPEAN AND MUSLIM LIFESTYLE ARE EASILY COMPATIBLE                   0.73\n",
       "im: FEELING LIKE A STRANGER DUE TO THE MANY MUSLIMS                       0.73\n",
       "im: ANGRY WHEN MUSLIMS ARE DISCRIMINATED AGAINST BECAUSE OF BELIEFS       0.73\n",
       "im: MUSLIMS ARE RARELY DISCRIMINATED AGAINST IN AUSTRIA                   0.73\n",
       "im: MUSLIMS HAVE FEWER CHANCES IN AUSTRIA                                 0.73"
      ]
     },
     "metadata": {},
     "output_type": "display_data"
    }
   ],
   "source": [
    "asked_once = df_nan[df_nan['NaN rate'] >= 0.5]\n",
    "asked_once_cols = asked_once.index\n",
    "display(asked_once)"
   ]
  },
  {
   "cell_type": "code",
   "execution_count": 30,
   "id": "5cb18e23-ced4-4b03-bd94-9da66cf13876",
   "metadata": {
    "scrolled": true
   },
   "outputs": [],
   "source": [
    "# drop the above mentioned questions\n",
    "opinion_deviations.drop([asked_once.index][0], axis=1, inplace=True)"
   ]
  },
  {
   "cell_type": "code",
   "execution_count": 31,
   "id": "b213989d-baab-478a-8c95-6a0a3b402e23",
   "metadata": {
    "scrolled": true
   },
   "outputs": [],
   "source": [
    "nans = opinion_deviations.isnull().sum().to_frame()\n",
    "# group deviations by its degrees for each question\n",
    "opinion_deviations = opinion_deviations.apply(pd.value_counts).T\n",
    "opinion_deviations = pd.concat([opinion_deviations, nans], axis=1)\n",
    "opinion_deviations.columns = [0, 1, 2, 3, 4, 'NaN']\n",
    "opinion_deviations.drop('NaN', axis=1, inplace=True)\n",
    "opinion_deviations = opinion_deviations.sort_values(\n",
    "    [4, 3, 2], ascending=(True, True, True)).T\n",
    "# since the questions were not asked always and sometimes number of respondents is vastly different, deviations stats converted into petcentages\n",
    "opinion_deviations = (100. * opinion_deviations /\n",
    "                      opinion_deviations.sum()).round(2)"
   ]
  },
  {
   "cell_type": "code",
   "execution_count": 32,
   "id": "1e75ccca-0140-4e31-ad07-75bb6fee745b",
   "metadata": {},
   "outputs": [
    {
     "data": {
      "image/png": "[encoded data removed]",
      "text/plain": [
       "<Figure size 1080x1440 with 1 Axes>"
      ]
     },
     "metadata": {
      "needs_background": "light"
     },
     "output_type": "display_data"
    }
   ],
   "source": [
    "font_color = '#525252'\n",
    "csfont = {'fontname': 'Calibri'}  # title font\n",
    "hfont = {'fontname': 'Calibri'}  # main font\n",
    "\n",
    "ax = opinion_deviations.T.plot.barh(\n",
    "    align='center', stacked=True, figsize=(15, 20))  # , color='Pastel1'\n",
    "plt.tight_layout()\n",
    "\n",
    "title = plt.title('Deviations in opinions', pad=60,\n",
    "                  fontsize=18, color=font_color, **csfont)\n",
    "\n",
    "# Adjust the subplot so that the title would fit\n",
    "plt.subplots_adjust(top=0.8, left=0.26)\n",
    "\n",
    "for label in (ax.get_xticklabels() + ax.get_yticklabels()):\n",
    "    label.set_fontsize(15)\n",
    "plt.xticks(color=font_color, **hfont)\n",
    "plt.yticks(color=font_color, **hfont)\n",
    "\n",
    "legend = plt.legend(loc='center',\n",
    "                    frameon=False,\n",
    "                    bbox_to_anchor=(0., .97, 1., .102),\n",
    "                    mode='expand',\n",
    "                    ncol=6,\n",
    "                    borderaxespad=-.46,\n",
    "                    prop={'size': 15, 'family': 'Calibri'})\n",
    "\n",
    "for text in legend.get_texts():\n",
    "    plt.setp(text, color=font_color)  # legend font color\n",
    "\n",
    "for p in ax.patches:\n",
    "    width, height = p.get_width(), p.get_height()\n",
    "    x, y = p.get_xy()\n",
    "    ax.text(x+width/2,\n",
    "            y+height/2,\n",
    "            '{:.0f}'.format(width),\n",
    "            horizontalalignment='center',\n",
    "            verticalalignment='center',\n",
    "            color='white',\n",
    "            fontsize=13,\n",
    "            **hfont)"
   ]
  },
  {
   "cell_type": "markdown",
   "id": "37264032",
   "metadata": {
    "hideCode": false,
    "hidePrompt": false
   },
   "source": [
    "### Checking consistency of confidently clustered samples among the same questions in different waves"
   ]
  },
  {
   "cell_type": "markdown",
   "id": "2779c534",
   "metadata": {
    "hideCode": false,
    "hidePrompt": false
   },
   "source": [
    "Next step is to check whether people, which are clustered with certain degree of close distance to centroids, were consistent with their responces among the same questions in different waves. Heatmap below shows std of selected individuals. This was pictured for 'closely located' twice: for those who participated in all waves"
   ]
  },
  {
   "cell_type": "code",
   "execution_count": 33,
   "id": "40bdbda4",
   "metadata": {
    "hideCode": false,
    "hidePrompt": false,
    "scrolled": true,
    "tags": []
   },
   "outputs": [
    {
     "data": {
      "image/png": "[encoded data removed]",
      "text/plain": [
       "<Figure size 1800x360 with 2 Axes>"
      ]
     },
     "metadata": {
      "needs_background": "light"
     },
     "output_type": "display_data"
    }
   ],
   "source": [
    "df_clustered_close = df_clustered\n",
    "\n",
    "# filtering 'confidently' clusteres samples (if they participated in all waves and always were close to centroids)\n",
    "for wave in waves:\n",
    "    df_clustered_close = df_clustered_close.loc[\n",
    "        df_clustered_close[f'Close to centroid w{wave}'] == 1]\n",
    "\n",
    "f, ax = plt.subplots(figsize=(25, 5))\n",
    "# Define colors\n",
    "colors = [\"midnightblue\", \"mediumspringgreen\"]\n",
    "cmap = LinearSegmentedColormap.from_list('Custom', colors, len(colors))\n",
    "df_labels = df_clustered_close.filter(like='Label', axis=1)\n",
    "df_labels['mean_label'] = df_labels.mean(axis=1)\n",
    "df_labels.sort_values(by='mean_label', ascending=False, inplace=True)\n",
    "df_labels.drop(columns=['mean_label'], inplace=True)\n",
    "ax = sns.heatmap(df_labels.T, cmap=cmap)\n",
    "# Set the colorbar labels\n",
    "colorbar = ax.collections[0].colorbar\n",
    "colorbar.set_ticks([0.25, 0.75])\n",
    "colorbar.set_ticklabels(['0', '1'])\n",
    "title = 'Consistency of cluster assignments'\n",
    "plt.title(title, fontsize=15)\n",
    "save_fig(title)"
   ]
  },
  {
   "cell_type": "markdown",
   "id": "b4000cc8",
   "metadata": {
    "hideCode": false,
    "hidePrompt": false
   },
   "source": [
    "Cluster assignment is literally the same for them across the waves. Cluster 6 does not contain any immigration questions (causing the largest differences), therefore it is not possible to adequately compare it with others. However, if we delete immigration opinions to have the same base, that might change."
   ]
  },
  {
   "cell_type": "code",
   "execution_count": 34,
   "id": "1abd236a",
   "metadata": {
    "hideCode": false,
    "hidePrompt": false
   },
   "outputs": [],
   "source": [
    "# convert this notebook to pdf but without the code\n",
    "#!jupyter nbconvert --to pdf --TemplateExporter.exclude_input=True --output-dir=output_pdf clustering.ipynb"
   ]
  },
  {
   "cell_type": "code",
   "execution_count": null,
   "id": "215c8a6d",
   "metadata": {},
   "outputs": [],
   "source": []
  },
  {
   "cell_type": "code",
   "execution_count": null,
   "id": "22a4e8ec",
   "metadata": {},
   "outputs": [],
   "source": []
  }
 ],
 "metadata": {
  "hide_code_all_hidden": false,
  "hide_input": false,
  "kernelspec": {
   "display_name": "Python 3",
   "language": "python",
   "name": "python3"
  },
  "language_info": {
   "codemirror_mode": {
    "name": "ipython",
    "version": 3
   },
   "file_extension": ".py",
   "mimetype": "text/x-python",
   "name": "python",
   "nbconvert_exporter": "python",
   "pygments_lexer": "ipython3",
   "version": "3.8.8"
  },
  "toc": {
   "base_numbering": 1,
   "nav_menu": {},
   "number_sections": true,
   "sideBar": true,
   "skip_h1_title": true,
   "title_cell": "Table of Contents",
   "title_sidebar": "Contents",
   "toc_cell": true,
   "toc_position": {
    "height": "282px",
    "left": "1154px",
    "top": "112.3px",
    "width": "164.988px"
   },
   "toc_section_display": true,
   "toc_window_display": false
  },
  "toc-autonumbering": true,
  "toc-showcode": false,
  "toc-showmarkdowntxt": false,
  "toc-showtags": false,
  "varInspector": {
   "cols": {
    "lenName": 16,
    "lenType": 16,
    "lenVar": 40
   },
   "kernels_config": {
    "python": {
     "delete_cmd_postfix": "",
     "delete_cmd_prefix": "del ",
     "library": "var_list.py",
     "varRefreshCmd": "print(var_dic_list())"
    },
    "r": {
     "delete_cmd_postfix": ") ",
     "delete_cmd_prefix": "rm(",
     "library": "var_list.r",
     "varRefreshCmd": "cat(var_dic_list()) "
    }
   },
   "types_to_exclude": [
    "module",
    "function",
    "builtin_function_or_method",
    "instance",
    "_Feature"
   ],
   "window_display": false
  }
 },
 "nbformat": 4,
 "nbformat_minor": 5
}
