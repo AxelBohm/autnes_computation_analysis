{
 "cells": [
  {
   "cell_type": "code",
   "execution_count": 1,
   "metadata": {},
   "outputs": [],
   "source": [
    "import pandas as pd\n",
    "import numpy as np\n",
    "import csv\n",
    "from collections import Counter\n",
    "from sklearn import preprocessing\n",
    "from sklearn.preprocessing import OrdinalEncoder, OneHotEncoder\n",
    "from scipy import stats\n",
    "from sklearn_pandas import DataFrameMapper"
   ]
  },
  {
   "cell_type": "markdown",
   "metadata": {},
   "source": [
    "# Different features need to be processed differently\n",
    "\n",
    "I splitted all features into 5 groups that need to be processed differently:\n",
    "\n",
    "A) X_personal: related to personal data (such as gender, age, etc) - what we could filter before the survey \n",
    "\n",
    "B) related to questions about politics and their opinions:\n",
    "   * X_political_ohe: categorical features that need to be one hot encoded and renamed (e.g. whom did they vote);\n",
    "   * X_political_ord: ordinal features that need to be coded and renamed (e.g. strongly agree/agree/disagree/strongly disagree);\n",
    "   * X_changed_names: ordinal features that need only to be renamed (e.g. probability to vote: already from 0 to 10)\n",
    "   * knowledge about parlamentary threshold was converted to binary features: whether person knows correct answer or not\n",
    "   * features that should be binary\n",
    "   * knowledge about voting age was one-hot encoded since it was important just if coded with OHE (probably because 1/3 or respondents think the answer is 14) \n",
    "\n",
    "Next cell: drop '.23' rows and converting \"panelpat\" into binary feature: \n",
    "* 0 for participants, who dropped at least once, \n",
    "* 1 for people who participated in all waves,"
   ]
  },
  {
   "cell_type": "markdown",
   "metadata": {},
   "source": [
    "# Personal features"
   ]
  },
  {
   "cell_type": "code",
   "execution_count": 2,
   "metadata": {},
   "outputs": [],
   "source": [
    "df = pd.read_csv('../data/df_multi.csv')\n",
    "df = df[df['panelpat'] != '.23']"
   ]
  },
  {
   "cell_type": "code",
   "execution_count": 3,
   "metadata": {
    "scrolled": true
   },
   "outputs": [
    {
     "data": {
      "text/plain": [
       "(3846, 506)"
      ]
     },
     "execution_count": 3,
     "metadata": {},
     "output_type": "execute_result"
    }
   ],
   "source": [
    "df.shape"
   ]
  },
  {
   "cell_type": "code",
   "execution_count": 4,
   "metadata": {},
   "outputs": [],
   "source": [
    "df['panelpat'] = df['panelpat'].replace(['123'], 1)\n",
    "df['panelpat'] = df['panelpat'].replace(['1..',  '1.3',  '12.'],  0)\n",
    "\n",
    "X_personal = df[['gender', 'age', 'bundesland', 'popnum', 'w1_sd5r', 'w1_sd6',\n",
    "        'w1_sd7', 'w1_sd8',  'w1_sd9', 'w1_sd10', 'w1_sd15r', 'w1_sd16']]\n",
    "y = df['panelpat']"
   ]
  },
  {
   "cell_type": "code",
   "execution_count": 5,
   "metadata": {},
   "outputs": [
    {
     "data": {
      "text/plain": [
       "gender           0\n",
       "age              0\n",
       "bundesland       0\n",
       "popnum         364\n",
       "w1_sd5r          5\n",
       "w1_sd6          16\n",
       "w1_sd7         481\n",
       "w1_sd8          15\n",
       "w1_sd9        1949\n",
       "w1_sd10       1952\n",
       "w1_sd15r        62\n",
       "w1_sd16         45\n",
       "dtype: int64"
      ]
     },
     "execution_count": 5,
     "metadata": {},
     "output_type": "execute_result"
    }
   ],
   "source": [
    "# lots of NaN values (empty values in original data)\n",
    "X_personal.isnull().sum()"
   ]
  },
  {
   "cell_type": "markdown",
   "metadata": {},
   "source": [
    "converting text values into numbers according to documentation: (../politics-nonresponse/codebooks/10025_mr_en_v1_1.pdf, page 24)"
   ]
  },
  {
   "cell_type": "code",
   "execution_count": 6,
   "metadata": {},
   "outputs": [],
   "source": [
    "Income_ord = X_personal['w1_sd7'].replace(to_replace=[\"below 450€\", \"450 up to 600€\",\n",
    "                                                     \"600 to less than 750€\",\n",
    "                                                     \"750 up to 900€\",\n",
    "                                                     \"900 up to 1,050€\",\n",
    "                                                     \"1.050 up to 1,200€\",\n",
    "                                                     \"1,200 up to 1,350€\",\n",
    "                                                     \"1,350 up to 1,500€\",\n",
    "                                                     \"1,500 up to 1,650€ \",\n",
    "                                                     \"1,650 up to 1,800€\",\n",
    "                                                     '1,800 up to 1,950€',\n",
    "                                                     \"1,950 up to 2,100€\",\n",
    "                                                     \"2,100 up to 2,250€\",\n",
    "                                                     \"2,250 up to 2,400€\",\n",
    "                                                     \"2,400 up to 2,700€\",\n",
    "                                                     \"2,700 up to 3,000€\",\n",
    "                                                     \"3,000 up to 3,300€\",\n",
    "                                                     \"3,300 up to 3,600€\",\n",
    "                                                     \"3,600 up to 3,900€\",\n",
    "                                                     \"3,900€ and more\"],\n",
    "                                 value=list(range(1, 21)))\n",
    "\n",
    "Attendance_relig = X_personal['w1_sd16'].replace(to_replace=[\"daily\",\n",
    "                                                    \"more often than once a week\",\n",
    "                                                    \"once a week\",\n",
    "                                                    \"at least once a month\",\n",
    "                                                    \"only on special holidays\",\n",
    "                                                    \"less often\",\n",
    "                                                    \"never\"],\n",
    "                                        value=list(reversed(range(1, 8))))\n",
    "\n",
    "Job_hours_week = X_personal['w1_sd9'].replace(to_replace=[\"employed, more than 35h weekly\",\n",
    "                                                 \"employed,15 - 35h weekly\",\n",
    "                                                 \"employed, less than 15h weekly\",\n",
    "                                                 \"help out in a family firm\",\n",
    "                                                 \"in vocational training\"],\n",
    "                                     value=list(reversed(range(1, 6))))"
   ]
  },
  {
   "cell_type": "code",
   "execution_count": 7,
   "metadata": {},
   "outputs": [],
   "source": [
    "X_personal = X_personal.replace({'popnum':\n",
    "{\"<2.500\":0, \n",
    "\"2.500-\":1,\n",
    "\"5.000-\":2, \n",
    "\"10.000-\":3,\n",
    "\"50.000-\":4, \n",
    "\"1M.+\":5}})\n",
    "\n",
    "X_personal = X_personal.replace({'w1_sd6': \n",
    " {\"elementary school or less\":3,\n",
    " \"primary school/secondary education first stage\":4,\n",
    " \"polytechnic institute\":6,\n",
    " \"vocational training/school\":7,\n",
    " \"vocational middle school \":8,\n",
    " \"AHS with diploma\":9,\n",
    " \"BHS with diploma\":10,\n",
    " \"BHS with diploma \":10,\n",
    " \"university-related college\":11,\n",
    " 'university-related college ':11,\n",
    " \"College\":12,\n",
    " \"Bachelor\":13,\n",
    " \"Magister/Master\":14,\n",
    " \"Doctorate/PhD\":15,\n",
    " \"other\":7 }})"
   ]
  },
  {
   "cell_type": "code",
   "execution_count": 8,
   "metadata": {},
   "outputs": [],
   "source": [
    "frames = [X_personal, Income_ord, Attendance_relig, Job_hours_week]\n",
    "X_personal = pd.concat(frames, axis=1)\n",
    "X_personal.columns.values[12] = \"Income_ord\"\n",
    "X_personal.columns.values[13] = \"Attendance_relig\"\n",
    "X_personal.columns.values[14] = \"Job_hours_week\""
   ]
  },
  {
   "cell_type": "markdown",
   "metadata": {},
   "source": [
    "creating new feature to understand whether income is unknown\n",
    "\n",
    "1 - for responce \"don't know\", 0 - for people who responded about their income"
   ]
  },
  {
   "cell_type": "code",
   "execution_count": 9,
   "metadata": {},
   "outputs": [],
   "source": [
    "income_unknown = X_personal['w1_sd7'].replace([\"don't know\"], 1)\n",
    "income_unknown = income_unknown.replace(([\"below 450€\",\n",
    "                                          \"450 up to 600€\",\n",
    "                                          \"600 to less than 750€\",\n",
    "                                          \"750 up to 900€\",\n",
    "                                          \"900 up to 1,050€\",\n",
    "                                          \"1.050 up to 1,200€\",\n",
    "                                          \"1,200 up to 1,350€\",\n",
    "                                          \"1,350 up to 1,500€\",\n",
    "                                          \"1,500 up to 1,650€ \",\n",
    "                                          \"1,650 up to 1,800€\",\n",
    "                                          \"1,800 up to 1,950€\",\n",
    "                                          \"1,950 up to 2,100€\",\n",
    "                                          \"2,100 up to 2,250€\",\n",
    "                                          \"2,250 up to 2,400€\",\n",
    "                                          \"2,400 up to 2,700€\",\n",
    "                                          \"2,700 up to 3,000€\",\n",
    "                                          \"3,000 up to 3,300€\",\n",
    "                                          \"3,300 up to 3,600€\",\n",
    "                                          \"3,600 up to 3,900€\",\n",
    "                                          \"3,900€ and more\"]), 0)"
   ]
  },
  {
   "cell_type": "code",
   "execution_count": 10,
   "metadata": {},
   "outputs": [],
   "source": [
    "frames = [X_personal, income_unknown]\n",
    "X_personal = pd.concat(frames, axis=1)\n",
    "X_personal.columns.values[15] = \"income_unknown\""
   ]
  },
  {
   "cell_type": "markdown",
   "metadata": {},
   "source": [
    "One hot encoding for categorical features"
   ]
  },
  {
   "cell_type": "code",
   "execution_count": 11,
   "metadata": {},
   "outputs": [],
   "source": [
    "X_to_encode = X_personal[['gender', 'bundesland', 'w1_sd5r', 'w1_sd8', 'w1_sd10', 'w1_sd15r']]\n",
    "enc = OneHotEncoder(handle_unknown='ignore')\n",
    "X_ohe = enc.fit_transform(X_to_encode).toarray()\n",
    "X_ohe = pd.DataFrame(X_ohe)\n",
    "X_ohe.columns = enc.get_feature_names(['gender', 'bundesland', 'Country_of_birth', 'w1_occupation', 'w1_occupation_area', 'religion'])"
   ]
  },
  {
   "cell_type": "markdown",
   "metadata": {},
   "source": [
    "here I dropped columns with NaN values, replaced \"don't know\" responses about income and religion attendance by 0"
   ]
  },
  {
   "cell_type": "code",
   "execution_count": 12,
   "metadata": {},
   "outputs": [],
   "source": [
    "X_ohe = X_ohe.drop(list(X_ohe.filter(like='nan').columns), axis=1)\n",
    "frames = [X_ohe, X_personal[['age', 'Income_ord', 'income_unknown', 'Attendance_relig', 'Job_hours_week']]]\n",
    "X_personal = pd.concat(frames, axis=1)\n",
    "X_personal['Income_ord'] = X_personal['Income_ord'].replace([\"don't know\"], 0)\n",
    "X_personal['Attendance_relig'] = X_personal['Attendance_relig'].replace([\"don't know\"], 0)"
   ]
  },
  {
   "cell_type": "markdown",
   "metadata": {},
   "source": [
    "'Job_hours_week' column consists of mostly NaN so I drop it for now\n",
    "\n",
    "rest of NaN values replaced by mean"
   ]
  },
  {
   "cell_type": "code",
   "execution_count": 13,
   "metadata": {},
   "outputs": [],
   "source": [
    "def replace_by_mean(df):\n",
    "    column_means = df.mean().round()\n",
    "    df = df.fillna(column_means)\n",
    "    return df"
   ]
  },
  {
   "cell_type": "code",
   "execution_count": 14,
   "metadata": {},
   "outputs": [],
   "source": [
    "X_personal = X_personal.drop(['Job_hours_week'], axis=1)\n",
    "X_personal = replace_by_mean(X_personal)"
   ]
  },
  {
   "cell_type": "code",
   "execution_count": 15,
   "metadata": {},
   "outputs": [
    {
     "data": {
      "text/plain": [
       "(3846, 50)"
      ]
     },
     "execution_count": 15,
     "metadata": {},
     "output_type": "execute_result"
    }
   ],
   "source": [
    "X_personal.shape"
   ]
  },
  {
   "cell_type": "markdown",
   "metadata": {},
   "source": [
    "1 column dropped so far due to NaN"
   ]
  },
  {
   "cell_type": "markdown",
   "metadata": {},
   "source": [
    "# Other features (not related to personal data but to political responces)"
   ]
  },
  {
   "cell_type": "markdown",
   "metadata": {},
   "source": [
    "filtering only wave 1 questions for not to delete too much of columns with NaN due to different questions in different waves"
   ]
  },
  {
   "cell_type": "code",
   "execution_count": 16,
   "metadata": {},
   "outputs": [],
   "source": [
    "df = df.filter(regex='(w1)')"
   ]
  },
  {
   "cell_type": "code",
   "execution_count": 17,
   "metadata": {},
   "outputs": [
    {
     "data": {
      "text/html": [
       "<div>\n",
       "<style scoped>\n",
       "    .dataframe tbody tr th:only-of-type {\n",
       "        vertical-align: middle;\n",
       "    }\n",
       "\n",
       "    .dataframe tbody tr th {\n",
       "        vertical-align: top;\n",
       "    }\n",
       "\n",
       "    .dataframe thead th {\n",
       "        text-align: right;\n",
       "    }\n",
       "</style>\n",
       "<table border=\"1\" class=\"dataframe\">\n",
       "  <thead>\n",
       "    <tr style=\"text-align: right;\">\n",
       "      <th></th>\n",
       "      <th>w1_panelist</th>\n",
       "      <th>w1_weight_design_ifes</th>\n",
       "      <th>w123_weight_design_ifes</th>\n",
       "      <th>w1_weightdd_ifes</th>\n",
       "      <th>w123_weightdd_ifes</th>\n",
       "      <th>w1_weightd</th>\n",
       "      <th>w123_weightd</th>\n",
       "      <th>w1_weightdd</th>\n",
       "      <th>w123_weightdd</th>\n",
       "      <th>w1_date</th>\n",
       "      <th>...</th>\n",
       "      <th>w1_sd16</th>\n",
       "      <th>w1_sd17</th>\n",
       "      <th>w1_sd19</th>\n",
       "      <th>w1_sd20</th>\n",
       "      <th>w1_sd21r</th>\n",
       "      <th>w1_sd23</th>\n",
       "      <th>w1_contact</th>\n",
       "      <th>w1_mode</th>\n",
       "      <th>w1_ew</th>\n",
       "      <th>w1_jw</th>\n",
       "    </tr>\n",
       "  </thead>\n",
       "  <tbody>\n",
       "    <tr>\n",
       "      <th>0</th>\n",
       "      <td>1</td>\n",
       "      <td>0.750000</td>\n",
       "      <td>NaN</td>\n",
       "      <td>0.20000</td>\n",
       "      <td>NaN</td>\n",
       "      <td>1.011871</td>\n",
       "      <td>NaN</td>\n",
       "      <td>0.786816</td>\n",
       "      <td>NaN</td>\n",
       "      <td>2017-06-01</td>\n",
       "      <td>...</td>\n",
       "      <td>once a week</td>\n",
       "      <td>no</td>\n",
       "      <td>2.0</td>\n",
       "      <td>yes</td>\n",
       "      <td>3.0</td>\n",
       "      <td>rather sure</td>\n",
       "      <td>1.0</td>\n",
       "      <td>landline</td>\n",
       "      <td>no</td>\n",
       "      <td>no</td>\n",
       "    </tr>\n",
       "    <tr>\n",
       "      <th>1</th>\n",
       "      <td>1</td>\n",
       "      <td>0.666667</td>\n",
       "      <td>NaN</td>\n",
       "      <td>0.20000</td>\n",
       "      <td>NaN</td>\n",
       "      <td>1.011871</td>\n",
       "      <td>NaN</td>\n",
       "      <td>0.699392</td>\n",
       "      <td>NaN</td>\n",
       "      <td>2017-06-02</td>\n",
       "      <td>...</td>\n",
       "      <td>at least once a month</td>\n",
       "      <td>no</td>\n",
       "      <td>2.0</td>\n",
       "      <td>yes</td>\n",
       "      <td>2.0</td>\n",
       "      <td>sure</td>\n",
       "      <td>1.0</td>\n",
       "      <td>landline</td>\n",
       "      <td>no</td>\n",
       "      <td>no</td>\n",
       "    </tr>\n",
       "    <tr>\n",
       "      <th>2</th>\n",
       "      <td>1</td>\n",
       "      <td>0.666667</td>\n",
       "      <td>NaN</td>\n",
       "      <td>1.62391</td>\n",
       "      <td>NaN</td>\n",
       "      <td>2.080988</td>\n",
       "      <td>NaN</td>\n",
       "      <td>1.244799</td>\n",
       "      <td>NaN</td>\n",
       "      <td>2017-06-14</td>\n",
       "      <td>...</td>\n",
       "      <td>at least once a month</td>\n",
       "      <td>yes</td>\n",
       "      <td>2.0</td>\n",
       "      <td>yes</td>\n",
       "      <td>2.0</td>\n",
       "      <td>rather sure</td>\n",
       "      <td>1.0</td>\n",
       "      <td>landline</td>\n",
       "      <td>no</td>\n",
       "      <td>no</td>\n",
       "    </tr>\n",
       "    <tr>\n",
       "      <th>3</th>\n",
       "      <td>1</td>\n",
       "      <td>2.000000</td>\n",
       "      <td>NaN</td>\n",
       "      <td>0.40790</td>\n",
       "      <td>NaN</td>\n",
       "      <td>0.763368</td>\n",
       "      <td>NaN</td>\n",
       "      <td>1.647182</td>\n",
       "      <td>NaN</td>\n",
       "      <td>2017-07-06</td>\n",
       "      <td>...</td>\n",
       "      <td>never</td>\n",
       "      <td>no</td>\n",
       "      <td>1.0</td>\n",
       "      <td>yes</td>\n",
       "      <td>2.0</td>\n",
       "      <td>sure</td>\n",
       "      <td>1.0</td>\n",
       "      <td>landline</td>\n",
       "      <td>no</td>\n",
       "      <td>no</td>\n",
       "    </tr>\n",
       "    <tr>\n",
       "      <th>4</th>\n",
       "      <td>1</td>\n",
       "      <td>0.666667</td>\n",
       "      <td>NaN</td>\n",
       "      <td>0.44095</td>\n",
       "      <td>NaN</td>\n",
       "      <td>0.707234</td>\n",
       "      <td>NaN</td>\n",
       "      <td>0.439634</td>\n",
       "      <td>NaN</td>\n",
       "      <td>2017-07-25</td>\n",
       "      <td>...</td>\n",
       "      <td>at least once a month</td>\n",
       "      <td>no</td>\n",
       "      <td>2.0</td>\n",
       "      <td>yes</td>\n",
       "      <td>2.0</td>\n",
       "      <td>rather sure</td>\n",
       "      <td>3.0</td>\n",
       "      <td>landline</td>\n",
       "      <td>no</td>\n",
       "      <td>no</td>\n",
       "    </tr>\n",
       "    <tr>\n",
       "      <th>...</th>\n",
       "      <td>...</td>\n",
       "      <td>...</td>\n",
       "      <td>...</td>\n",
       "      <td>...</td>\n",
       "      <td>...</td>\n",
       "      <td>...</td>\n",
       "      <td>...</td>\n",
       "      <td>...</td>\n",
       "      <td>...</td>\n",
       "      <td>...</td>\n",
       "      <td>...</td>\n",
       "      <td>...</td>\n",
       "      <td>...</td>\n",
       "      <td>...</td>\n",
       "      <td>...</td>\n",
       "      <td>...</td>\n",
       "      <td>...</td>\n",
       "      <td>...</td>\n",
       "      <td>...</td>\n",
       "      <td>...</td>\n",
       "      <td>...</td>\n",
       "    </tr>\n",
       "    <tr>\n",
       "      <th>3841</th>\n",
       "      <td>1</td>\n",
       "      <td>1.000000</td>\n",
       "      <td>NaN</td>\n",
       "      <td>0.45122</td>\n",
       "      <td>NaN</td>\n",
       "      <td>0.405529</td>\n",
       "      <td>NaN</td>\n",
       "      <td>0.371912</td>\n",
       "      <td>NaN</td>\n",
       "      <td>2017-07-06</td>\n",
       "      <td>...</td>\n",
       "      <td>never</td>\n",
       "      <td>no</td>\n",
       "      <td>NaN</td>\n",
       "      <td>NaN</td>\n",
       "      <td>NaN</td>\n",
       "      <td>rather sure</td>\n",
       "      <td>NaN</td>\n",
       "      <td>NaN</td>\n",
       "      <td>no</td>\n",
       "      <td>no</td>\n",
       "    </tr>\n",
       "    <tr>\n",
       "      <th>3842</th>\n",
       "      <td>1</td>\n",
       "      <td>0.833333</td>\n",
       "      <td>NaN</td>\n",
       "      <td>1.28767</td>\n",
       "      <td>NaN</td>\n",
       "      <td>1.284873</td>\n",
       "      <td>NaN</td>\n",
       "      <td>0.988372</td>\n",
       "      <td>NaN</td>\n",
       "      <td>2017-07-13</td>\n",
       "      <td>...</td>\n",
       "      <td>at least once a month</td>\n",
       "      <td>no</td>\n",
       "      <td>2.0</td>\n",
       "      <td>yes</td>\n",
       "      <td>5.0</td>\n",
       "      <td>sure</td>\n",
       "      <td>1.0</td>\n",
       "      <td>landline</td>\n",
       "      <td>no</td>\n",
       "      <td>no</td>\n",
       "    </tr>\n",
       "    <tr>\n",
       "      <th>3843</th>\n",
       "      <td>1</td>\n",
       "      <td>1.000000</td>\n",
       "      <td>NaN</td>\n",
       "      <td>0.20000</td>\n",
       "      <td>NaN</td>\n",
       "      <td>1.043848</td>\n",
       "      <td>NaN</td>\n",
       "      <td>1.085799</td>\n",
       "      <td>NaN</td>\n",
       "      <td>2017-06-01</td>\n",
       "      <td>...</td>\n",
       "      <td>once a week</td>\n",
       "      <td>no</td>\n",
       "      <td>1.0</td>\n",
       "      <td>no</td>\n",
       "      <td>1.0</td>\n",
       "      <td>rather not</td>\n",
       "      <td>1.0</td>\n",
       "      <td>mobile</td>\n",
       "      <td>no</td>\n",
       "      <td>no</td>\n",
       "    </tr>\n",
       "    <tr>\n",
       "      <th>3844</th>\n",
       "      <td>1</td>\n",
       "      <td>1.000000</td>\n",
       "      <td>NaN</td>\n",
       "      <td>0.66699</td>\n",
       "      <td>NaN</td>\n",
       "      <td>0.464457</td>\n",
       "      <td>NaN</td>\n",
       "      <td>0.512462</td>\n",
       "      <td>NaN</td>\n",
       "      <td>2017-07-28</td>\n",
       "      <td>...</td>\n",
       "      <td>never</td>\n",
       "      <td>no</td>\n",
       "      <td>1.0</td>\n",
       "      <td>no</td>\n",
       "      <td>1.0</td>\n",
       "      <td>sure</td>\n",
       "      <td>3.0</td>\n",
       "      <td>mobile</td>\n",
       "      <td>no</td>\n",
       "      <td>no</td>\n",
       "    </tr>\n",
       "    <tr>\n",
       "      <th>3845</th>\n",
       "      <td>1</td>\n",
       "      <td>1.000000</td>\n",
       "      <td>1.0</td>\n",
       "      <td>0.96488</td>\n",
       "      <td>1.02317</td>\n",
       "      <td>0.679991</td>\n",
       "      <td>0.844536</td>\n",
       "      <td>0.630121</td>\n",
       "      <td>0.831323</td>\n",
       "      <td>2017-07-28</td>\n",
       "      <td>...</td>\n",
       "      <td>at least once a month</td>\n",
       "      <td>no</td>\n",
       "      <td>2.0</td>\n",
       "      <td>yes</td>\n",
       "      <td>88.0</td>\n",
       "      <td>sure</td>\n",
       "      <td>2.0</td>\n",
       "      <td>landline</td>\n",
       "      <td>no</td>\n",
       "      <td>no</td>\n",
       "    </tr>\n",
       "  </tbody>\n",
       "</table>\n",
       "<p>3846 rows × 141 columns</p>\n",
       "</div>"
      ],
      "text/plain": [
       "      w1_panelist  w1_weight_design_ifes  w123_weight_design_ifes  \\\n",
       "0               1               0.750000                      NaN   \n",
       "1               1               0.666667                      NaN   \n",
       "2               1               0.666667                      NaN   \n",
       "3               1               2.000000                      NaN   \n",
       "4               1               0.666667                      NaN   \n",
       "...           ...                    ...                      ...   \n",
       "3841            1               1.000000                      NaN   \n",
       "3842            1               0.833333                      NaN   \n",
       "3843            1               1.000000                      NaN   \n",
       "3844            1               1.000000                      NaN   \n",
       "3845            1               1.000000                      1.0   \n",
       "\n",
       "      w1_weightdd_ifes  w123_weightdd_ifes  w1_weightd  w123_weightd  \\\n",
       "0              0.20000                 NaN    1.011871           NaN   \n",
       "1              0.20000                 NaN    1.011871           NaN   \n",
       "2              1.62391                 NaN    2.080988           NaN   \n",
       "3              0.40790                 NaN    0.763368           NaN   \n",
       "4              0.44095                 NaN    0.707234           NaN   \n",
       "...                ...                 ...         ...           ...   \n",
       "3841           0.45122                 NaN    0.405529           NaN   \n",
       "3842           1.28767                 NaN    1.284873           NaN   \n",
       "3843           0.20000                 NaN    1.043848           NaN   \n",
       "3844           0.66699                 NaN    0.464457           NaN   \n",
       "3845           0.96488             1.02317    0.679991      0.844536   \n",
       "\n",
       "      w1_weightdd  w123_weightdd     w1_date  ...                w1_sd16  \\\n",
       "0        0.786816            NaN  2017-06-01  ...            once a week   \n",
       "1        0.699392            NaN  2017-06-02  ...  at least once a month   \n",
       "2        1.244799            NaN  2017-06-14  ...  at least once a month   \n",
       "3        1.647182            NaN  2017-07-06  ...                  never   \n",
       "4        0.439634            NaN  2017-07-25  ...  at least once a month   \n",
       "...           ...            ...         ...  ...                    ...   \n",
       "3841     0.371912            NaN  2017-07-06  ...                  never   \n",
       "3842     0.988372            NaN  2017-07-13  ...  at least once a month   \n",
       "3843     1.085799            NaN  2017-06-01  ...            once a week   \n",
       "3844     0.512462            NaN  2017-07-28  ...                  never   \n",
       "3845     0.630121       0.831323  2017-07-28  ...  at least once a month   \n",
       "\n",
       "      w1_sd17 w1_sd19 w1_sd20 w1_sd21r      w1_sd23 w1_contact   w1_mode  \\\n",
       "0          no     2.0     yes      3.0  rather sure        1.0  landline   \n",
       "1          no     2.0     yes      2.0         sure        1.0  landline   \n",
       "2         yes     2.0     yes      2.0  rather sure        1.0  landline   \n",
       "3          no     1.0     yes      2.0         sure        1.0  landline   \n",
       "4          no     2.0     yes      2.0  rather sure        3.0  landline   \n",
       "...       ...     ...     ...      ...          ...        ...       ...   \n",
       "3841       no     NaN     NaN      NaN  rather sure        NaN       NaN   \n",
       "3842       no     2.0     yes      5.0         sure        1.0  landline   \n",
       "3843       no     1.0      no      1.0   rather not        1.0    mobile   \n",
       "3844       no     1.0      no      1.0         sure        3.0    mobile   \n",
       "3845       no     2.0     yes     88.0         sure        2.0  landline   \n",
       "\n",
       "     w1_ew w1_jw  \n",
       "0       no    no  \n",
       "1       no    no  \n",
       "2       no    no  \n",
       "3       no    no  \n",
       "4       no    no  \n",
       "...    ...   ...  \n",
       "3841    no    no  \n",
       "3842    no    no  \n",
       "3843    no    no  \n",
       "3844    no    no  \n",
       "3845    no    no  \n",
       "\n",
       "[3846 rows x 141 columns]"
      ]
     },
     "execution_count": 17,
     "metadata": {},
     "output_type": "execute_result"
    }
   ],
   "source": [
    "df"
   ]
  },
  {
   "cell_type": "markdown",
   "metadata": {},
   "source": [
    "141 features related to wave 1 out of 506"
   ]
  },
  {
   "cell_type": "markdown",
   "metadata": {},
   "source": [
    "## OHE (dummies features)"
   ]
  },
  {
   "cell_type": "markdown",
   "metadata": {},
   "source": [
    "changing column names"
   ]
  },
  {
   "cell_type": "code",
   "execution_count": 18,
   "metadata": {},
   "outputs": [],
   "source": [
    "dict = {'w1_source':'SOURCE: -w1_source',\n",
    "'w1_q9':'VOTE CHOICE NATIONAL ELECTION 2013: -w1_q9',\n",
    "'w1_q13':'CLOSENESS TO A POLITICAL PARTY: -w1_q13',\n",
    "'w1_q14': 'CLOSER TO ONE PARTY THAN TO ANOTHER -w1_q14',\n",
    "'w1_q15':'PARTY R. FEELS CLOSER TO: -w1_q15',\n",
    "'w1_q24':'PARTY CHOICE: PROSPECTIVE -w1_q24',\n",
    "'w1_q25':'PARTY CHOICE: HYPOTHETICAL -w1_q25',\n",
    "'w1_q26':'DIRECT ELECTION OF CHANCELLOR -w1_q26',\n",
    "'w1_q28x1':'YOUNG VOTERS: WATCHED TV DEBATE -w1_q28x1',\n",
    "'w1_q28x2':'YOUNG VOTERS: VISITED THE PARLIAMENT -w1_q28x2',\n",
    "'w1_q28x3':'YOUNG VOTERS: VISITED A YOUTH CENTER -w1_q28x3',\n",
    "'w1_q28x4':'YOUNG VOTERS: PARTICIPATED IN A YOUTH PARLIAMENT -w1_q28x4',\n",
    "'w1_q28x5':'YOUNG VOTERS: HEARD OF THE PARLIAMENTS DEMOCRACY WORKSHOPS -w1_q28x5',\n",
    "'w1_q28x6':'YOUNG VOTERS: PARTICIPATED IN THE PARLIAMENTS DEMOCRACY WORKSHOP -w1_q28x6',\n",
    "'w3_q31x5':'YOUNG VOTERS: WATCHED TV DEBATE WITH FRONT-RUNNERS -w3_q31x5',\n",
    "'w1_q29x1':'YOUNG VOTERS: SCHOOL: DISCUSSED ACTIVELY ABOUT AUSTRIAN DOMESTIC POLITICS -w1_q29x1',\n",
    "'w1_q29x2':'YOUNG VOTERS: SCHOOL: DISCUSSED ABOUT VOTING WITH 16 -w1_q29x2',\n",
    "'w1_q29x3':'YOUNG VOTERS: SCHOOL: PARTICIPATED IN SCHOOL DEMOCRACY -w1_q29x3',\n",
    "'w1_q29x4':'YOUNG VOTERS: SCHOOL: PARTICIPATED IN A PROJECT ABOUT POLITICS -w1_q29x4',\n",
    "'w1_q29x5':'YOUNG VOTERS: SCHOOL: TALKED ABOUT THE NATIONAL ELECTION -w1_q29x5',\n",
    "'w1_q31':'YOUNG VOTERS: LIVES WITH PARENTS/PARTENT IN A HOUSEHOLD -w1_q31',\n",
    "'w1_q20':'voting_age_awareness -w1_q20',\n",
    "'w1_sd17':'UNION MEMBERSHIP -w1_sd17',\n",
    "'w1_mode':'TELEPHONE MODE -w1_mode',\n",
    "'w1_jw':'YOUNG VOTER (YOUNGER THAN 21) -w1_jw',\n",
    "'w2_q3x1':'MOST COMPETENT PARTY: JOB MARKET AND EMPLOYMENT -w2_q3x1',\n",
    "'w2_q3x2':'MOST COMPETENT PARTY: IMMIGRATION -w2_q3x2',\n",
    "'w2_q3x3':'MOST COMPETENT PARTY: EUROPEAN INTEGRATION: -w2_q3x3',\n",
    "'w2_q3x4':'MOST COMPETENT PARTY ECONOMIC POLICY: -w2_q3x4',\n",
    "'w2_q3x5':'MOST COMPETENT PARTY ENVIRONMENTAL PROTECTION: -w2_q3x5',\n",
    "'w3_q4x6':'MOST COMPETENT PARTY FIGHTING CORRUPTION: -w3_q4x6',\n",
    "'w2_q5x1':'R. RECEIVED LETTER/FLYER/E-MAIL DURING CAMPAIGN (YES/NO): -w2_q5x1',\n",
    "'w2_q5x2':'R. RECEIVED A CALL OR A TEXT MESSAGE DURING CAMPAIGN (YES/NO): -w2_q5x2',\n",
    "'w2_q5x3':'R. RECEIVED INFORMATION MATERIAL/PROMOTIONAL GIFTS DURING CAMPAIGN (YES/NO): -w2_q5x3',\n",
    "'w2_q5x4':'R. TALKED TO A PARTY MEMBER DURING CAMPAIGN (YES/NO): -w2_q5x4',\n",
    "'w2_q5x5':'POLITICIAN VISITED R. AT HOME/WORK DURING CAMPAIGN (YES/NO): -w2_q5x5',\n",
    "'w2_q5x6':'R. SAW TV ADVERTISEMENT DURING CAMPAIGN (YES/NO) -w2_q5x6',\n",
    "'w2_q5x1_1':'R. RECEIVED LETTER/FLYER/E-MAIL DURING CAMPAIGN: SPOE -w2_q5x1_1',\n",
    "'w2_q5x1_2':'R. RECEIVED LETTER/FLYER/E-MAIL DURING CAMPAIGN: OEVP -w2_q5x1_2',\n",
    "'w2_q5x1_3':'R. RECEIVED LETTER/FLYER/E-MAIL DURING CAMPAIGN: FPOE -w2_q5x1_3',\n",
    "'w2_q5x1_4':'R. RECEIVED LETTER/FLYER/E-MAIL DURING CAMPAIGN: THE GREENS -w2_q5x1_4',\n",
    "'w2_q5x1_5':'R. RECEIVED LETTER/FLYER/E-MAIL DURING CAMPAIGN: NEOS -w2_q5x1_5',\n",
    "'w2_q5x1_6':'R. RECEIVED LETTER/FLYER/E-MAIL DURING CAMPAIGN: LIST PETER PILZ -w2_q5x1_6',\n",
    "'w2_q5x1_7':'R. RECEIVED LETTER/FLYER/E-MAIL DURING CAMPAIGN: OTHER PARTY -w2_q5x1_7',\n",
    "'w2_q5x1_8':'R. RECEIVED LETTER/FLYER/E-MAIL DURINGCAMPAIGN: DONT KNOW -w2_q5x1_8',\n",
    "'w2_q5x1_9':'R. RECEIVED LETTER/FLYER/E-MAIL DURING CAMPAIGN: REFUSED -w2_q5x1_9',\n",
    "'w2_q5x2_1':'R. RECEIVED A CALL OR A TEXT MESSAGE DURING CAMPAIGN: SPOE -w2_q5x2_1',\n",
    "'w2_q5x2_2':'R. RECEIVED A CALL OR A TEXT MESSAGE DURING CAMPAIGN: OEVP -w2_q5x2_2',\n",
    "'w2_q5x2_3':'R. RECEIVED A CALL OR A TEXT MESSAGE DURING CAMPAIGN: FPOE -w2_q5x2_3',\n",
    "'w2_q5x2_4':'R. RECEIVED A CALL OR A TEXT MESSAGE DURING CAMPAIGN: THE GREENS -w2_q5x2_4',\n",
    "'w2_q5x2_5':'R. RECEIVED A CALL OR A TEXT MESSAGE DURING CAMPAIGN: NEOS -w2_q5x2_5',\n",
    "'w2_q5x2_6':'R. RECEIVED A CALL OR A TEXT MESSAGE DURING CAMPAIGN: LIST PETER PILZ -w2_q5x2_6',\n",
    "'w2_q5x2_7':'R. RECEIVED A CALL OR A TEXT MESSAGE DURING CAMPAIGN: OTHER PARTY -w2_q5x2_7',\n",
    "'w2_q5x2_8':'R. RECEIVED A CALL OR A TEXT MESSAGE DURING CAMPAIGN: DONT KNOW -w2_q5x2_8',\n",
    "'w2_q5x2_9':'R. RECEIVED A CALL OR A TEXT MESSAGE DURING CAMPAIGN: REFUSED -w2_q5x2_9',\n",
    "'w2_q5x3_1':'R. RECEIVED INFORMATION MATERIAL/FREEBIE DURING CAMPAIGN: SPOE -w2_q5x3_1',\n",
    "'w2_q5x3_2':'R. RECEIVED INFORMATION MATERIAL/FREEBIE DURING CAMPAIGN: OEVP -w2_q5x3_2',\n",
    "'w2_q5x3_3':'R. RECEIVED INFORMATION MATERIAL/FREEBIE DURING CAMPAIGN: FPOE -w2_q5x3_3',\n",
    "'w2_q5x3_4':'R. RECEIVED INFORMATION MATERIAL/FREEBIE DURING CAMPAIGN: THE GREENS -w2_q5x3_4',\n",
    "'w2_q5x3_5':'R. RECEIVED INFORMATION MATERIAL/FREEBIE DURING CAMPAIGN: NEOS -w2_q5x3_5',\n",
    "'w2_q5x3_6':'R. RECEIVED INFORMATION MATERIAL/FREEBIE DURING CAMPAIGN: LIST PETER PILZ -w2_q5x3_6',\n",
    "'w2_q5x3_7':'R. RECEIVED INFORMATION MATERIAL/FREEBIE DURING CAMPAIGN: OTHER PARTY -w2_q5x3_7',\n",
    "'w2_q5x3_8':'R. RECEIVED INFORMATION MATERIAL/FREEBIE DURING CAMPAIGN: DONT KNOW -w2_q5x3_8',\n",
    "'w2_q5x3_9':'R. RECEIVED INFORMATION MATERIAL/FREEBIE DURING CAMPAIGN: REFUSED -w2_q5x3_9',\n",
    "'w2_q5x4_1':'R. TALKED TO A PARTY WORKER DURING CAMPAIGN: SPOE -w2_q5x4_1',\n",
    "'w2_q5x4_2':'R. TALKED TO A PARTY WORKER DURING CAMPAIGN: OEVP -w2_q5x4_2',\n",
    "'w2_q5x4_3':'R. TALKED TO A PARTY WORKER DURING CAMPAIGN: FPOE -w2_q5x4_3',\n",
    "'w2_q5x4_4':'R. TALKED TO A PARTY WORKER DURING CAMPAIGN: THE GREENS -w2_q5x4_4',\n",
    "'w2_q5x4_5':'R. TALKED TO A PARTY WORKER DURING CAMPAIGN: NEOS -w2_q5x4_5',\n",
    "'w2_q5x4_6':'R. TALKED TO A PARTY WORKER DURING CAMPAIGN: LIST PETER PILZ -w2_q5x4_6',\n",
    "'w2_q5x4_7':'R. TALKED TO A PARTY WORKER DURING CAMPAIGN: OTHER PARTY -w2_q5x4_7',\n",
    "'w2_q5x4_8':'R. TALKED TO A PARTY WORKER DURING CAMPAIGN: DONT KNOW -w2_q5x4_8',\n",
    "'w2_q5x4_9':'R: TALKED TO A PARTY WORKER DURING CAMPAIGN: REFUSED -w2_q5x4_9',\n",
    "'w2_q5x5_1':'POLITICIAN VISITED R. AT HOME/WORK DURING CAMPAIGN: SPOE -w2_q5x5_1',\n",
    "'w2_q5x5_2':'POLITICIAN VISITED R. AT HOME/WORK DURING CAMPAIGN: OEVP -w2_q5x5_2',\n",
    "'w2_q5x5_3':'POLITICIAN VISITED R. AT HOME/WORK DURING CAMPAIGN: FPOE -w2_q5x5_3',\n",
    "'w2_q5x5_4':'POLITICIAN VISITED R. AT HOME/WORK DURING CAMPAIGN: THE GREENS -w2_q5x5_4',\n",
    "'w2_q5x5_5':'POLITICIAN VISITED R. AT HOME/WORK DURING CAMPAIGN: NEOS -w2_q5x5_5',\n",
    "'w2_q5x5_6':'POLITICIAN VISITED R. AT HOME/WORK DURING CAMPAIGN: LIST PETER PILZ -w2_q5x5_6',\n",
    "'w2_q5x5_7':'POLITICIAN VISITED R. AT HOME/WORK DURING CAMPAIGN: OTHER PARTY -w2_q5x5_7',\n",
    "'w2_q5x5_8':'POLITICIAN VISITED R. AT HOME/WORK DURING CAMPAIGN: DONT KNOW -w2_q5x5_8',\n",
    "'w2_q5x5_9':'POLITICIAN VISITED R. AT HOME/WORK DURING CAMPAIGN: REFUSED -w2_q5x5_9',\n",
    "'w2_q5x6_1':'R. SAW TV ADS DURING CAMPAIGN: SPOE -w2_q5x6_1',\n",
    "'w2_q5x6_2':'R. SAW TV ADS DURING CAMPAIGN: OEVP -w2_q5x6_2',\n",
    "'w2_q5x6_3':'R. SAW TV ADS DURING CAMPAIGN: FPOE -w2_q5x6_3',\n",
    "'w2_q5x6_4':'R. SAW TV ADS DURING CAMPAIGN: THE GREENS -w2_q5x6_4',\n",
    "'w2_q5x6_5':'R. SAW TV ADS DURING CAMPAIGN: NEOS -w2_q5x6_5',\n",
    "'w2_q5x6_6':'R. SAW TV ADS DURING CAMPAIGN: LIST PETER PILZ -w2_q5x6_6',\n",
    "'w2_q5x6_7':'R. SAW TV ADS DURING CAMPAIGN: OTHER PARTY -w2_q5x6_7',\n",
    "'w2_q5x6_8':'R. SAW TV ADS DURING CAMPAIGN: DONT KNOW -w2_q5x6_8',\n",
    "'w2_q5x6_9':'R. SAW TV ADS DURING CAMPAIGN: REFUSED -w2_q5x6_9',\n",
    "'w2_q20x1':'PREFERRED COALITION: SPOE-OEVP -w2_q20x1',\n",
    "'w2_q20x2':'PREFERRED COALITION: OEVP-FPOE -w2_q20x2',\n",
    "'w2_q20x3':'PREFERRED COALITION: SPOE-FPOE -w2_q20x3',\n",
    "'w2_q21':'OTHER COALITION (YES/NO) -w2_q21',\n",
    "'w2_q22':'WHICH OTHER COALITION -w2_q22',\n",
    "'w3_q9':'OPINION: ASSESSMENT OF AUSTRIAS EU MEMBERSHIP -w3_q9',\n",
    "'w3_q15':'TURNOUT: NATIONAL ELECTION 2017 -w3_q15',\n",
    "'w3_q16':'VOTE CHOICE: NATIONAL ELECTION 2017 -w3_q16',\n",
    "'w3_q18':'PREFERENTIAL VOTE CASTED -w3_q18',\n",
    "'w3_q19x1':'PREFERENCE VOTE: REGIONAL LIST -w3_q19x1',\n",
    "'w3_q19x2':'PREFERENCE VOTE: PROVINCIAL LIST -w3_q19x2',\n",
    "'w3_q19x3':'PREFERENCE VOTE: FEDERAL LIST -w3_q19x3',\n",
    "'w3_q22x1':'CAMPAIGN: ATTACKED OPPONENTS THE MOST: SPOE -w3_q22x1',\n",
    "'w3_q22x2':'CAMPAIGN: ATTACKED OPPONENTS THE MOST: LIST SEBASTIAN KURZ -w3_q22x2',\n",
    "'w3_q22x3':'CAMPAIGN: ATTACKED OPPONENTS THE MOST: FPOE -w3_q22x3',\n",
    "'w3_q22x4':'CAMPAIGN: ATTACKED OPPONENTS THE MOST: THE GREENS -w3_q22x4',\n",
    "'w3_q22x5':'CAMPAIGN: ATTACKED OPPONENTS THE MOST: NEOS -w3_q22x5',\n",
    "'w3_q22x6':'CAMPAIGN: ATTACKED OPPONENTS THE MOST: LIST PETER PILZ -w3_q22x6',\n",
    "'w3_q22x7':'CAMPAIGN: ATTACKED OPPONENTS THE MOST: THE WHITES -w3_q22x7',\n",
    "'w3_q22x8':'CAMPAIGN: ATTACKED OPPONENTS THE MOST: FLOE -w3_q22x8',\n",
    "'w3_q22x9':'CAMPAIGN: ATTACKED OPPONENTS THE MOST: KPOE PLUS -w3_q22x9',\n",
    "'w3_q22x10':'CAMPAIGN: ATTACKED OPPONENTS THE MOST: LIST ROLAND DUERINGER -w3_q22x10',\n",
    "'w3_q22x11':'CAMPAIGN: ATTACKED OPPONENTS THE MOST: NO PARTY -w3_q22x11',\n",
    "'w3_q22x12':'CAMPAIGN: ATTACKED OPPONENTS THE MOST: DONT KNOW -w3_q22x12',\n",
    "'w3_q22x13':'CAMPAIGN: ATTACKED OPPONENTS THE MOST: REFUSED -w3_q22x13',\n",
    "'w3_q27x1':'POLITICAL PARTICIPATION: COLLECTION OF SIGNITURES (RETROSPECTIVE) -w3_q27x1',\n",
    "'w3_q27x2':'POLITICAL PARTICIPATION: CITIZENS INITIATIVE (RETROSPECTIVE) -w3_q27x2',\n",
    "'w3_q27x3':'POLITICAL PARTICIPATION: DEMONSTRATION (RETROSPECTIVE) -w3_q27x3',\n",
    "'w3_q27x4':'POLITICAL PARTICIPATION: PERSONAL CONTACT WITH POLITICIAN (RETROSPECTIVE) -w3_q27x4',\n",
    "'w3_q27x5':'POLITICAL PARTICIPATION: PRODUCTS BOUGHT (RETROSPECTIVE) -w3_q27x5',\n",
    "'w3_sd4':'WERE PARENTS BORN IN AUSTRIA -w3_sd4',\n",
    "'w2_source':'SOURCE: -w2_source',\n",
    "'w2_q16':'PARTY CHOICE: PROSPECTIVE -w2_q16',\n",
    "'w2_q17':'PARTY CHOICE: HYPOTHETICAL -w2_q17',\n",
    "'w2_q18':'DIRECT ELECTION OF CHANCELLOR -w2_q18',\n",
    "'w3_q31x1':'YOUNG VOTERS: WATCHED TV DEBATE -w3_q31x1',\n",
    "'w3_q31x2':'YOUNG VOTERS: VISITED THE PARLIAMENT -w3_q31x2',\n",
    "'w3_q31x3':'YOUNG VOTERS: VISITED A YOUTH CENTER -w3_q31x3',\n",
    "'w3_q31x4':'YOUNG VOTERS: PARTICIPATED IN A YOUTH PARLIAMENT -w3_q31x4',\n",
    "'w3_q34x1':'YOUNG VOTERS: SCHOOL: DISCUSSED ACTIVELY ABOUT AUSTRIAN DOMESTIC POLITICS -w3_q34x1',\n",
    "'w3_q34x2':'YOUNG VOTERS: SCHOOL: DISCUSSED ABOUT VOTING WITH 16 -w3_q34x2',\n",
    "'w3_q34x3':'YOUNG VOTERS: SCHOOL: PARTICIPATED IN SCHOOL DEMOCRACY -w3_q34x3',\n",
    "'w3_q34x4':'YOUNG VOTERS: SCHOOL: PARTICIPATED IN A PROJECT ABOUT POLITICS -w3_q34x4',\n",
    "'w3_q36':'YOUNG VOTERS: LIVES WITH PARENTS/PARTENT IN A HOUSEHOLD -w3_q36',\n",
    "'w3_q4x1':'MOST COMPETENT PARTY: JOB MARKET AND EMPLOYMENT -w3_q4x1',\n",
    "'w3_q4x2':'MOST COMPETENT PARTY: IMMIGRATION -w3_q4x2',\n",
    "'w3_q4x3':'MOST COMPETENT PARTY: EUROPEAN INTEGRATION: -w3_q4x3',\n",
    "'w3_q4x4':'MOST COMPETENT PARTY ECONOMIC POLICY: -w3_q4x4',\n",
    "'w3_q4x5':'MOST COMPETENT PARTY ENVIRONMENTAL PROTECTION: -w3_q4x5',\n",
    "'w3_q28x1':'R. RECEIVED LETTER/FLYER/E-MAIL DURING CAMPAIGN (YES/NO): -w3_q28x1',\n",
    "'w3_q28x2':'R. RECEIVED A CALL OR A TEXT MESSAGE DURING CAMPAIGN (YES/NO): -w3_q28x2',\n",
    "'w3_q28x3':'R. RECEIVED INFORMATION MATERIAL/PROMOTIONAL GIFTS DURING CAMPAIGN (YES/NO): -w3_q28x3',\n",
    "'w3_q28x4':'R. TALKED TO A PARTY MEMBER DURING CAMPAIGN (YES/NO): -w3_q28x4',\n",
    "'w3_q28x5':'POLITICIAN VISITED R. AT HOME/WORK DURING CAMPAIGN (YES/NO): -w3_q28x5',\n",
    "'w3_q28x6':'R. SAW TV ADVERTISEMENT DURING CAMPAIGN (YES/NO) -w3_q28x6',\n",
    "'w3_q28x1_1':'R. RECEIVED LETTER/FLYER/E-MAIL DURING CAMPAIGN: SPOE -w3_q28x1_1',\n",
    "'w3_q28x1_2':'R. RECEIVED LETTER/FLYER/E-MAIL DURING CAMPAIGN: OEVP -w3_q28x1_2',\n",
    "'w3_q28x1_3':'R. RECEIVED LETTER/FLYER/E-MAIL DURING CAMPAIGN: FPOE -w3_q28x1_3',\n",
    "'w3_q28x1_4':'R. RECEIVED LETTER/FLYER/E-MAIL DURING CAMPAIGN: THE GREENS -w3_q28x1_4',\n",
    "'w3_q28x1_5':'R. RECEIVED LETTER/FLYER/E-MAIL DURING CAMPAIGN: NEOS -w3_q28x1_5',\n",
    "'w3_q28x1_6':'R. RECEIVED LETTER/FLYER/E-MAIL DURING CAMPAIGN: LIST PETER PILZ -w3_q28x1_6',\n",
    "'w3_q28x1_7':'R. RECEIVED LETTER/FLYER/E-MAIL DURING CAMPAIGN: OTHER PARTY -w3_q28x1_7',\n",
    "'w3_q28x1_8':'R. RECEIVED LETTER/FLYER/E-MAIL DURINGCAMPAIGN: DONT KNOW -w3_q28x1_8',\n",
    "'w3_q28x1_9':'R. RECEIVED LETTER/FLYER/E-MAIL DURING CAMPAIGN: REFUSED -w3_q28x1_9',\n",
    "'w3_q28x2_1':'R. RECEIVED A CALL OR A TEXT MESSAGE DURING CAMPAIGN: SPOE -w3_q28x2_1',\n",
    "'w3_q28x2_2':'R. RECEIVED A CALL OR A TEXT MESSAGE DURING CAMPAIGN: OEVP -w3_q28x2_2',\n",
    "'w3_q28x2_3':'R. RECEIVED A CALL OR A TEXT MESSAGE DURING CAMPAIGN: FPOE -w3_q28x2_3',\n",
    "'w3_q28x2_4':'R. RECEIVED A CALL OR A TEXT MESSAGE DURING CAMPAIGN: THE GREENS -w3_q28x2_4',\n",
    "'w3_q28x2_5':'R. RECEIVED A CALL OR A TEXT MESSAGE DURING CAMPAIGN: NEOS -w3_q28x2_5',\n",
    "'w3_q28x2_6':'R. RECEIVED A CALL OR A TEXT MESSAGE DURING CAMPAIGN: LIST PETER PILZ -w3_q28x2_6',\n",
    "'w3_q28x2_7':'R. RECEIVED A CALL OR A TEXT MESSAGE DURING CAMPAIGN: OTHER PARTY -w3_q28x2_7',\n",
    "'w3_q28x2_8':'R. RECEIVED A CALL OR A TEXT MESSAGE DURING CAMPAIGN: DONT KNOW -w3_q28x2_8',\n",
    "'w3_q28x2_9':'R. RECEIVED A CALL OR A TEXT MESSAGE DURING CAMPAIGN: REFUSED -w3_q28x2_9',\n",
    "'w3_q28x3_1':'R. RECEIVED INFORMATION MATERIAL/FREEBIE DURING CAMPAIGN: SPOE -w3_q28x3_1',\n",
    "'w3_q28x3_2':'R. RECEIVED INFORMATION MATERIAL/FREEBIE DURING CAMPAIGN: OEVP -w3_q28x3_2',\n",
    "'w3_q28x3_3':'R. RECEIVED INFORMATION MATERIAL/FREEBIE DURING CAMPAIGN: FPOE -w3_q28x3_3',\n",
    "'w3_q28x3_4':'R. RECEIVED INFORMATION MATERIAL/FREEBIE DURING CAMPAIGN: THE GREENS -w3_q28x3_4',\n",
    "'w3_q28x3_5':'R. RECEIVED INFORMATION MATERIAL/FREEBIE DURING CAMPAIGN: NEOS -w3_q28x3_5',\n",
    "'w3_q28x3_6':'R. RECEIVED INFORMATION MATERIAL/FREEBIE DURING CAMPAIGN: LIST PETER PILZ -w3_q28x3_6',\n",
    "'w3_q28x3_7':'R. RECEIVED INFORMATION MATERIAL/FREEBIE DURING CAMPAIGN: OTHER PARTY -w3_q28x3_7',\n",
    "'w3_q28x3_8':'R. RECEIVED INFORMATION MATERIAL/FREEBIE DURING CAMPAIGN: DONT KNOW -w3_q28x3_8',\n",
    "'w3_q28x3_9':'R. RECEIVED INFORMATION MATERIAL/FREEBIE DURING CAMPAIGN: REFUSED -w3_q28x3_9',\n",
    "'w3_q28x4_1':'R. TALKED TO A PARTY WORKER DURING CAMPAIGN: SPOE -w3_q28x4_1',\n",
    "'w3_q28x4_2':'R. TALKED TO A PARTY WORKER DURING CAMPAIGN: OEVP -w3_q28x4_2',\n",
    "'w3_q28x4_3':'R. TALKED TO A PARTY WORKER DURING CAMPAIGN: FPOE -w3_q28x4_3',\n",
    "'w3_q28x4_4':'R. TALKED TO A PARTY WORKER DURING CAMPAIGN: THE GREENS -w3_q28x4_4',\n",
    "'w3_q28x4_5':'R. TALKED TO A PARTY WORKER DURING CAMPAIGN: NEOS -w3_q28x4_5',\n",
    "'w3_q28x4_6':'R. TALKED TO A PARTY WORKER DURING CAMPAIGN: LIST PETER PILZ -w3_q28x4_6',\n",
    "'w3_q28x4_7':'R. TALKED TO A PARTY WORKER DURING CAMPAIGN: OTHER PARTY -w3_q28x4_7',\n",
    "'w3_q28x4_8':'R. TALKED TO A PARTY WORKER DURING CAMPAIGN: DONT KNOW -w3_q28x4_8',\n",
    "'w3_q28x4_9':'R: TALKED TO A PARTY WORKER DURING CAMPAIGN: REFUSED -w3_q28x4_9',\n",
    "'w3_q28x5_1':'POLITICIAN VISITED R. AT HOME/WORK DURING CAMPAIGN: SPOE -w3_q28x5_1',\n",
    "'w3_q28x5_2':'POLITICIAN VISITED R. AT HOME/WORK DURING CAMPAIGN: OEVP -w3_q28x5_2',\n",
    "'w3_q28x5_3':'POLITICIAN VISITED R. AT HOME/WORK DURING CAMPAIGN: FPOE -w3_q28x5_3',\n",
    "'w3_q28x5_4':'POLITICIAN VISITED R. AT HOME/WORK DURING CAMPAIGN: THE GREENS -w3_q28x5_4',\n",
    "'w3_q28x5_5':'POLITICIAN VISITED R. AT HOME/WORK DURING CAMPAIGN: NEOS -w3_q28x5_5',\n",
    "'w3_q28x5_6':'POLITICIAN VISITED R. AT HOME/WORK DURING CAMPAIGN: LIST PETER PILZ -w3_q28x5_6',\n",
    "'w3_q28x5_7':'POLITICIAN VISITED R. AT HOME/WORK DURING CAMPAIGN: OTHER PARTY -w3_q28x5_7',\n",
    "'w3_q28x5_8':'POLITICIAN VISITED R. AT HOME/WORK DURING CAMPAIGN: DONT KNOW -w3_q28x5_8',\n",
    "'w3_q28x5_9':'POLITICIAN VISITED R. AT HOME/WORK DURING CAMPAIGN: REFUSED -w3_q28x5_9',\n",
    "'w3_q28x6_1':'R. SAW TV ADS DURING CAMPAIGN: SPOE -w3_q28x6_1',\n",
    "'w3_q28x6_2':'R. SAW TV ADS DURING CAMPAIGN: OEVP -w3_q28x6_2',\n",
    "'w3_q28x6_3':'R. SAW TV ADS DURING CAMPAIGN: FPOE -w3_q28x6_3',\n",
    "'w3_q28x6_4':'R. SAW TV ADS DURING CAMPAIGN: THE GREENS -w3_q28x6_4',\n",
    "'w3_q28x6_5':'R. SAW TV ADS DURING CAMPAIGN: NEOS -w3_q28x6_5',\n",
    "'w3_q28x6_6':'R. SAW TV ADS DURING CAMPAIGN: LIST PETER PILZ -w3_q28x6_6',\n",
    "'w3_q28x6_7':'R. SAW TV ADS DURING CAMPAIGN: OTHER PARTY -w3_q28x6_7',\n",
    "'w3_q28x6_8':'R. SAW TV ADS DURING CAMPAIGN: DONT KNOW -w3_q28x6_8',\n",
    "'w3_q28x6_9':'R. SAW TV ADS DURING CAMPAIGN: REFUSED -w3_q28x6_9',\n",
    "'w3_source':'SOURCE: -w3_source'}"
   ]
  },
  {
   "cell_type": "code",
   "execution_count": 19,
   "metadata": {},
   "outputs": [
    {
     "data": {
      "text/plain": [
       "{'w1_source': 'SOURCE: -w1_source',\n",
       " 'w1_q9': 'VOTE CHOICE NATIONAL ELECTION 2013: -w1_q9',\n",
       " 'w1_q13': 'CLOSENESS TO A POLITICAL PARTY: -w1_q13',\n",
       " 'w1_q14': 'CLOSER TO ONE PARTY THAN TO ANOTHER -w1_q14',\n",
       " 'w1_q15': 'PARTY R. FEELS CLOSER TO: -w1_q15',\n",
       " 'w1_q24': 'PARTY CHOICE: PROSPECTIVE -w1_q24',\n",
       " 'w1_q25': 'PARTY CHOICE: HYPOTHETICAL -w1_q25',\n",
       " 'w1_q26': 'DIRECT ELECTION OF CHANCELLOR -w1_q26',\n",
       " 'w1_q28x1': 'YOUNG VOTERS: WATCHED TV DEBATE -w1_q28x1',\n",
       " 'w1_q28x2': 'YOUNG VOTERS: VISITED THE PARLIAMENT -w1_q28x2',\n",
       " 'w1_q28x3': 'YOUNG VOTERS: VISITED A YOUTH CENTER -w1_q28x3',\n",
       " 'w1_q28x4': 'YOUNG VOTERS: PARTICIPATED IN A YOUTH PARLIAMENT -w1_q28x4',\n",
       " 'w1_q28x5': 'YOUNG VOTERS: HEARD OF THE PARLIAMENTS DEMOCRACY WORKSHOPS -w1_q28x5',\n",
       " 'w1_q28x6': 'YOUNG VOTERS: PARTICIPATED IN THE PARLIAMENTS DEMOCRACY WORKSHOP -w1_q28x6',\n",
       " 'w3_q31x5': 'YOUNG VOTERS: WATCHED TV DEBATE WITH FRONT-RUNNERS -w3_q31x5',\n",
       " 'w1_q29x1': 'YOUNG VOTERS: SCHOOL: DISCUSSED ACTIVELY ABOUT AUSTRIAN DOMESTIC POLITICS -w1_q29x1',\n",
       " 'w1_q29x2': 'YOUNG VOTERS: SCHOOL: DISCUSSED ABOUT VOTING WITH 16 -w1_q29x2',\n",
       " 'w1_q29x3': 'YOUNG VOTERS: SCHOOL: PARTICIPATED IN SCHOOL DEMOCRACY -w1_q29x3',\n",
       " 'w1_q29x4': 'YOUNG VOTERS: SCHOOL: PARTICIPATED IN A PROJECT ABOUT POLITICS -w1_q29x4',\n",
       " 'w1_q29x5': 'YOUNG VOTERS: SCHOOL: TALKED ABOUT THE NATIONAL ELECTION -w1_q29x5',\n",
       " 'w1_q31': 'YOUNG VOTERS: LIVES WITH PARENTS/PARTENT IN A HOUSEHOLD -w1_q31',\n",
       " 'w1_q20': 'voting_age_awareness -w1_q20',\n",
       " 'w1_sd17': 'UNION MEMBERSHIP -w1_sd17',\n",
       " 'w1_mode': 'TELEPHONE MODE -w1_mode',\n",
       " 'w1_jw': 'YOUNG VOTER (YOUNGER THAN 21) -w1_jw',\n",
       " 'w2_q3x1': 'MOST COMPETENT PARTY: JOB MARKET AND EMPLOYMENT -w2_q3x1',\n",
       " 'w2_q3x2': 'MOST COMPETENT PARTY: IMMIGRATION -w2_q3x2',\n",
       " 'w2_q3x3': 'MOST COMPETENT PARTY: EUROPEAN INTEGRATION: -w2_q3x3',\n",
       " 'w2_q3x4': 'MOST COMPETENT PARTY ECONOMIC POLICY: -w2_q3x4',\n",
       " 'w2_q3x5': 'MOST COMPETENT PARTY ENVIRONMENTAL PROTECTION: -w2_q3x5',\n",
       " 'w3_q4x6': 'MOST COMPETENT PARTY FIGHTING CORRUPTION: -w3_q4x6',\n",
       " 'w2_q5x1': 'R. RECEIVED LETTER/FLYER/E-MAIL DURING CAMPAIGN (YES/NO): -w2_q5x1',\n",
       " 'w2_q5x2': 'R. RECEIVED A CALL OR A TEXT MESSAGE DURING CAMPAIGN (YES/NO): -w2_q5x2',\n",
       " 'w2_q5x3': 'R. RECEIVED INFORMATION MATERIAL/PROMOTIONAL GIFTS DURING CAMPAIGN (YES/NO): -w2_q5x3',\n",
       " 'w2_q5x4': 'R. TALKED TO A PARTY MEMBER DURING CAMPAIGN (YES/NO): -w2_q5x4',\n",
       " 'w2_q5x5': 'POLITICIAN VISITED R. AT HOME/WORK DURING CAMPAIGN (YES/NO): -w2_q5x5',\n",
       " 'w2_q5x6': 'R. SAW TV ADVERTISEMENT DURING CAMPAIGN (YES/NO) -w2_q5x6',\n",
       " 'w2_q5x1_1': 'R. RECEIVED LETTER/FLYER/E-MAIL DURING CAMPAIGN: SPOE -w2_q5x1_1',\n",
       " 'w2_q5x1_2': 'R. RECEIVED LETTER/FLYER/E-MAIL DURING CAMPAIGN: OEVP -w2_q5x1_2',\n",
       " 'w2_q5x1_3': 'R. RECEIVED LETTER/FLYER/E-MAIL DURING CAMPAIGN: FPOE -w2_q5x1_3',\n",
       " 'w2_q5x1_4': 'R. RECEIVED LETTER/FLYER/E-MAIL DURING CAMPAIGN: THE GREENS -w2_q5x1_4',\n",
       " 'w2_q5x1_5': 'R. RECEIVED LETTER/FLYER/E-MAIL DURING CAMPAIGN: NEOS -w2_q5x1_5',\n",
       " 'w2_q5x1_6': 'R. RECEIVED LETTER/FLYER/E-MAIL DURING CAMPAIGN: LIST PETER PILZ -w2_q5x1_6',\n",
       " 'w2_q5x1_7': 'R. RECEIVED LETTER/FLYER/E-MAIL DURING CAMPAIGN: OTHER PARTY -w2_q5x1_7',\n",
       " 'w2_q5x1_8': 'R. RECEIVED LETTER/FLYER/E-MAIL DURINGCAMPAIGN: DONT KNOW -w2_q5x1_8',\n",
       " 'w2_q5x1_9': 'R. RECEIVED LETTER/FLYER/E-MAIL DURING CAMPAIGN: REFUSED -w2_q5x1_9',\n",
       " 'w2_q5x2_1': 'R. RECEIVED A CALL OR A TEXT MESSAGE DURING CAMPAIGN: SPOE -w2_q5x2_1',\n",
       " 'w2_q5x2_2': 'R. RECEIVED A CALL OR A TEXT MESSAGE DURING CAMPAIGN: OEVP -w2_q5x2_2',\n",
       " 'w2_q5x2_3': 'R. RECEIVED A CALL OR A TEXT MESSAGE DURING CAMPAIGN: FPOE -w2_q5x2_3',\n",
       " 'w2_q5x2_4': 'R. RECEIVED A CALL OR A TEXT MESSAGE DURING CAMPAIGN: THE GREENS -w2_q5x2_4',\n",
       " 'w2_q5x2_5': 'R. RECEIVED A CALL OR A TEXT MESSAGE DURING CAMPAIGN: NEOS -w2_q5x2_5',\n",
       " 'w2_q5x2_6': 'R. RECEIVED A CALL OR A TEXT MESSAGE DURING CAMPAIGN: LIST PETER PILZ -w2_q5x2_6',\n",
       " 'w2_q5x2_7': 'R. RECEIVED A CALL OR A TEXT MESSAGE DURING CAMPAIGN: OTHER PARTY -w2_q5x2_7',\n",
       " 'w2_q5x2_8': 'R. RECEIVED A CALL OR A TEXT MESSAGE DURING CAMPAIGN: DONT KNOW -w2_q5x2_8',\n",
       " 'w2_q5x2_9': 'R. RECEIVED A CALL OR A TEXT MESSAGE DURING CAMPAIGN: REFUSED -w2_q5x2_9',\n",
       " 'w2_q5x3_1': 'R. RECEIVED INFORMATION MATERIAL/FREEBIE DURING CAMPAIGN: SPOE -w2_q5x3_1',\n",
       " 'w2_q5x3_2': 'R. RECEIVED INFORMATION MATERIAL/FREEBIE DURING CAMPAIGN: OEVP -w2_q5x3_2',\n",
       " 'w2_q5x3_3': 'R. RECEIVED INFORMATION MATERIAL/FREEBIE DURING CAMPAIGN: FPOE -w2_q5x3_3',\n",
       " 'w2_q5x3_4': 'R. RECEIVED INFORMATION MATERIAL/FREEBIE DURING CAMPAIGN: THE GREENS -w2_q5x3_4',\n",
       " 'w2_q5x3_5': 'R. RECEIVED INFORMATION MATERIAL/FREEBIE DURING CAMPAIGN: NEOS -w2_q5x3_5',\n",
       " 'w2_q5x3_6': 'R. RECEIVED INFORMATION MATERIAL/FREEBIE DURING CAMPAIGN: LIST PETER PILZ -w2_q5x3_6',\n",
       " 'w2_q5x3_7': 'R. RECEIVED INFORMATION MATERIAL/FREEBIE DURING CAMPAIGN: OTHER PARTY -w2_q5x3_7',\n",
       " 'w2_q5x3_8': 'R. RECEIVED INFORMATION MATERIAL/FREEBIE DURING CAMPAIGN: DONT KNOW -w2_q5x3_8',\n",
       " 'w2_q5x3_9': 'R. RECEIVED INFORMATION MATERIAL/FREEBIE DURING CAMPAIGN: REFUSED -w2_q5x3_9',\n",
       " 'w2_q5x4_1': 'R. TALKED TO A PARTY WORKER DURING CAMPAIGN: SPOE -w2_q5x4_1',\n",
       " 'w2_q5x4_2': 'R. TALKED TO A PARTY WORKER DURING CAMPAIGN: OEVP -w2_q5x4_2',\n",
       " 'w2_q5x4_3': 'R. TALKED TO A PARTY WORKER DURING CAMPAIGN: FPOE -w2_q5x4_3',\n",
       " 'w2_q5x4_4': 'R. TALKED TO A PARTY WORKER DURING CAMPAIGN: THE GREENS -w2_q5x4_4',\n",
       " 'w2_q5x4_5': 'R. TALKED TO A PARTY WORKER DURING CAMPAIGN: NEOS -w2_q5x4_5',\n",
       " 'w2_q5x4_6': 'R. TALKED TO A PARTY WORKER DURING CAMPAIGN: LIST PETER PILZ -w2_q5x4_6',\n",
       " 'w2_q5x4_7': 'R. TALKED TO A PARTY WORKER DURING CAMPAIGN: OTHER PARTY -w2_q5x4_7',\n",
       " 'w2_q5x4_8': 'R. TALKED TO A PARTY WORKER DURING CAMPAIGN: DONT KNOW -w2_q5x4_8',\n",
       " 'w2_q5x4_9': 'R: TALKED TO A PARTY WORKER DURING CAMPAIGN: REFUSED -w2_q5x4_9',\n",
       " 'w2_q5x5_1': 'POLITICIAN VISITED R. AT HOME/WORK DURING CAMPAIGN: SPOE -w2_q5x5_1',\n",
       " 'w2_q5x5_2': 'POLITICIAN VISITED R. AT HOME/WORK DURING CAMPAIGN: OEVP -w2_q5x5_2',\n",
       " 'w2_q5x5_3': 'POLITICIAN VISITED R. AT HOME/WORK DURING CAMPAIGN: FPOE -w2_q5x5_3',\n",
       " 'w2_q5x5_4': 'POLITICIAN VISITED R. AT HOME/WORK DURING CAMPAIGN: THE GREENS -w2_q5x5_4',\n",
       " 'w2_q5x5_5': 'POLITICIAN VISITED R. AT HOME/WORK DURING CAMPAIGN: NEOS -w2_q5x5_5',\n",
       " 'w2_q5x5_6': 'POLITICIAN VISITED R. AT HOME/WORK DURING CAMPAIGN: LIST PETER PILZ -w2_q5x5_6',\n",
       " 'w2_q5x5_7': 'POLITICIAN VISITED R. AT HOME/WORK DURING CAMPAIGN: OTHER PARTY -w2_q5x5_7',\n",
       " 'w2_q5x5_8': 'POLITICIAN VISITED R. AT HOME/WORK DURING CAMPAIGN: DONT KNOW -w2_q5x5_8',\n",
       " 'w2_q5x5_9': 'POLITICIAN VISITED R. AT HOME/WORK DURING CAMPAIGN: REFUSED -w2_q5x5_9',\n",
       " 'w2_q5x6_1': 'R. SAW TV ADS DURING CAMPAIGN: SPOE -w2_q5x6_1',\n",
       " 'w2_q5x6_2': 'R. SAW TV ADS DURING CAMPAIGN: OEVP -w2_q5x6_2',\n",
       " 'w2_q5x6_3': 'R. SAW TV ADS DURING CAMPAIGN: FPOE -w2_q5x6_3',\n",
       " 'w2_q5x6_4': 'R. SAW TV ADS DURING CAMPAIGN: THE GREENS -w2_q5x6_4',\n",
       " 'w2_q5x6_5': 'R. SAW TV ADS DURING CAMPAIGN: NEOS -w2_q5x6_5',\n",
       " 'w2_q5x6_6': 'R. SAW TV ADS DURING CAMPAIGN: LIST PETER PILZ -w2_q5x6_6',\n",
       " 'w2_q5x6_7': 'R. SAW TV ADS DURING CAMPAIGN: OTHER PARTY -w2_q5x6_7',\n",
       " 'w2_q5x6_8': 'R. SAW TV ADS DURING CAMPAIGN: DONT KNOW -w2_q5x6_8',\n",
       " 'w2_q5x6_9': 'R. SAW TV ADS DURING CAMPAIGN: REFUSED -w2_q5x6_9',\n",
       " 'w2_q20x1': 'PREFERRED COALITION: SPOE-OEVP -w2_q20x1',\n",
       " 'w2_q20x2': 'PREFERRED COALITION: OEVP-FPOE -w2_q20x2',\n",
       " 'w2_q20x3': 'PREFERRED COALITION: SPOE-FPOE -w2_q20x3',\n",
       " 'w2_q21': 'OTHER COALITION (YES/NO) -w2_q21',\n",
       " 'w2_q22': 'WHICH OTHER COALITION -w2_q22',\n",
       " 'w3_q9': 'OPINION: ASSESSMENT OF AUSTRIAS EU MEMBERSHIP -w3_q9',\n",
       " 'w3_q15': 'TURNOUT: NATIONAL ELECTION 2017 -w3_q15',\n",
       " 'w3_q16': 'VOTE CHOICE: NATIONAL ELECTION 2017 -w3_q16',\n",
       " 'w3_q18': 'PREFERENTIAL VOTE CASTED -w3_q18',\n",
       " 'w3_q19x1': 'PREFERENCE VOTE: REGIONAL LIST -w3_q19x1',\n",
       " 'w3_q19x2': 'PREFERENCE VOTE: PROVINCIAL LIST -w3_q19x2',\n",
       " 'w3_q19x3': 'PREFERENCE VOTE: FEDERAL LIST -w3_q19x3',\n",
       " 'w3_q22x1': 'CAMPAIGN: ATTACKED OPPONENTS THE MOST: SPOE -w3_q22x1',\n",
       " 'w3_q22x2': 'CAMPAIGN: ATTACKED OPPONENTS THE MOST: LIST SEBASTIAN KURZ -w3_q22x2',\n",
       " 'w3_q22x3': 'CAMPAIGN: ATTACKED OPPONENTS THE MOST: FPOE -w3_q22x3',\n",
       " 'w3_q22x4': 'CAMPAIGN: ATTACKED OPPONENTS THE MOST: THE GREENS -w3_q22x4',\n",
       " 'w3_q22x5': 'CAMPAIGN: ATTACKED OPPONENTS THE MOST: NEOS -w3_q22x5',\n",
       " 'w3_q22x6': 'CAMPAIGN: ATTACKED OPPONENTS THE MOST: LIST PETER PILZ -w3_q22x6',\n",
       " 'w3_q22x7': 'CAMPAIGN: ATTACKED OPPONENTS THE MOST: THE WHITES -w3_q22x7',\n",
       " 'w3_q22x8': 'CAMPAIGN: ATTACKED OPPONENTS THE MOST: FLOE -w3_q22x8',\n",
       " 'w3_q22x9': 'CAMPAIGN: ATTACKED OPPONENTS THE MOST: KPOE PLUS -w3_q22x9',\n",
       " 'w3_q22x10': 'CAMPAIGN: ATTACKED OPPONENTS THE MOST: LIST ROLAND DUERINGER -w3_q22x10',\n",
       " 'w3_q22x11': 'CAMPAIGN: ATTACKED OPPONENTS THE MOST: NO PARTY -w3_q22x11',\n",
       " 'w3_q22x12': 'CAMPAIGN: ATTACKED OPPONENTS THE MOST: DONT KNOW -w3_q22x12',\n",
       " 'w3_q22x13': 'CAMPAIGN: ATTACKED OPPONENTS THE MOST: REFUSED -w3_q22x13',\n",
       " 'w3_q27x1': 'POLITICAL PARTICIPATION: COLLECTION OF SIGNITURES (RETROSPECTIVE) -w3_q27x1',\n",
       " 'w3_q27x2': 'POLITICAL PARTICIPATION: CITIZENS INITIATIVE (RETROSPECTIVE) -w3_q27x2',\n",
       " 'w3_q27x3': 'POLITICAL PARTICIPATION: DEMONSTRATION (RETROSPECTIVE) -w3_q27x3',\n",
       " 'w3_q27x4': 'POLITICAL PARTICIPATION: PERSONAL CONTACT WITH POLITICIAN (RETROSPECTIVE) -w3_q27x4',\n",
       " 'w3_q27x5': 'POLITICAL PARTICIPATION: PRODUCTS BOUGHT (RETROSPECTIVE) -w3_q27x5',\n",
       " 'w3_sd4': 'WERE PARENTS BORN IN AUSTRIA -w3_sd4',\n",
       " 'w2_source': 'SOURCE: -w2_source',\n",
       " 'w2_q16': 'PARTY CHOICE: PROSPECTIVE -w2_q16',\n",
       " 'w2_q17': 'PARTY CHOICE: HYPOTHETICAL -w2_q17',\n",
       " 'w2_q18': 'DIRECT ELECTION OF CHANCELLOR -w2_q18',\n",
       " 'w3_q31x1': 'YOUNG VOTERS: WATCHED TV DEBATE -w3_q31x1',\n",
       " 'w3_q31x2': 'YOUNG VOTERS: VISITED THE PARLIAMENT -w3_q31x2',\n",
       " 'w3_q31x3': 'YOUNG VOTERS: VISITED A YOUTH CENTER -w3_q31x3',\n",
       " 'w3_q31x4': 'YOUNG VOTERS: PARTICIPATED IN A YOUTH PARLIAMENT -w3_q31x4',\n",
       " 'w3_q34x1': 'YOUNG VOTERS: SCHOOL: DISCUSSED ACTIVELY ABOUT AUSTRIAN DOMESTIC POLITICS -w3_q34x1',\n",
       " 'w3_q34x2': 'YOUNG VOTERS: SCHOOL: DISCUSSED ABOUT VOTING WITH 16 -w3_q34x2',\n",
       " 'w3_q34x3': 'YOUNG VOTERS: SCHOOL: PARTICIPATED IN SCHOOL DEMOCRACY -w3_q34x3',\n",
       " 'w3_q34x4': 'YOUNG VOTERS: SCHOOL: PARTICIPATED IN A PROJECT ABOUT POLITICS -w3_q34x4',\n",
       " 'w3_q36': 'YOUNG VOTERS: LIVES WITH PARENTS/PARTENT IN A HOUSEHOLD -w3_q36',\n",
       " 'w3_q4x1': 'MOST COMPETENT PARTY: JOB MARKET AND EMPLOYMENT -w3_q4x1',\n",
       " 'w3_q4x2': 'MOST COMPETENT PARTY: IMMIGRATION -w3_q4x2',\n",
       " 'w3_q4x3': 'MOST COMPETENT PARTY: EUROPEAN INTEGRATION: -w3_q4x3',\n",
       " 'w3_q4x4': 'MOST COMPETENT PARTY ECONOMIC POLICY: -w3_q4x4',\n",
       " 'w3_q4x5': 'MOST COMPETENT PARTY ENVIRONMENTAL PROTECTION: -w3_q4x5',\n",
       " 'w3_q28x1': 'R. RECEIVED LETTER/FLYER/E-MAIL DURING CAMPAIGN (YES/NO): -w3_q28x1',\n",
       " 'w3_q28x2': 'R. RECEIVED A CALL OR A TEXT MESSAGE DURING CAMPAIGN (YES/NO): -w3_q28x2',\n",
       " 'w3_q28x3': 'R. RECEIVED INFORMATION MATERIAL/PROMOTIONAL GIFTS DURING CAMPAIGN (YES/NO): -w3_q28x3',\n",
       " 'w3_q28x4': 'R. TALKED TO A PARTY MEMBER DURING CAMPAIGN (YES/NO): -w3_q28x4',\n",
       " 'w3_q28x5': 'POLITICIAN VISITED R. AT HOME/WORK DURING CAMPAIGN (YES/NO): -w3_q28x5',\n",
       " 'w3_q28x6': 'R. SAW TV ADVERTISEMENT DURING CAMPAIGN (YES/NO) -w3_q28x6',\n",
       " 'w3_q28x1_1': 'R. RECEIVED LETTER/FLYER/E-MAIL DURING CAMPAIGN: SPOE -w3_q28x1_1',\n",
       " 'w3_q28x1_2': 'R. RECEIVED LETTER/FLYER/E-MAIL DURING CAMPAIGN: OEVP -w3_q28x1_2',\n",
       " 'w3_q28x1_3': 'R. RECEIVED LETTER/FLYER/E-MAIL DURING CAMPAIGN: FPOE -w3_q28x1_3',\n",
       " 'w3_q28x1_4': 'R. RECEIVED LETTER/FLYER/E-MAIL DURING CAMPAIGN: THE GREENS -w3_q28x1_4',\n",
       " 'w3_q28x1_5': 'R. RECEIVED LETTER/FLYER/E-MAIL DURING CAMPAIGN: NEOS -w3_q28x1_5',\n",
       " 'w3_q28x1_6': 'R. RECEIVED LETTER/FLYER/E-MAIL DURING CAMPAIGN: LIST PETER PILZ -w3_q28x1_6',\n",
       " 'w3_q28x1_7': 'R. RECEIVED LETTER/FLYER/E-MAIL DURING CAMPAIGN: OTHER PARTY -w3_q28x1_7',\n",
       " 'w3_q28x1_8': 'R. RECEIVED LETTER/FLYER/E-MAIL DURINGCAMPAIGN: DONT KNOW -w3_q28x1_8',\n",
       " 'w3_q28x1_9': 'R. RECEIVED LETTER/FLYER/E-MAIL DURING CAMPAIGN: REFUSED -w3_q28x1_9',\n",
       " 'w3_q28x2_1': 'R. RECEIVED A CALL OR A TEXT MESSAGE DURING CAMPAIGN: SPOE -w3_q28x2_1',\n",
       " 'w3_q28x2_2': 'R. RECEIVED A CALL OR A TEXT MESSAGE DURING CAMPAIGN: OEVP -w3_q28x2_2',\n",
       " 'w3_q28x2_3': 'R. RECEIVED A CALL OR A TEXT MESSAGE DURING CAMPAIGN: FPOE -w3_q28x2_3',\n",
       " 'w3_q28x2_4': 'R. RECEIVED A CALL OR A TEXT MESSAGE DURING CAMPAIGN: THE GREENS -w3_q28x2_4',\n",
       " 'w3_q28x2_5': 'R. RECEIVED A CALL OR A TEXT MESSAGE DURING CAMPAIGN: NEOS -w3_q28x2_5',\n",
       " 'w3_q28x2_6': 'R. RECEIVED A CALL OR A TEXT MESSAGE DURING CAMPAIGN: LIST PETER PILZ -w3_q28x2_6',\n",
       " 'w3_q28x2_7': 'R. RECEIVED A CALL OR A TEXT MESSAGE DURING CAMPAIGN: OTHER PARTY -w3_q28x2_7',\n",
       " 'w3_q28x2_8': 'R. RECEIVED A CALL OR A TEXT MESSAGE DURING CAMPAIGN: DONT KNOW -w3_q28x2_8',\n",
       " 'w3_q28x2_9': 'R. RECEIVED A CALL OR A TEXT MESSAGE DURING CAMPAIGN: REFUSED -w3_q28x2_9',\n",
       " 'w3_q28x3_1': 'R. RECEIVED INFORMATION MATERIAL/FREEBIE DURING CAMPAIGN: SPOE -w3_q28x3_1',\n",
       " 'w3_q28x3_2': 'R. RECEIVED INFORMATION MATERIAL/FREEBIE DURING CAMPAIGN: OEVP -w3_q28x3_2',\n",
       " 'w3_q28x3_3': 'R. RECEIVED INFORMATION MATERIAL/FREEBIE DURING CAMPAIGN: FPOE -w3_q28x3_3',\n",
       " 'w3_q28x3_4': 'R. RECEIVED INFORMATION MATERIAL/FREEBIE DURING CAMPAIGN: THE GREENS -w3_q28x3_4',\n",
       " 'w3_q28x3_5': 'R. RECEIVED INFORMATION MATERIAL/FREEBIE DURING CAMPAIGN: NEOS -w3_q28x3_5',\n",
       " 'w3_q28x3_6': 'R. RECEIVED INFORMATION MATERIAL/FREEBIE DURING CAMPAIGN: LIST PETER PILZ -w3_q28x3_6',\n",
       " 'w3_q28x3_7': 'R. RECEIVED INFORMATION MATERIAL/FREEBIE DURING CAMPAIGN: OTHER PARTY -w3_q28x3_7',\n",
       " 'w3_q28x3_8': 'R. RECEIVED INFORMATION MATERIAL/FREEBIE DURING CAMPAIGN: DONT KNOW -w3_q28x3_8',\n",
       " 'w3_q28x3_9': 'R. RECEIVED INFORMATION MATERIAL/FREEBIE DURING CAMPAIGN: REFUSED -w3_q28x3_9',\n",
       " 'w3_q28x4_1': 'R. TALKED TO A PARTY WORKER DURING CAMPAIGN: SPOE -w3_q28x4_1',\n",
       " 'w3_q28x4_2': 'R. TALKED TO A PARTY WORKER DURING CAMPAIGN: OEVP -w3_q28x4_2',\n",
       " 'w3_q28x4_3': 'R. TALKED TO A PARTY WORKER DURING CAMPAIGN: FPOE -w3_q28x4_3',\n",
       " 'w3_q28x4_4': 'R. TALKED TO A PARTY WORKER DURING CAMPAIGN: THE GREENS -w3_q28x4_4',\n",
       " 'w3_q28x4_5': 'R. TALKED TO A PARTY WORKER DURING CAMPAIGN: NEOS -w3_q28x4_5',\n",
       " 'w3_q28x4_6': 'R. TALKED TO A PARTY WORKER DURING CAMPAIGN: LIST PETER PILZ -w3_q28x4_6',\n",
       " 'w3_q28x4_7': 'R. TALKED TO A PARTY WORKER DURING CAMPAIGN: OTHER PARTY -w3_q28x4_7',\n",
       " 'w3_q28x4_8': 'R. TALKED TO A PARTY WORKER DURING CAMPAIGN: DONT KNOW -w3_q28x4_8',\n",
       " 'w3_q28x4_9': 'R: TALKED TO A PARTY WORKER DURING CAMPAIGN: REFUSED -w3_q28x4_9',\n",
       " 'w3_q28x5_1': 'POLITICIAN VISITED R. AT HOME/WORK DURING CAMPAIGN: SPOE -w3_q28x5_1',\n",
       " 'w3_q28x5_2': 'POLITICIAN VISITED R. AT HOME/WORK DURING CAMPAIGN: OEVP -w3_q28x5_2',\n",
       " 'w3_q28x5_3': 'POLITICIAN VISITED R. AT HOME/WORK DURING CAMPAIGN: FPOE -w3_q28x5_3',\n",
       " 'w3_q28x5_4': 'POLITICIAN VISITED R. AT HOME/WORK DURING CAMPAIGN: THE GREENS -w3_q28x5_4',\n",
       " 'w3_q28x5_5': 'POLITICIAN VISITED R. AT HOME/WORK DURING CAMPAIGN: NEOS -w3_q28x5_5',\n",
       " 'w3_q28x5_6': 'POLITICIAN VISITED R. AT HOME/WORK DURING CAMPAIGN: LIST PETER PILZ -w3_q28x5_6',\n",
       " 'w3_q28x5_7': 'POLITICIAN VISITED R. AT HOME/WORK DURING CAMPAIGN: OTHER PARTY -w3_q28x5_7',\n",
       " 'w3_q28x5_8': 'POLITICIAN VISITED R. AT HOME/WORK DURING CAMPAIGN: DONT KNOW -w3_q28x5_8',\n",
       " 'w3_q28x5_9': 'POLITICIAN VISITED R. AT HOME/WORK DURING CAMPAIGN: REFUSED -w3_q28x5_9',\n",
       " 'w3_q28x6_1': 'R. SAW TV ADS DURING CAMPAIGN: SPOE -w3_q28x6_1',\n",
       " 'w3_q28x6_2': 'R. SAW TV ADS DURING CAMPAIGN: OEVP -w3_q28x6_2',\n",
       " 'w3_q28x6_3': 'R. SAW TV ADS DURING CAMPAIGN: FPOE -w3_q28x6_3',\n",
       " 'w3_q28x6_4': 'R. SAW TV ADS DURING CAMPAIGN: THE GREENS -w3_q28x6_4',\n",
       " 'w3_q28x6_5': 'R. SAW TV ADS DURING CAMPAIGN: NEOS -w3_q28x6_5',\n",
       " 'w3_q28x6_6': 'R. SAW TV ADS DURING CAMPAIGN: LIST PETER PILZ -w3_q28x6_6',\n",
       " 'w3_q28x6_7': 'R. SAW TV ADS DURING CAMPAIGN: OTHER PARTY -w3_q28x6_7',\n",
       " 'w3_q28x6_8': 'R. SAW TV ADS DURING CAMPAIGN: DONT KNOW -w3_q28x6_8',\n",
       " 'w3_q28x6_9': 'R. SAW TV ADS DURING CAMPAIGN: REFUSED -w3_q28x6_9',\n",
       " 'w3_source': 'SOURCE: -w3_source'}"
      ]
     },
     "execution_count": 19,
     "metadata": {},
     "output_type": "execute_result"
    }
   ],
   "source": [
    "dict"
   ]
  },
  {
   "cell_type": "code",
   "execution_count": 20,
   "metadata": {
    "scrolled": true
   },
   "outputs": [
    {
     "data": {
      "text/plain": [
       "(3846, 24)"
      ]
     },
     "execution_count": 20,
     "metadata": {},
     "output_type": "execute_result"
    }
   ],
   "source": [
    "df.rename(columns=dict, inplace=True) \n",
    "pol = list(dict.values())\n",
    "X_political = df[df.columns.intersection(pol)]\n",
    "X_political.shape"
   ]
  },
  {
   "cell_type": "markdown",
   "metadata": {},
   "source": [
    "checking for NaN"
   ]
  },
  {
   "cell_type": "code",
   "execution_count": 21,
   "metadata": {},
   "outputs": [
    {
     "name": "stdout",
     "output_type": "stream",
     "text": [
      "SOURCE: -w1_source                                                                        0\n",
      "YOUNG VOTER (YOUNGER THAN 21) -w1_jw                                                      0\n",
      "voting_age_awareness -w1_q20                                                              3\n",
      "UNION MEMBERSHIP -w1_sd17                                                                38\n",
      "CLOSENESS TO A POLITICAL PARTY: -w1_q13                                                  50\n",
      "DIRECT ELECTION OF CHANCELLOR -w1_q26                                                   149\n",
      "VOTE CHOICE NATIONAL ELECTION 2013: -w1_q9                                              342\n",
      "PARTY CHOICE: PROSPECTIVE -w1_q24                                                       444\n",
      "PARTY R. FEELS CLOSER TO: -w1_q15                                                      1321\n",
      "TELEPHONE MODE -w1_mode                                                                1434\n",
      "CLOSER TO ONE PARTY THAN TO ANOTHER -w1_q14                                            1901\n",
      "YOUNG VOTERS: WATCHED TV DEBATE -w1_q28x1                                              3399\n",
      "YOUNG VOTERS: SCHOOL: TALKED ABOUT THE NATIONAL ELECTION -w1_q29x5                     3400\n",
      "YOUNG VOTERS: SCHOOL: PARTICIPATED IN A PROJECT ABOUT POLITICS -w1_q29x4               3400\n",
      "YOUNG VOTERS: SCHOOL: DISCUSSED ABOUT VOTING WITH 16 -w1_q29x2                         3400\n",
      "YOUNG VOTERS: VISITED A YOUTH CENTER -w1_q28x3                                         3400\n",
      "YOUNG VOTERS: SCHOOL: PARTICIPATED IN SCHOOL DEMOCRACY -w1_q29x3                       3401\n",
      "YOUNG VOTERS: HEARD OF THE PARLIAMENTS DEMOCRACY WORKSHOPS -w1_q28x5                   3401\n",
      "YOUNG VOTERS: VISITED THE PARLIAMENT -w1_q28x2                                         3401\n",
      "YOUNG VOTERS: LIVES WITH PARENTS/PARTENT IN A HOUSEHOLD -w1_q31                        3401\n",
      "YOUNG VOTERS: SCHOOL: DISCUSSED ACTIVELY ABOUT AUSTRIAN DOMESTIC POLITICS -w1_q29x1    3401\n",
      "YOUNG VOTERS: PARTICIPATED IN A YOUTH PARLIAMENT -w1_q28x4                             3402\n",
      "YOUNG VOTERS: PARTICIPATED IN THE PARLIAMENTS DEMOCRACY WORKSHOP -w1_q28x6             3404\n",
      "PARTY CHOICE: HYPOTHETICAL -w1_q25                                                     3682\n",
      "dtype: int64\n"
     ]
    }
   ],
   "source": [
    "X_political_NaN = X_political.isnull().sum().sort_values(ascending=True)\n",
    "\n",
    "with pd.option_context('display.max_rows', 300, 'display.max_columns', None):\n",
    "    print(X_political_NaN)"
   ]
  },
  {
   "cell_type": "markdown",
   "metadata": {},
   "source": [
    "dropping columns with more than 55% of NaN"
   ]
  },
  {
   "cell_type": "code",
   "execution_count": 22,
   "metadata": {},
   "outputs": [],
   "source": [
    "X_political = X_political.dropna(thresh=len(X_political)*0.45, axis='columns')"
   ]
  },
  {
   "cell_type": "code",
   "execution_count": 23,
   "metadata": {},
   "outputs": [
    {
     "data": {
      "text/plain": [
       "(3846, 11)"
      ]
     },
     "execution_count": 23,
     "metadata": {},
     "output_type": "execute_result"
    }
   ],
   "source": [
    "X_political.shape"
   ]
  },
  {
   "cell_type": "code",
   "execution_count": 24,
   "metadata": {},
   "outputs": [],
   "source": [
    "pol_cols = X_political.columns"
   ]
  },
  {
   "cell_type": "code",
   "execution_count": 25,
   "metadata": {},
   "outputs": [],
   "source": [
    "X_political_ohe = pd.get_dummies(X_political, columns=pol_cols, dummy_na=True, prefix_sep='_')"
   ]
  },
  {
   "cell_type": "code",
   "execution_count": 26,
   "metadata": {},
   "outputs": [],
   "source": [
    "X_political_ohe = X_political_ohe[X_political_ohe.columns.drop(list(X_political_ohe.filter(regex='nan')))]"
   ]
  },
  {
   "cell_type": "markdown",
   "metadata": {},
   "source": [
    "168 columns dropped due to NaN at this section (169 total)"
   ]
  },
  {
   "cell_type": "markdown",
   "metadata": {},
   "source": [
    "## encoding of ordinal features\n",
    "\n",
    "##### next features need only its names to be changed, data format is ok (like PTV is already ordinal from 1 to 10 in initial data)"
   ]
  },
  {
   "cell_type": "code",
   "execution_count": 27,
   "metadata": {},
   "outputs": [],
   "source": [
    "#is this cell data is already ordinal\n",
    "dict_names = {'w1_q18x1':'LIKE-DISLIKE CHRISTIAN KERN: -w1_q18x1',\n",
    "'w1_q18x2':'LIKE-DISLIKE SEBASTIAN KURZ: -w1_q18x2',\n",
    "'w1_q18x3':'LIKE-DISLIKE HEINZ-CHRISTIAN STRACHE: -w1_q18x3',\n",
    "'w1_q18x4':'LIKE-DISLIKE ULRIKE LUNACEK: -w1_q18x4',\n",
    "'w1_q18x5':'LIKE-DISLIKE MATTHIAS STROLZ: -w1_q18x5',\n",
    "'w2_q12x6':'LIKE-DISLIKE PETER PILZ: -w2_q12x6',\n",
    "'w2_q12x1':'LIKE-DISLIKE CHRISTIAN KERN: -w2_q12x1',\n",
    "'w2_q12x2':'LIKE-DISLIKE SEBASTIAN KURZ: -w2_q12x2',\n",
    "'w2_q12x3':'LIKE-DISLIKE HEINZ-CHRISTIAN STRACHE: -w2_q12x3',\n",
    "'w2_q12x4':'LIKE-DISLIKE ULRIKE LUNACEK: -w2_q12x4',\n",
    "'w2_q12x5':'LIKE-DISLIKE MATTHIAS STROLZ: -w2_q12x5',\n",
    "'w1_q11x1':'LEFT-RIGHT PLACEMENT SPOE: -w1_q11x1',\n",
    "'w1_q11x2':'LEFT-RIGHT PLACEMENT OEVP: -w1_q11x2',\n",
    "'w1_q11x3':'LEFT-RIGHT PLACEMENT FPOE: -w1_q11x3',\n",
    "'w1_q11x4':'LEFT-RIGHT PLACEMENT THE GREENS: -w1_q11x4',\n",
    "'w1_q11x5':'LEFT-RIGHT PLACEMENT NEOS: -w1_q11x5',\n",
    "'w1_q11x6':'LEFT-RIGHT PLACEMENT TEAM STRONACH: -w1_q11x6',\n",
    "'w1_q12':'LEFT-RIGHT SELF-PLACEMENT: -w1_q12',\n",
    "'w1_q22x1':'PTV: SPOE -w1_q22x1',\n",
    "'w1_q22x2':'PTV: LIST SEBASTIAN KURZ - THE NEW PEOPLES PARTY -w1_q22x2',\n",
    "'w1_q22x3':'PTV: FPOE -w1_q22x3',\n",
    "'w1_q22x4':'PTV: THE GREENS -w1_q22x4',\n",
    "'w1_q22x5':'PTV: NEOS -w1_q22x5',\n",
    "'w1_q22x6':'PTV: TEAM STRONACH -w1_q22x6',\n",
    "'w2_q13x6':'PTV: LIST PETER PILZ -w2_q13x6',\n",
    "'w2_q13x1':'PTV: SPOE -w2_q13x1',\n",
    "'w2_q13x2':'PTV: LIST SEBASTIAN KURZ - THE NEW PEOPLES PARTY -w2_q13x2',\n",
    "'w2_q13x3':'PTV: FPOE -w2_q13x3',\n",
    "'w2_q13x4':'PTV: THE GREENS -w2_q13x4',\n",
    "'w2_q13x5':'PTV: NEOS -w2_q13x5',\n",
    "'w2_q15':'PROBABILITY TO VOTE -w2_q15',\n",
    "'w1_q23':'PROBABILITY TO VOTE -w1_q23',\n",
    "'w2_q4x1':'ASSESSMENT OF POLIT. SITUATION: CONFIDENT -w2_q4x1', \n",
    "'w2_q4x2':'ASSESSMENT OF POLIT. SITUATION: WORRIED -w2_q4x2',\n",
    "'w2_q4x3':'ASSESSMENT OF POLIT. SITUATION: UPSET -w2_q4x3',\n",
    "'w2_q4x1':'ASSESSMENT OF POLIT. SITUATION CONFIDENT: -w2_q4x1',\n",
    "'w2_q4x2':'ASSESSMENT OF POLIT. SITUATION WORRIED: -w2_q4x2',\n",
    "'w2_q4x3':'ASSESSMENT OF POLIT. SITUATION UPSET: -w2_q4x3',\n",
    "'w2_q19x1':'LIKELIHOOD OF COALITION: SPOE-OEVP -w2_q19x1',\n",
    "'w2_q19x2':'LIKELIHOOD OF COALITION: OEVP-FPOE -w2_q19x2',\n",
    "'w2_q19x3':'LIKELIHOOD OF COALITION: SPOE-FPOE -w2_q19x3',\n",
    "'w2_q23':'PREFERRED COALITION: OTHER COALITION -w2_q23',\n",
    "'w2_q24':'LIKELIHOOD OF COALITION: OTHER COALITION -w2_q24',\n",
    "'w2_q25x1':'LIKELIHOOD OF ENTERING PARLIAMENT: THE GREENS -w2_q25x1',\n",
    "'w2_q25x2':'LIKELIHOOD OF ENTERING PARLIAMENT: NEOS -w2_q25x2',\n",
    "'w2_q25x3':'LIKELIHOOD OF ENTERING PARLIAMENT: LIST PETER PILZ -w2_q25x3',\n",
    "'w3_q10':'POSITION TOWARDS EUROPEAN UNIFICATION -w3_q10', \n",
    "'w3_q23x1':'OPINION: VOTES ARE COUNTED FAIRLY -w3_q23x1',\n",
    "'w3_q23x2':'OPINION: TV NEWS FAVOR GOVERNING PARTIES -w3_q23x2',\n",
    "'w3_q23x3':'OPINION: ABSENTEE VOTES ARE MANIPULATED -w3_q23x3',\n",
    "'w3_q23x4':'OPINION: MEDIA PROVIDE FAIR COVERAGE OF THE ELECTIONS -w3_q23x4',\n",
    "'w3_q23x5':'OPINION: ELECTION AUTHORITIES ARE IMPARTIAL -w3_q23x5',\n",
    "'w3_q23x6':'OPINION: FOREIGN ORGANIZATIONS INTERFERE IN ELECTIONS -w3_q23x6',\n",
    "'w3_q23x7':'OPINION: SOCIAL MEDIA (FACEBOOK, TWITTER, ...) LEADS TO DISTORTION OF THE ELECTION -w3_q23x7', \n",
    "'w3_q25x1':'TRUST: NATIONAL COUNCIL -w3_q25x1',\n",
    "'w3_q25x2':'TRUST: PARTIES -w3_q25x2',\n",
    "'w3_q25x3':'TRUST: THE EUROPEAN UNION -w3_q25x3',\n",
    "'w3_q25x4':'TRUST: THE MEDIA -w3_q25x4',\n",
    "'w3_q25x5':'TRUST: THE CONSTITUTIONAL COURT -w3_q25x5'}\n",
    "df.rename(columns=dict_names, inplace=True)"
   ]
  },
  {
   "cell_type": "code",
   "execution_count": 28,
   "metadata": {},
   "outputs": [],
   "source": [
    "pol_names = list(dict_names.values())\n",
    "X_changed_names = df[df.columns.intersection(pol_names)]"
   ]
  },
  {
   "cell_type": "code",
   "execution_count": 29,
   "metadata": {},
   "outputs": [
    {
     "data": {
      "text/plain": [
       "(3846, 19)"
      ]
     },
     "execution_count": 29,
     "metadata": {},
     "output_type": "execute_result"
    }
   ],
   "source": [
    "X_changed_names.shape"
   ]
  },
  {
   "cell_type": "markdown",
   "metadata": {},
   "source": [
    "droping columns with more than 50% NaN for now, NaN values are replaced by mean (as well as 88 and 77 which are 'do not know')"
   ]
  },
  {
   "cell_type": "code",
   "execution_count": 30,
   "metadata": {},
   "outputs": [],
   "source": [
    "X_changed_names = X_changed_names.dropna(thresh=len(X_changed_names)*0.5, axis='columns')\n",
    "X_changed_names = replace_by_mean(X_changed_names)\n",
    "X_changed_names = X_changed_names.replace(88, 0)\n",
    "X_changed_names = X_changed_names.replace(77, 0)"
   ]
  },
  {
   "cell_type": "code",
   "execution_count": 31,
   "metadata": {},
   "outputs": [
    {
     "data": {
      "text/plain": [
       "(3846, 19)"
      ]
     },
     "execution_count": 31,
     "metadata": {},
     "output_type": "execute_result"
    }
   ],
   "source": [
    "X_changed_names.shape"
   ]
  },
  {
   "cell_type": "markdown",
   "metadata": {},
   "source": [
    "37 columns dropped at this section due to NaN (206 total)"
   ]
  },
  {
   "cell_type": "markdown",
   "metadata": {},
   "source": [
    "##### columns in the next cell need to be transformed as well as renamed\n",
    "(answers like strongly agree/agree/disagree/strongly disagree)"
   ]
  },
  {
   "cell_type": "code",
   "execution_count": 32,
   "metadata": {},
   "outputs": [],
   "source": [
    "dict_ord = {'w1_q3':'ECON. SITUATION AUSTRIA: RETROSPECTIVE (PAST 12 MONTHS) -w1_q3',\n",
    "'w1_q4':'PERSONAL FINANCIAL SITUATION RETROSPECITVE (PAST 12 MONTHS) -w1_q4',\n",
    "'w1_q5x1':'OPINION: POLITICS SHOULD FIGHT SOCIAL INEQUALITY -w1_q5x1',\n",
    "'w1_q5x2':'OPINION: WELFARE STATE MAKES PEOPLE IDLE AND LAZY -w1_q5x2',\n",
    "'w1_q5x3':'OPINION: FIGHT UNEMPLOYMENT, EVEN AT EXPENSE OF HIGH NATIONAL DEBT -w1_q5x3',\n",
    "'w1_q5x4':'OPINION: POLITICS SHOULD KEEP OUT OF ECONOMY -w1_q5x4',\n",
    "'w1_q5x5':'OPINION: INCOME DIFFERENCES ARE TOO LARGE IN AUSTRIA -w1_q5x5',\n",
    "'w1_q6':'SATISFACTION WITH DEMOCRACY: AUSTRIA -w1_q6',\n",
    "'w1_q7':'SATISFACTION WITH CURRENT FEDERAL GOVERNMENT (SPOE OEVP) -w1_q7',\n",
    "'w1_q8x1':'FEELING CLOSE TO: PLACE OF RESIDENCE -w1_q8x1',\n",
    "'w1_q8x2':'FEELING CLOSE TO: FEDERAL STATE -w1_q8x2',\n",
    "'w1_q8x3':'FEELING CLOSE TO: AUSTRIA -w1_q8x3',\n",
    "'w1_q8x4':'FEELING CLOSE TO: EUROPE -w1_q8x4',\n",
    "'w1_q10x1':'OPINION: IMMIGRANTS SHOULD ADAPT TO AUSTRIAN CUSTOMS -w1_q10x1',\n",
    "'w1_q10x2':'OPINION: IMMIGRANTS ENRICH AUSTRIAN CULTURE -w1_q10x2',\n",
    "'w1_q10x3':'OPINION: IMMIGRANTS ARE GOOD FOR THE AUSTRIAN ECONOMY -w1_q10x3',\n",
    "'w1_q10x4':'OPINION: IMMIGRANTS TAKE AWAY AUSTRIAN JOBS -w1_q10x4',\n",
    "'w1_q10x5':'OPINION: CRIME RATES INCREASE IN AUSTRIA BECAUSE OF IMMIGRANTS -w1_q10x5',\n",
    "'w1_q10x6':'OPINION: IMMIGRANTS PAY MORE INTO THE SOCIAL SECURITY SYSTEM -w1_q10x6',\n",
    "'w1_q16':'DEGREE OF CLOSENESS TO PARTY -w1_q16',\n",
    "'w3_q17':'VOTE CHOICE: TIME -w3_q17',\n",
    "'w1_q17x1':'OPINION: FAVOR WOMEN WITH EQUAL QUALIFICATION AT JOB APPLICATION -w1_q17x1',\n",
    "'w1_q17x2':'OPINION: POLICE AUTHORITIES SHOULD BE EXTENDED -w1_q17x2',\n",
    "'w1_q17x3':'OPINION: IMMIGRATION TO AUSTRIA ONLY IN EXCEPTIONAL CASES -w1_q17x3',\n",
    "'w1_q17x4':'OPINION: PROTECT ENVIRONMENT, EVEN IF LIFE BECOMES MORE EXPENSIVE -w1_q17x4',\n",
    "'w1_q17x5':'OPINION: TODAYS YOUTH WILL HAVE A BETTER LIFE THAN THEIR PARENTS -w1_q17x5',\n",
    "'w1_q19x1':'OPINION: COMPROMISES IN POLITICS MEANS BETRAYING ONES PRINCIPLES -w1_q19x1',\n",
    "'w1_q19x2':'OPINION: POLITICIANS ONLY CARE ABOUT THE INTERESTS OF THE RICH AND POWERFUL -w1_q19x2',\n",
    "'w1_q19x3':'OPINION: MOST POLITICIANS ARE TRUSTWORTHY -w1_q19x3',\n",
    "'w1_q19x4':'OPINION: THE PARTIES ARE THE MAIN PROBLEM IN AUSTRIA -w1_q19x4',\n",
    "'w1_q19x5':'OPINION: HAVE A STRONG LEADER IN GOVERNMENT WHO DECIDES ALONE -w1_q19x5',\n",
    "'w1_q19x6':'OPINION: THE PEOPLE SHOULD TAKE MOST IMPORTANT DECISIONS, NOT POLITICIANS -w1_q19x6',\n",
    "'w1_q19x7':'OPINION: PREFER INDEPENDENT CITIZEN INSTEAD OF A PARTY MEMBER -w1_q19x7',\n",
    "'w1_q19x8':'OPINION: CORPORATIONS AND NOT THE GOVERNMENT DECIDE OVER POLITICS -w1_q19x8',\n",
    "'w1_q27x1':'YOUNG VOTERS: POLITICAL INTEREST: FATHER -w1_q27x1',\n",
    "'w1_q27x2':'YOUNG VOTERS: POLITICAL INTEREST: MOTHER -w1_q27x2',\n",
    "'w1_q27x3':'YOUNG VOTERS: POLITICAL INTERST: FRIENDS -w1_q27x3',\n",
    "'w1_q30':'YOUNG VOTERS: SCHOOL: DISCUSSED ABOUT VOTING WITH 16: FUN -w1_q30',\n",
    "'w1_sd23':'CERTAINTY ABOUT PARTICIPATION IN FOLLOW UP SURVEY -w1_sd23',\n",
    "'w2_q1':'ATTENTIVENESS TO ELECTION CAMPAIGN -w2_q1',\n",
    "'w2_q6x1':'OPINION: PREFER BEING A CITIZEN OF AUSTRIA THAN OF A CITIZEN OF ANY OTHER COUNTRY -w2_q6x1',\n",
    "'w2_q6x2':'OPINION: WORLD WOULD BE BETTER IF OTHER PEOPLE WERE MORE LIKE AUSTRIANS -w2_q6x2',\n",
    "'w2_q6x3':'OPINION: OVERALL, AUSTRIA IS A BETTER COUNTRY THAN MOST OTHER COUNTRIES -w2_q6x3',\n",
    "'w2_q6x4':'OPINION: EVERYBODY SHOULD SUPPORT HIS COUNTRY, EVEN IF WHEN IT IS IN THE WRONG -w2_q6x4',\n",
    "'w2_q7x1':'TRUE AUSTRIAN: TO RESPECT POLITICAL INSTITUTIONS/LAWS -w2_q7x1',\n",
    "'w2_q7x2':'TRUE AUSTRIAN: TO HAVE AUSTRIAN ANCESTORS -w2_q7x2',\n",
    "'w2_q7x3':'TRUE AUSTRIAN: TO SPEAK GERMAN -w2_q7x3',\n",
    "'w2_q7x4':'TRUE AUSTRIAN: TO FOLLOW AUSTRIAN TRADITIONS/CUSTOMS -w2_q7x4',\n",
    "'w2_q7x5':'TRUE AUSTRIAN: TO BE CHRISTIAN -w2_q7x5',\n",
    "'w2_q8x1':'INFORMATION ON POLITICAL EVENTS: THROUGH TV -w2_q8x1',\n",
    "'w2_q8x2':'INFORMATION ON POLITICAL EVENTS: THROUGH NEWSPAPERS -w2_q8x2',\n",
    "'w2_q8x3':'INFORMATION ON POLITICAL EVENTS: THROUGH THE RADIO -w2_q8x3',\n",
    "'w2_q8x4':'INFORMATION ON POLITICAL EVENTS: THROUGH THE INTERNET -w2_q8x4',\n",
    "'w2_q8x5':'INFORMATION ON POLITICAL EVENTS: THROUGH SOCIAL MEDIA -w2_q8x5',\n",
    "'w2_q9x1':'DAYS PER WEEK: KRONEN ZEITUNG OR KRONE.AT -w2_q9x1',\n",
    "'w2_q9x2':'DAYS PER WEEK: DER STANDARD OR DERSTANDARD.AT -w2_q9x2',\n",
    "'w2_q9x3':'DAYS PER WEEK: DIE PRESSE OR DIEPRESSE.AT -w2_q9x3',\n",
    "'w2_q9x4':'DAYS PER WEEK: OESTERREICH OR OE24.AT -w2_q9x4',\n",
    "'w2_q9x5':'DAYS PER WEEK: HEUTE OR HEUTE.AT -w2_q9x5',\n",
    "'w2_q9x6':'DAYS PER WEEK: ORF.AT -w2_q9x6',\n",
    "'w2_q10x1':'DAYS PER WEEK  TV PROGRAMME: ZEIT IM BILD AT 19:30h -w2_q10x1',\n",
    "'w2_q10x2':'DAYS PER WEEK  TV PROGRAMME: ZIB 2 AT 22:00h -w2_q10x2',\n",
    "'w2_q10x3':'DAYS PER WEEK  TV PROGRAMME: ATV AKTUELL -w2_q10x3',\n",
    "'w2_q10x4':'DAYS PER WEEK  TV PROGRAMME: PULS 4/PRO 7/SAT1 AUSTRIA NEWS -w2_q10x4',\n",
    "'w2_q11x1':'ACTIVITY SOCIAL NETWORKS: READING POLIT. POSTINGS OF OTHERS -w2_q11x1',\n",
    "'w2_q11x2':'ACTIVITY SOCIAL NETWORKS: LIKE, SHARE OR RETWEET POLIT. POSTINGS -w2_q11x2',\n",
    "'w2_q11x3':'ACTIVITY SOCIAL NETWORKS: WRITE POSTS ON POLITICAL TOPICS -w2_q11x3',\n",
    "'w2_q14x1':'OPINION: IN GENERAL I KNOW QUITE A LOT ABOUT POLITICS -w2_q14x1',\n",
    "'w2_q14x2':'OPINION: POLITICIANS DO NOT CARE ABOUT WHAT PEOPLE LIKE ME THINK -w2_q14x2',\n",
    "'w2_q26x1':'OPINION: MUSLIMS HAVE FEWER CHANCES IN AUSTRIA -w2_q26x1',\n",
    "'w2_q26x2':'OPINION: MUSLIMS ARE TREATED WORSE IN AUSTRIA -w2_q26x2',\n",
    "'w2_q26x3':'OPINION: ANGRY WHEN MUSLIMS ARE DISCRIMINATED AGAINST BECAUSE OF BELIEFS -w2_q26x3',\n",
    "'w2_q26x4':'OPINION: FEELING LIKE A STRANGER DUE TO THE MANY MUSLIMS -w2_q26x4',\n",
    "'w2_q26x5':'OPINION: EUROPEAN AND MUSLIM LIFESTYLE ARE EASILY COMPATIBLE -w2_q26x5',\n",
    "'w3_q20':'VOTE CHOICE: EVALUATION (RETROSPECTIVE) -w3_q20',\n",
    "'w3_q24x1':'PRIDE IN AUSTRIA: HOW DEMOCRACY WORKS -w3_q24x1',\n",
    "'w3_q24x2':'PRIDE IN AUSTRIA: SOCIAL SECURITY SERVICES -w3_q24x2',\n",
    "'w3_q24x3':'PRIDE IN AUSTRIA: FAIR AND EQUAL TREATMENT OF ALL SOCIETAL GROUPS -w3_q24x3',\n",
    "'w3_q26x1':'OPINION: VIRTUES SUCH AS DISCIPLINE AND OBEDIENCE ARE OUTDATED -w3_q26x1',\n",
    "'w3_q26x2':'OPINION: SOCIETY MUST TAKE DRASTIC ACTION AGAINST CRIMINALS -w3_q26x2',\n",
    "'w3_q26x3':'OPINION: IT IS IMPORTANT TO PROTECT CRIMINALS RIGHTS -w3_q26x3',\n",
    "'w3_q26x4':'OPINION: THE COUNTRY NEEDS PEOPLE WHO RESIST TRADITIONS -w3_q26x4',\n",
    "'w3_q26x5':'OPINION: YOUNG PEOPLE SHOULD EMBRACE TRADITIONS MORE -w3_q26x5',\n",
    "'w3_q6':'ECON. SITUATION AUSTRIA: RETROSPECTIVE (PAST 12 MONTHS) -w3_q6',\n",
    "'w3_q7':'PERSONAL FINANCIAL SITUATION RETROSPECITVE (PAST 12 MONTHS) -w3_q7',\n",
    "'w3_q5x1':'OPINION: POLITICS SHOULD FIGHT SOCIAL INEQUALITY -w3_q5x1',\n",
    "'w3_q5x2':'OPINION: WELFARE STATE MAKES PEOPLE IDLE AND LAZY -w3_q5x2',\n",
    "'w3_q5x3':'OPINION: FIGHT UNEMPLOYMENT, EVEN AT EXPENSE OF HIGH NATIONAL DEBT -w3_q5x3',\n",
    "'w3_q5x4':'OPINION: POLITICS SHOULD KEEP OUT OF ECONOMY -w3_q5x4',\n",
    "'w3_q5x5':'OPINION: INCOME DIFFERENCES ARE TOO LARGE IN AUSTRIA -w3_q5x5',\n",
    "'w3_q2':'SATISFACTION WITH DEMOCRACY: AUSTRIA -w3_q2',\n",
    "'w3_q11x1':'OPINION: IMMIGRANTS SHOULD ADAPT TO AUSTRIAN CUSTOMS -w3_q11x1',\n",
    "'w3_q11x2':'OPINION: IMMIGRANTS ENRICH AUSTRIAN CULTURE -w3_q11x2',\n",
    "'w3_q11x3':'OPINION: IMMIGRANTS ARE GOOD FOR THE AUSTRIAN ECONOMY -w3_q11x3',\n",
    "'w3_q11x4':'OPINION: IMMIGRANTS TAKE AWAY AUSTRIAN JOBS -w3_q11x4',\n",
    "'w3_q11x5':'OPINION: CRIME RATES INCREASE IN AUSTRIA BECAUSE OF IMMIGRANTS -w3_q11x5',\n",
    "'w3_q11x6':'OPINION: IMMIGRANTS PAY MORE INTO THE SOCIAL SECURITY SYSTEM -w3_q11x6',\n",
    "'w3_q14x1':'OPINION: FAVOR WOMEN WITH EQUAL QUALIFICATION AT JOB APPLICATION -w3_q14x1',\n",
    "'w3_q14x2':'OPINION: POLICE AUTHORITIES SHOULD BE EXTENDED -w3_q14x2',\n",
    "'w3_q14x3':'OPINION: IMMIGRATION TO AUSTRIA ONLY IN EXCEPTIONAL CASES -w3_q14x3',\n",
    "'w3_q14x4':'OPINION: PROTECT ENVIRONMENT, EVEN IF LIFE BECOMES MORE EXPENSIVE -w3_q14x4',\n",
    "'w3_q14x5':'OPINION: TODAYS YOUTH WILL HAVE A BETTER LIFE THAN THEIR PARENTS -w3_q14x5',\n",
    "'w3_q8x1':'OPINION: COMPROMISES IN POLITICS MEANS BETRAYING ONES PRINCIPLES -w3_q8x1',\n",
    "'w3_q8x2':'OPINION: POLITICIANS ONLY CARE ABOUT THE INTERESTS OF THE RICH AND POWERFUL -w3_q8x2',\n",
    "'w3_q8x3':'OPINION: MOST POLITICIANS ARE TRUSTWORTHY -w3_q8x3',\n",
    "'w3_q8x4':'OPINION: THE PARTIES ARE THE MAIN PROBLEM IN AUSTRIA -w3_q8x4',\n",
    "'w3_q8x5':'OPINION: HAVE A STRONG LEADER IN GOVERNMENT WHO DECIDES ALONE -w3_q8x5',\n",
    "'w3_q8x6':'OPINION: THE PEOPLE SHOULD TAKE MOST IMPORTANT DECISIONS, NOT POLITICIANS -w3_q8x6',\n",
    "'w3_q8x7':'OPINION: PREFER INDEPENDENT CITIZEN INSTEAD OF A PARTY MEMBER -w3_q8x7',\n",
    "'w3_q8x8':'OPINION: CORPORATIONS AND NOT THE GOVERNMENT DECIDE OVER POLITICS -w3_q8x8',\n",
    "'w3_q30x1':'YOUNG VOTERS: POLITICAL INTEREST: FATHER -w3_q30x1',\n",
    "'w3_q30x2':'YOUNG VOTERS: POLITICAL INTEREST: MOTHER -w3_q30x2',\n",
    "'w3_q30x3':'YOUNG VOTERS: POLITICAL INTERST: FRIENDS -w3_q30x3',\n",
    "'w3_q35':'YOUNG VOTERS: SCHOOL: DISCUSSED ABOUT VOTING WITH 16: FUN -w3_q35'}"
   ]
  },
  {
   "cell_type": "code",
   "execution_count": 33,
   "metadata": {},
   "outputs": [
    {
     "data": {
      "text/plain": [
       "(3846, 38)"
      ]
     },
     "execution_count": 33,
     "metadata": {},
     "output_type": "execute_result"
    }
   ],
   "source": [
    "df.rename(columns=dict_ord, inplace=True) \n",
    "pol_ord = list(dict_ord.values())\n",
    "X_political_ord = df[df.columns.intersection(pol_ord)]\n",
    "X_political_ord.shape"
   ]
  },
  {
   "cell_type": "code",
   "execution_count": 34,
   "metadata": {},
   "outputs": [
    {
     "name": "stdout",
     "output_type": "stream",
     "text": [
      "FEELING CLOSE TO: AUSTRIA -w1_q8x3                                                         10\n",
      "FEELING CLOSE TO: PLACE OF RESIDENCE -w1_q8x1                                              11\n",
      "FEELING CLOSE TO: FEDERAL STATE -w1_q8x2                                                   13\n",
      "ECON. SITUATION AUSTRIA: RETROSPECTIVE (PAST 12 MONTHS) -w1_q3                             15\n",
      "FEELING CLOSE TO: EUROPE -w1_q8x4                                                          16\n",
      "PERSONAL FINANCIAL SITUATION RETROSPECITVE (PAST 12 MONTHS) -w1_q4                         17\n",
      "OPINION: IMMIGRANTS ENRICH AUSTRIAN CULTURE -w1_q10x2                                      19\n",
      "OPINION: FAVOR WOMEN WITH EQUAL QUALIFICATION AT JOB APPLICATION -w1_q17x1                 19\n",
      "OPINION: CRIME RATES INCREASE IN AUSTRIA BECAUSE OF IMMIGRANTS -w1_q10x5                   19\n",
      "OPINION: TODAYS YOUTH WILL HAVE A BETTER LIFE THAN THEIR PARENTS -w1_q17x5                 19\n",
      "OPINION: PROTECT ENVIRONMENT, EVEN IF LIFE BECOMES MORE EXPENSIVE -w1_q17x4                20\n",
      "OPINION: IMMIGRANTS TAKE AWAY AUSTRIAN JOBS -w1_q10x4                                      20\n",
      "SATISFACTION WITH DEMOCRACY: AUSTRIA -w1_q6                                                20\n",
      "OPINION: INCOME DIFFERENCES ARE TOO LARGE IN AUSTRIA -w1_q5x5                              21\n",
      "OPINION: WELFARE STATE MAKES PEOPLE IDLE AND LAZY -w1_q5x2                                 21\n",
      "OPINION: IMMIGRANTS SHOULD ADAPT TO AUSTRIAN CUSTOMS -w1_q10x1                             22\n",
      "OPINION: POLICE AUTHORITIES SHOULD BE EXTENDED -w1_q17x2                                   22\n",
      "OPINION: IMMIGRATION TO AUSTRIA ONLY IN EXCEPTIONAL CASES -w1_q17x3                        23\n",
      "OPINION: IMMIGRANTS ARE GOOD FOR THE AUSTRIAN ECONOMY -w1_q10x3                            24\n",
      "OPINION: POLITICS SHOULD FIGHT SOCIAL INEQUALITY -w1_q5x1                                  27\n",
      "OPINION: THE PEOPLE SHOULD TAKE MOST IMPORTANT DECISIONS, NOT POLITICIANS -w1_q19x6        28\n",
      "OPINION: FIGHT UNEMPLOYMENT, EVEN AT EXPENSE OF HIGH NATIONAL DEBT -w1_q5x3                29\n",
      "OPINION: POLITICIANS ONLY CARE ABOUT THE INTERESTS OF THE RICH AND POWERFUL -w1_q19x2      30\n",
      "OPINION: POLITICS SHOULD KEEP OUT OF ECONOMY -w1_q5x4                                      30\n",
      "OPINION: MOST POLITICIANS ARE TRUSTWORTHY -w1_q19x3                                        32\n",
      "CERTAINTY ABOUT PARTICIPATION IN FOLLOW UP SURVEY -w1_sd23                                 32\n",
      "OPINION: HAVE A STRONG LEADER IN GOVERNMENT WHO DECIDES ALONE -w1_q19x5                    33\n",
      "SATISFACTION WITH CURRENT FEDERAL GOVERNMENT (SPOE OEVP) -w1_q7                            35\n",
      "OPINION: THE PARTIES ARE THE MAIN PROBLEM IN AUSTRIA -w1_q19x4                             36\n",
      "OPINION: PREFER INDEPENDENT CITIZEN INSTEAD OF A PARTY MEMBER -w1_q19x7                    36\n",
      "OPINION: IMMIGRANTS PAY MORE INTO THE SOCIAL SECURITY SYSTEM -w1_q10x6                     37\n",
      "OPINION: COMPROMISES IN POLITICS MEANS BETRAYING ONES PRINCIPLES -w1_q19x1                 39\n",
      "OPINION: CORPORATIONS AND NOT THE GOVERNMENT DECIDE OVER POLITICS -w1_q19x8                41\n",
      "DEGREE OF CLOSENESS TO PARTY -w1_q16                                                     1382\n",
      "YOUNG VOTERS: POLITICAL INTERST: FRIENDS -w1_q27x3                                       3397\n",
      "YOUNG VOTERS: POLITICAL INTEREST: MOTHER -w1_q27x2                                       3399\n",
      "YOUNG VOTERS: POLITICAL INTEREST: FATHER -w1_q27x1                                       3402\n",
      "YOUNG VOTERS: SCHOOL: DISCUSSED ABOUT VOTING WITH 16: FUN -w1_q30                        3457\n",
      "dtype: int64\n"
     ]
    }
   ],
   "source": [
    "X_political_NaN = X_political_ord.isnull().sum().sort_values(ascending=True)\n",
    "\n",
    "with pd.option_context('display.max_rows', 300, 'display.max_columns', None):\n",
    "    print(X_political_NaN)"
   ]
  },
  {
   "cell_type": "markdown",
   "metadata": {},
   "source": [
    "some columns contain ~2% of NaN, some just consist of NaN, so I drop columns with more than 50% NaN for now"
   ]
  },
  {
   "cell_type": "code",
   "execution_count": 35,
   "metadata": {},
   "outputs": [],
   "source": [
    "X_political_ord = X_political_ord.dropna(thresh=len(X_political_ord)*0.5, axis='columns')"
   ]
  },
  {
   "cell_type": "markdown",
   "metadata": {},
   "source": [
    "I replace NaN with text value 0 because encoder needs data to be either string or int"
   ]
  },
  {
   "cell_type": "code",
   "execution_count": 36,
   "metadata": {},
   "outputs": [
    {
     "data": {
      "text/plain": [
       "(3846, 34)"
      ]
     },
     "execution_count": 36,
     "metadata": {},
     "output_type": "execute_result"
    }
   ],
   "source": [
    "X_political_ord.shape"
   ]
  },
  {
   "cell_type": "code",
   "execution_count": 37,
   "metadata": {},
   "outputs": [],
   "source": [
    "X_political_ord = X_political_ord.fillna(X_political_ord.mode().iloc[0])\n",
    "#X_political_ord = X_political_ord.fillna(value='0')\n",
    "X_political_ord_colnames = X_political_ord.columns"
   ]
  },
  {
   "cell_type": "markdown",
<<<<<<< HEAD:notebooks/Multi_survey_Data_preparation.ipynb
   "metadata": {},
   "source": [
    "manual ordinal enconing (I couldn't find proper way to make it via scikit-learn)"
   ]
  },
  {
   "cell_type": "code",
   "execution_count": 35,
=======
>>>>>>> cf789750c838d826f0ebd80d142ee6563067cbb5:notebooks/multi/Multi_survey_Data_preparation.ipynb
   "metadata": {},
   "source": [
<<<<<<< HEAD:notebooks/Multi_survey_Data_preparation.ipynb
    "X_political_ord = X_political_ord.replace(['got much worse', 'completely disagree', 'very dissatisfied', 'not connected at all', 'not very close', 'not sure'], 0)\n",
    "X_political_ord = X_political_ord.replace(['got somewhat worse', 'somewhat disagree', 'fairly dissatisfied', 'less strongly connected', 'rather not'], 1)\n",
    "X_political_ord = X_political_ord.replace([\"don't know\"], 2)\n",
    "X_political_ord = X_political_ord.replace(['stayed the same', 'partly agree/disagree', 'somewhat close', 'rather sure', 'fairly satisfied'], 3)\n",
    "X_political_ord = X_political_ord.replace(['strongly connected', 'got somewhat better', 'somewhat agree'], 4)\n",
    "X_political_ord = X_political_ord.replace(['got much better', 'completely agree', 'very satisfied', 'very strongly connected', 'very close', 'sure'], 5)"
=======
    "manual ordinal enconing (I couldn't find proper way to make it via scikit-learn)"
>>>>>>> cf789750c838d826f0ebd80d142ee6563067cbb5:notebooks/multi/Multi_survey_Data_preparation.ipynb
   ]
  },
  {
   "cell_type": "code",
   "execution_count": 38,
   "metadata": {},
   "outputs": [],
   "source": [
<<<<<<< HEAD:notebooks/Multi_survey_Data_preparation.ipynb
    "#enc = OrdinalEncoder()\n",
    "#X_political_ord = enc.fit_transform(X_political_ord)"
   ]
  },
  {
   "cell_type": "code",
   "execution_count": 37,
   "metadata": {},
   "outputs": [],
   "source": [
    "#enc.categories_"
   ]
  },
  {
   "cell_type": "code",
   "execution_count": 38,
   "metadata": {},
   "outputs": [],
   "source": [
    "X_political_ord = pd.DataFrame(X_political_ord, columns=X_political_ord_colnames)"
=======
    "X_political_ord = X_political_ord.replace(['got much worse', 'completely disagree', 'very dissatisfied', 'not connected at all', 'not very close', 'not sure'], 0)\n",
    "X_political_ord = X_political_ord.replace(['got somewhat worse', 'somewhat disagree', 'fairly dissatisfied', 'less strongly connected', 'rather not'], 1)\n",
    "X_political_ord = X_political_ord.replace([\"don't know\"], 2)\n",
    "X_political_ord = X_political_ord.replace(['stayed the same', 'partly agree/disagree', 'somewhat close', 'rather sure', 'fairly satisfied'], 3)\n",
    "X_political_ord = X_political_ord.replace(['strongly connected', 'got somewhat better', 'somewhat agree'], 4)\n",
    "X_political_ord = X_political_ord.replace(['got much better', 'completely agree', 'very satisfied', 'very strongly connected', 'very close', 'sure'], 5)"
>>>>>>> cf789750c838d826f0ebd80d142ee6563067cbb5:notebooks/multi/Multi_survey_Data_preparation.ipynb
   ]
  },
  {
   "cell_type": "code",
   "execution_count": 39,
   "metadata": {},
   "outputs": [],
   "source": [
    "#enc = OrdinalEncoder()\n",
    "#X_political_ord = enc.fit_transform(X_political_ord)"
   ]
  },
  {
   "cell_type": "code",
   "execution_count": 40,
   "metadata": {},
   "outputs": [],
   "source": [
    "#enc.categories_"
   ]
  },
  {
   "cell_type": "code",
   "execution_count": 41,
   "metadata": {},
   "outputs": [],
   "source": [
    "X_political_ord = pd.DataFrame(X_political_ord, columns=X_political_ord_colnames)"
   ]
  },
  {
   "cell_type": "markdown",
   "metadata": {},
   "source": [
    "## creating new features (KNOWLEDGE)"
   ]
  },
  {
   "cell_type": "markdown",
   "metadata": {},
   "source": [
    "whether person knows PARLIAMENTARY THRESHOLD (1) or not (0)"
   ]
  },
  {
   "cell_type": "code",
<<<<<<< HEAD:notebooks/Multi_survey_Data_preparation.ipynb
   "execution_count": 39,
=======
   "execution_count": 42,
>>>>>>> cf789750c838d826f0ebd80d142ee6563067cbb5:notebooks/multi/Multi_survey_Data_preparation.ipynb
   "metadata": {},
   "outputs": [],
   "source": [
    "KNOWLEDGE_PARLIAMENTARY_THRESHOLD = df['w1_q21']\n",
    "KNOWLEDGE_PARLIAMENTARY_THRESHOLD = KNOWLEDGE_PARLIAMENTARY_THRESHOLD.replace(['4%'], 1)\n",
    "KNOWLEDGE_PARLIAMENTARY_THRESHOLD = KNOWLEDGE_PARLIAMENTARY_THRESHOLD.replace(['other share',\n",
    "                                                                               \"don't know\",\n",
    "                                                                               '5%',\n",
    "                                                                               '3%',\n",
    "                                                                               'x% (whereas x not 4%) or regional seat'], 0)\n",
    "KNOWLEDGE_PARLIAMENTARY_THRESHOLD = pd.DataFrame(KNOWLEDGE_PARLIAMENTARY_THRESHOLD)\n",
    "KNOWLEDGE_PARLIAMENTARY_THRESHOLD.columns = ['KNOWLEDGE_PARLIAMENTARY_THRESHOLD']"
   ]
  },
  {
   "cell_type": "markdown",
   "metadata": {},
   "source": [
    "here we have insignificant number of NaN (3 for voting_age_awareness and 30 for KNOWLEDGE_PARLIAMENTARY_THRESHOLD), replacing by mode"
   ]
  },
  {
   "cell_type": "code",
<<<<<<< HEAD:notebooks/Multi_survey_Data_preparation.ipynb
   "execution_count": 40,
=======
   "execution_count": 43,
>>>>>>> cf789750c838d826f0ebd80d142ee6563067cbb5:notebooks/multi/Multi_survey_Data_preparation.ipynb
   "metadata": {},
   "outputs": [],
   "source": [
    "def mode_int(column):\n",
    "    mode = int(stats.mode(column)[0])\n",
    "    return mode"
   ]
  },
  {
   "cell_type": "code",
<<<<<<< HEAD:notebooks/Multi_survey_Data_preparation.ipynb
   "execution_count": 41,
=======
   "execution_count": 44,
>>>>>>> cf789750c838d826f0ebd80d142ee6563067cbb5:notebooks/multi/Multi_survey_Data_preparation.ipynb
   "metadata": {
    "scrolled": true
   },
   "outputs": [],
   "source": [
    "#voting_age_awareness = voting_age_awareness.fillna(value=mode_int(voting_age_awareness))\n",
    "KNOWLEDGE_PARLIAMENTARY_THRESHOLD = KNOWLEDGE_PARLIAMENTARY_THRESHOLD.fillna(value=mode_int(KNOWLEDGE_PARLIAMENTARY_THRESHOLD))"
   ]
  },
  {
   "cell_type": "markdown",
   "metadata": {},
   "source": [
    "## converting to binary"
   ]
  },
  {
   "cell_type": "code",
   "execution_count": null,
   "metadata": {},
   "outputs": [],
   "source": []
  },
  {
   "cell_type": "code",
<<<<<<< HEAD:notebooks/Multi_survey_Data_preparation.ipynb
   "execution_count": 42,
=======
   "execution_count": 45,
>>>>>>> cf789750c838d826f0ebd80d142ee6563067cbb5:notebooks/multi/Multi_survey_Data_preparation.ipynb
   "metadata": {
    "scrolled": true
   },
   "outputs": [
    {
     "data": {
      "text/plain": [
       "(3846, 1)"
      ]
     },
<<<<<<< HEAD:notebooks/Multi_survey_Data_preparation.ipynb
     "execution_count": 42,
=======
     "execution_count": 45,
>>>>>>> cf789750c838d826f0ebd80d142ee6563067cbb5:notebooks/multi/Multi_survey_Data_preparation.ipynb
     "metadata": {},
     "output_type": "execute_result"
    }
   ],
   "source": [
    "dict_bin = {\n",
    "'w1_ew':'FIRST-TIME VOTER -w1_ew',\n",
    "'w3_ew':'FIRST-TIME VOTER -w3_ew',\n",
    "'w3_jw':'YOUNG VOTER (YOUNGER THAN 21) -w3_jw'}\n",
    "\n",
    "df.rename(columns=dict_bin, inplace=True) \n",
    "pol_bin = list(dict_bin.values())\n",
    "X_political_bin = df[df.columns.intersection(pol_bin)]\n",
    "X_political_bin.shape"
   ]
  },
  {
   "cell_type": "code",
<<<<<<< HEAD:notebooks/Multi_survey_Data_preparation.ipynb
   "execution_count": 43,
=======
   "execution_count": 46,
>>>>>>> cf789750c838d826f0ebd80d142ee6563067cbb5:notebooks/multi/Multi_survey_Data_preparation.ipynb
   "metadata": {},
   "outputs": [],
   "source": [
    "X_political_bin = X_political_bin.replace(to_replace = 'yes', value = 1)\n",
    "X_political_bin = X_political_bin.replace(to_replace = 'no', value = 0)"
   ]
  },
  {
   "cell_type": "code",
<<<<<<< HEAD:notebooks/Multi_survey_Data_preparation.ipynb
   "execution_count": 44,
=======
   "execution_count": 47,
>>>>>>> cf789750c838d826f0ebd80d142ee6563067cbb5:notebooks/multi/Multi_survey_Data_preparation.ipynb
   "metadata": {},
   "outputs": [],
   "source": [
    "X_political_bin = X_political_bin.dropna(thresh=len(X_political_bin)*0.5, axis='columns')\n",
    "X_political_bin = replace_by_mean(X_political_bin)"
   ]
  },
  {
   "cell_type": "markdown",
   "metadata": {},
   "source": [
    "counting \"don't know\", 'other', 'weiss nicht' answers, creating new feature: 'bad-quality answers'"
   ]
  },
  {
   "cell_type": "code",
   "execution_count": 48,
   "metadata": {},
   "outputs": [],
   "source": [
    "df[\"don't know\"] = (df == \"don't know\").sum(axis=1)\n",
    "df['other'] = (df == 'other').sum(axis=1)\n",
    "df['weiss nicht'] = (df == 'weiss nicht').sum(axis=1)\n",
    "\n",
    "\n",
    "col_list = [\"don't know\", 'other', 'weiss nicht']\n",
    "bad_quality_answers = df[col_list].sum(axis=1)\n",
    "bad_quality_answers = pd.DataFrame(bad_quality_answers)\n",
    "bad_quality_answers.columns = ['bad_quality_answers']"
   ]
  },
  {
   "cell_type": "markdown",
   "metadata": {},
   "source": [
    "## concatenating prepared dataframes and series of features\n",
    "* X_changed_names\n",
    "* X_political_ord \n",
    "* X_political_ohe\n",
    "* new created features (voting age and parlamentary threshold knowlenge, bad_quality_answers)\n",
    "* X_political_bin"
   ]
  },
  {
   "cell_type": "code",
<<<<<<< HEAD:notebooks/Multi_survey_Data_preparation.ipynb
   "execution_count": 45,
=======
   "execution_count": 49,
>>>>>>> cf789750c838d826f0ebd80d142ee6563067cbb5:notebooks/multi/Multi_survey_Data_preparation.ipynb
   "metadata": {},
   "outputs": [],
   "source": [
    "data_all = pd.concat([X_changed_names, X_political_ord, X_political_ohe, KNOWLEDGE_PARLIAMENTARY_THRESHOLD, X_political_bin, bad_quality_answers, X_personal, y], axis=1)"
   ]
  },
  {
   "cell_type": "code",
<<<<<<< HEAD:notebooks/Multi_survey_Data_preparation.ipynb
   "execution_count": 46,
   "metadata": {},
   "outputs": [
    {
     "data": {
      "text/plain": [
       "(3846, 233)"
      ]
     },
     "execution_count": 46,
     "metadata": {},
     "output_type": "execute_result"
    }
   ],
=======
   "execution_count": 50,
   "metadata": {},
   "outputs": [],
>>>>>>> cf789750c838d826f0ebd80d142ee6563067cbb5:notebooks/multi/Multi_survey_Data_preparation.ipynb
   "source": [
    "X_personal_features = X_personal.columns"
   ]
  },
  {
   "cell_type": "markdown",
   "metadata": {},
   "source": [
    "splitting by source into online and telephone mode"
   ]
  },
  {
   "cell_type": "code",
<<<<<<< HEAD:notebooks/Multi_survey_Data_preparation.ipynb
   "execution_count": 47,
=======
   "execution_count": 51,
>>>>>>> cf789750c838d826f0ebd80d142ee6563067cbb5:notebooks/multi/Multi_survey_Data_preparation.ipynb
   "metadata": {},
   "outputs": [],
   "source": [
    "data_all_phone = data_all.loc[data_all['SOURCE: -w1_source_telephone interview'] == 1]\n",
    "data_all_online = data_all.loc[data_all['SOURCE: -w1_source_telephone interview'] == 0]"
   ]
  },
  {
   "cell_type": "code",
<<<<<<< HEAD:notebooks/Multi_survey_Data_preparation.ipynb
   "execution_count": 48,
=======
   "execution_count": 52,
>>>>>>> cf789750c838d826f0ebd80d142ee6563067cbb5:notebooks/multi/Multi_survey_Data_preparation.ipynb
   "metadata": {},
   "outputs": [],
   "source": [
    "y_online = data_all_online['panelpat']\n",
    "y_phone = data_all_phone['panelpat']"
   ]
  },
  {
   "cell_type": "code",
<<<<<<< HEAD:notebooks/Multi_survey_Data_preparation.ipynb
   "execution_count": 49,
=======
   "execution_count": 53,
>>>>>>> cf789750c838d826f0ebd80d142ee6563067cbb5:notebooks/multi/Multi_survey_Data_preparation.ipynb
   "metadata": {},
   "outputs": [],
   "source": [
    "data_personal_phone = data_all_phone[X_personal_features]\n",
    "data_personal_online = data_all_online[X_personal_features]\n",
    "\n",
    "data_political_phone = data_all_phone.drop(X_personal_features, axis=1)\n",
    "data_political_online = data_all_online.drop(X_personal_features, axis=1)"
   ]
  },
  {
   "cell_type": "markdown",
   "metadata": {},
   "source": [
    "# saving datasets as csv files"
   ]
  },
  {
   "cell_type": "code",
<<<<<<< HEAD:notebooks/Multi_survey_Data_preparation.ipynb
   "execution_count": 50,
   "metadata": {},
   "outputs": [
    {
     "data": {
      "text/plain": [
       "Counter({'4%': 1027,\n",
       "         \"don't know\": 752,\n",
       "         'other share': 192,\n",
       "         '5%': 1536,\n",
       "         '3%': 306,\n",
       "         nan: 30,\n",
       "         'x% (whereas x not 4%) or regional seat': 3})"
      ]
     },
     "execution_count": 50,
     "metadata": {},
     "output_type": "execute_result"
    }
   ],
=======
   "execution_count": 54,
   "metadata": {},
   "outputs": [],
>>>>>>> cf789750c838d826f0ebd80d142ee6563067cbb5:notebooks/multi/Multi_survey_Data_preparation.ipynb
   "source": [
    "data_personal_phone = pd.concat([data_personal_phone, y_phone], axis=1)\n",
    "data_personal_online = pd.concat([data_personal_online, y_online], axis=1)"
   ]
  },
  {
   "cell_type": "code",
   "execution_count": 55,
   "metadata": {},
   "outputs": [],
   "source": [
    "data_personal_online.to_csv(r'../data/data_multi_personal_online.csv', index = False, header=True)\n",
    "data_personal_phone.to_csv(r'../data/data_multi_personal_phone.csv', index = False, header=True)\n",
    "data_political_phone.to_csv(r'../data/data_multi_political_phone.csv', index = False, header=True)\n",
    "data_political_online.to_csv(r'../data/data_multi_political_online.csv', index = False, header=True)"
   ]
  }
 ],
 "metadata": {
  "kernelspec": {
   "display_name": "Python 3",
   "language": "python",
   "name": "python3"
  },
  "language_info": {
   "codemirror_mode": {
    "name": "ipython",
    "version": 3
   },
   "file_extension": ".py",
   "mimetype": "text/x-python",
   "name": "python",
   "nbconvert_exporter": "python",
   "pygments_lexer": "ipython3",
   "version": "3.8.3"
  }
 },
 "nbformat": 4,
 "nbformat_minor": 4
}
